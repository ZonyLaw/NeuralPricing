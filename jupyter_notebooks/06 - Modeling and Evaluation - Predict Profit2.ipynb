{
  "cells": [
    {
      "cell_type": "markdown",
      "metadata": {
        "id": "0aStgWSO0E0E"
      },
      "source": [
        "# Regression"
      ]
    },
    {
      "cell_type": "markdown",
      "metadata": {
        "id": "1eLEkw5O0ECa"
      },
      "source": [
        "## Objectives\n",
        "\n",
        "*   Fit and evaluate a regression model to predict profit and loss given the position recommended (ie. buy and sell)\n",
        "\n",
        "\n",
        "## Inputs\n",
        "\n",
        "* C:\\Users\\sunny\\Desktop\\Development\\python\\NeuralPricing\\Input\\USDJPY_prices.csv\n",
        "\n",
        "## Outputs\n",
        "\n",
        "* Train set (features and target)\n",
        "* Test set (features and target)\n",
        "* ML pipeline to predict tenure\n",
        "* labels map\n",
        "* Feature Importance Plot\n",
        "\n"
      ]
    },
    {
      "cell_type": "markdown",
      "metadata": {
        "id": "9uWZXH9LwoQg"
      },
      "source": [
        "---"
      ]
    },
    {
      "cell_type": "markdown",
      "metadata": {
        "id": "-mavJ8DibrcQ"
      },
      "source": [
        "# 1. Load Data"
      ]
    },
    {
      "cell_type": "code",
      "execution_count": 1,
      "metadata": {
        "id": "Xk7DU_ekbtX8"
      },
      "outputs": [],
      "source": [
        "# import sys\n",
        "# sys.path.append('..')  # Add the parent directory to the path\n",
        "\n",
        "import pandas as pd\n",
        "import numpy as np\n",
        "import os\n",
        "# from data_processing import main\n",
        "\n"
      ]
    },
    {
      "cell_type": "code",
      "execution_count": 2,
      "metadata": {},
      "outputs": [
        {
          "name": "stdout",
          "output_type": "stream",
          "text": [
            "c:/Users/sunny/Desktop/Development/python/NeuralPricing/untracked_files/data_processing.py\n",
            "c:\\Users\\sunny\\Desktop\\Development\\python\\NeuralPricing\\inputs\\USDJPY_prices.csv\n",
            "                   date     open     high      low    close     ma20_1  \\\n",
            "399 2023-01-30 16:00:00  130.317  130.480  130.290  130.349  129.96440   \n",
            "400 2023-01-30 17:00:00  130.346  130.417  130.306  130.411  129.99450   \n",
            "401 2023-01-30 18:00:00  130.415  130.490  130.343  130.423  130.02540   \n",
            "402 2023-01-30 19:00:00  130.422  130.610  130.397  130.557  130.06160   \n",
            "403 2023-01-30 20:00:00  130.555  130.558  130.420  130.463  130.08050   \n",
            "404 2023-01-30 21:00:00  130.463  130.469  130.400  130.440  130.09120   \n",
            "405 2023-01-30 22:00:00  130.417  130.446  130.343  130.378  130.10655   \n",
            "406 2023-01-30 23:00:00  130.367  130.533  130.350  130.481  130.13495   \n",
            "407 2023-01-31 00:00:00  130.487  130.506  130.268  130.299  130.17590   \n",
            "408 2023-01-31 01:00:00  130.301  130.310  130.100  130.130  130.20055   \n",
            "409 2023-01-31 02:00:00  130.133  130.201  130.059  130.182  130.23025   \n",
            "410 2023-01-31 03:00:00  130.181  130.266  130.140  130.243  130.26340   \n",
            "411 2023-01-31 04:00:00  130.243  130.404  130.163  130.312  130.27280   \n",
            "412 2023-01-31 05:00:00  130.311  130.350  130.133  130.184  130.28355   \n",
            "413 2023-01-31 06:00:00  130.183  130.290  130.140  130.253  130.30295   \n",
            "414 2023-01-31 07:00:00  130.248  130.309  130.037  130.147  130.30170   \n",
            "415 2023-01-31 08:00:00  130.148  130.406  130.071  130.387  130.31750   \n",
            "416 2023-01-31 09:00:00  130.386  130.432  130.228  130.390  130.33020   \n",
            "417 2023-01-31 10:00:00  130.391  130.484  130.330  130.396  130.33680   \n",
            "418 2023-01-31 11:00:00  130.393  130.470  130.310  130.434  130.34295   \n",
            "419 2023-01-31 12:00:00  130.435  130.496  130.330  130.434  130.34720   \n",
            "420 2023-01-31 13:00:00  130.430  130.442  129.798  129.890  130.32115   \n",
            "421 2023-01-31 14:00:00  129.891  129.974  129.760  129.842  130.29210   \n",
            "422 2023-01-31 15:00:00  129.840  130.219  129.730  130.037  130.26610   \n",
            "423 2023-01-31 16:00:00  130.033  130.230  130.000  130.177  130.25180   \n",
            "424 2023-01-31 17:00:00  130.175  130.370  130.170  130.192  130.23940   \n",
            "425 2023-01-31 18:00:00  130.195  130.232  130.090  130.137  130.22735   \n",
            "426 2023-01-31 19:00:00  130.138  130.205  130.050  130.175  130.21205   \n",
            "427 2023-01-31 20:00:00  130.161  130.240  130.120  130.135  130.20385   \n",
            "428 2023-01-31 21:00:00  130.134  130.192  130.076  130.101  130.20240   \n",
            "429 2023-01-31 22:00:00  130.106  130.106  129.974  130.086  130.19760   \n",
            "430 2023-01-31 23:00:00  130.093  130.133  130.030  130.112  130.19105   \n",
            "431 2023-02-01 00:00:00  130.113  130.203  129.858  129.922  130.17155   \n",
            "432 2023-02-01 01:00:00  129.923  130.023  129.870  130.017  130.16320   \n",
            "433 2023-02-01 02:00:00  130.016  130.114  129.984  130.017  130.15140   \n",
            "434 2023-02-01 03:00:00  130.022  130.070  129.978  130.011  130.14460   \n",
            "435 2023-02-01 04:00:00  130.012  130.272  130.004  130.255  130.13800   \n",
            "436 2023-02-01 05:00:00  130.254  130.324  130.199  130.292  130.13310   \n",
            "437 2023-02-01 06:00:00  130.291  130.328  130.187  130.274  130.12700   \n",
            "438 2023-02-01 07:00:00  130.271  130.420  130.143  130.176  130.11410   \n",
            "439 2023-02-01 08:00:00  130.173  130.240  129.920  129.943  130.08955   \n",
            "440 2023-02-01 09:00:00  129.941  129.981  129.796  129.876  130.08885   \n",
            "441 2023-02-01 10:00:00  129.873  129.965  129.770  129.823  130.08790   \n",
            "442 2023-02-01 11:00:00  129.825  129.870  129.700  129.805  130.07630   \n",
            "443 2023-02-01 12:00:00  129.806  129.870  129.663  129.849  130.05990   \n",
            "444 2023-02-01 13:00:00  129.845  129.858  129.300  129.378  130.01920   \n",
            "445 2023-02-01 14:00:00  129.376  129.541  129.293  129.313  129.97800   \n",
            "446 2023-02-01 15:00:00  129.316  129.680  129.180  129.250  129.93175   \n",
            "447 2023-02-01 16:00:00  129.252  129.365  129.223  129.272  129.88860   \n",
            "448 2023-02-01 17:00:00  129.273  129.332  129.221  129.234  129.84525   \n",
            "\n",
            "        ma50_1    ma100_1  year     month  ...     ma20_4     ma50_4  \\\n",
            "399  129.97690  129.93137  2023   January  ...  129.84765  129.65058   \n",
            "400  129.97626  129.93118  2023   January  ...  129.84765  129.65058   \n",
            "401  129.97678  129.92474  2023   January  ...  129.84765  129.65058   \n",
            "402  129.98118  129.92938  2023   January  ...  129.84765  129.65058   \n",
            "403  129.98742  129.93323  2023   January  ...  129.88580  129.67824   \n",
            "404  129.99176  129.93745  2023   January  ...  129.88580  129.67824   \n",
            "405  129.99442  129.94035  2023   January  ...  129.88580  129.67824   \n",
            "406  129.99982  129.94472  2023   January  ...  129.88580  129.67824   \n",
            "407  130.00280  129.94619  2023   January  ...  129.91860  129.71494   \n",
            "408  130.00930  129.94601  2023   January  ...  129.91860  129.71494   \n",
            "409  130.02024  129.94633  2023   January  ...  129.91860  129.71494   \n",
            "410  130.03132  129.94666  2023   January  ...  129.91860  129.71494   \n",
            "411  130.04230  129.94644  2023   January  ...  129.95440  129.74390   \n",
            "412  130.04882  129.94559  2023   January  ...  129.95440  129.74390   \n",
            "413  130.05346  129.94497  2023   January  ...  129.95440  129.74390   \n",
            "414  130.05680  129.94135  2023   January  ...  129.95440  129.74390   \n",
            "415  130.06094  129.94076  2023   January  ...  130.01295  129.78314   \n",
            "416  130.06942  129.94029  2023   January  ...  130.01295  129.78314   \n",
            "417  130.07924  129.94034  2023   January  ...  130.01295  129.78314   \n",
            "418  130.09094  129.94037  2023   January  ...  130.01295  129.78314   \n",
            "419  130.10312  129.94229  2023   January  ...  130.07275  129.83120   \n",
            "420  130.10280  129.94268  2023   January  ...  130.07275  129.83120   \n",
            "421  130.10224  129.94127  2023   January  ...  130.07275  129.83120   \n",
            "422  130.10832  129.94474  2023   January  ...  130.07275  129.83120   \n",
            "423  130.11424  129.94951  2023   January  ...  130.09125  129.87088   \n",
            "424  130.11850  129.95187  2023   January  ...  130.09125  129.87088   \n",
            "425  130.12244  129.95628  2023   January  ...  130.09125  129.87088   \n",
            "426  130.12768  129.96215  2023   January  ...  130.09125  129.87088   \n",
            "427  130.13202  129.96707  2023   January  ...  130.11030  129.90104   \n",
            "428  130.13590  129.97194  2023   January  ...  130.11030  129.90104   \n",
            "429  130.14008  129.97747  2023   January  ...  130.11030  129.90104   \n",
            "430  130.14614  129.98322  2023   January  ...  130.11030  129.90104   \n",
            "431  130.14848  129.98648  2023  February  ...  130.08655  129.92972   \n",
            "432  130.15216  129.99076  2023  February  ...  130.08655  129.92972   \n",
            "433  130.15080  129.99589  2023  February  ...  130.08655  129.92972   \n",
            "434  130.14650  130.00342  2023  February  ...  130.08655  129.92972   \n",
            "435  130.15018  130.01381  2023  February  ...  130.08705  129.96618   \n",
            "436  130.15776  130.02464  2023  February  ...  130.08705  129.96618   \n",
            "437  130.17364  130.03352  2023  February  ...  130.08705  129.96618   \n",
            "438  130.18442  130.04218  2023  February  ...  130.08705  129.96618   \n",
            "439  130.19152  130.04923  2023  February  ...  130.10245  129.99242   \n",
            "440  130.19744  130.05473  2023  February  ...  130.10245  129.99242   \n",
            "441  130.19142  130.05959  2023  February  ...  130.10245  129.99242   \n",
            "442  130.18814  130.06283  2023  February  ...  130.10245  129.99242   \n",
            "443  130.18782  130.06325  2023  February  ...  130.09385  130.00842   \n",
            "444  130.17194  130.05744  2023  February  ...  130.09385  130.00842   \n",
            "445  130.15678  130.05380  2023  February  ...  130.09385  130.00842   \n",
            "446  130.13906  130.04808  2023  February  ...  130.09385  130.00842   \n",
            "447  130.11922  130.04326  2023  February  ...  130.06220  130.00942   \n",
            "448  130.09768  130.03691  2023  February  ...  130.06220  130.00942   \n",
            "\n",
            "       ma100_4  up_bb20_low_bb20_diff_4  close_ma20_4_diff_4  \\\n",
            "399  130.14386                 1.305959              0.50135   \n",
            "400  130.14386                 1.305959              0.50135   \n",
            "401  130.14386                 1.305959              0.50135   \n",
            "402  130.14386                 1.305959              0.50135   \n",
            "403  130.10938                 1.407667              0.57720   \n",
            "404  130.10938                 1.407667              0.57720   \n",
            "405  130.10938                 1.407667              0.57720   \n",
            "406  130.10938                 1.407667              0.57720   \n",
            "407  130.06891                 1.434413              0.38040   \n",
            "408  130.06891                 1.434413              0.38040   \n",
            "409  130.06891                 1.434413              0.38040   \n",
            "410  130.06891                 1.434413              0.38040   \n",
            "411  130.02531                 1.441750              0.35760   \n",
            "412  130.02531                 1.441750              0.35760   \n",
            "413  130.02531                 1.441750              0.35760   \n",
            "414  130.02531                 1.441750              0.35760   \n",
            "415  130.00710                 1.311242              0.37405   \n",
            "416  130.00710                 1.311242              0.37405   \n",
            "417  130.00710                 1.311242              0.37405   \n",
            "418  130.00710                 1.311242              0.37405   \n",
            "419  129.99050                 1.141356              0.36125   \n",
            "420  129.99050                 1.141356              0.36125   \n",
            "421  129.99050                 1.141356              0.36125   \n",
            "422  129.99050                 1.141356              0.36125   \n",
            "423  129.97399                 1.116517              0.08575   \n",
            "424  129.97399                 1.116517              0.08575   \n",
            "425  129.97399                 1.116517              0.08575   \n",
            "426  129.97399                 1.116517              0.08575   \n",
            "427  129.95835                 1.070669              0.02470   \n",
            "428  129.95835                 1.070669              0.02470   \n",
            "429  129.95835                 1.070669              0.02470   \n",
            "430  129.95835                 1.070669              0.02470   \n",
            "431  129.93610                 1.047603             -0.16455   \n",
            "432  129.93610                 1.047603             -0.16455   \n",
            "433  129.93610                 1.047603             -0.16455   \n",
            "434  129.93610                 1.047603             -0.16455   \n",
            "435  129.91581                 1.048914              0.16795   \n",
            "436  129.91581                 1.048914              0.16795   \n",
            "437  129.91581                 1.048914              0.16795   \n",
            "438  129.91581                 1.048914              0.16795   \n",
            "439  129.89946                 0.970369             -0.15945   \n",
            "440  129.89946                 0.970369             -0.15945   \n",
            "441  129.89946                 0.970369             -0.15945   \n",
            "442  129.89946                 0.970369             -0.15945   \n",
            "443  129.88005                 0.994423             -0.24485   \n",
            "444  129.88005                 0.994423             -0.24485   \n",
            "445  129.88005                 0.994423             -0.24485   \n",
            "446  129.88005                 0.994423             -0.24485   \n",
            "447  129.85575                 1.229131             -0.79020   \n",
            "448  129.85575                 1.229131             -0.79020   \n",
            "\n",
            "    close_ma50_4_diff_4 close_ma100_4_diff_4  ma20_4_ma50_4_diff_4  \\\n",
            "399             0.69842              0.20514               0.19707   \n",
            "400             0.69842              0.20514               0.19707   \n",
            "401             0.69842              0.20514               0.19707   \n",
            "402             0.69842              0.20514               0.19707   \n",
            "403             0.78476              0.35362               0.20756   \n",
            "404             0.78476              0.35362               0.20756   \n",
            "405             0.78476              0.35362               0.20756   \n",
            "406             0.78476              0.35362               0.20756   \n",
            "407             0.58406              0.23009               0.20366   \n",
            "408             0.58406              0.23009               0.20366   \n",
            "409             0.58406              0.23009               0.20366   \n",
            "410             0.58406              0.23009               0.20366   \n",
            "411             0.56810              0.28669               0.21050   \n",
            "412             0.56810              0.28669               0.21050   \n",
            "413             0.56810              0.28669               0.21050   \n",
            "414             0.56810              0.28669               0.21050   \n",
            "415             0.60386              0.37990               0.22981   \n",
            "416             0.60386              0.37990               0.22981   \n",
            "417             0.60386              0.37990               0.22981   \n",
            "418             0.60386              0.37990               0.22981   \n",
            "419             0.60280              0.44350               0.24155   \n",
            "420             0.60280              0.44350               0.24155   \n",
            "421             0.60280              0.44350               0.24155   \n",
            "422             0.60280              0.44350               0.24155   \n",
            "423             0.30612              0.20301               0.22037   \n",
            "424             0.30612              0.20301               0.22037   \n",
            "425             0.30612              0.20301               0.22037   \n",
            "426             0.30612              0.20301               0.22037   \n",
            "427             0.23396              0.17665               0.20926   \n",
            "428             0.23396              0.17665               0.20926   \n",
            "429             0.23396              0.17665               0.20926   \n",
            "430             0.23396              0.17665               0.20926   \n",
            "431            -0.00772             -0.01410               0.15683   \n",
            "432            -0.00772             -0.01410               0.15683   \n",
            "433            -0.00772             -0.01410               0.15683   \n",
            "434            -0.00772             -0.01410               0.15683   \n",
            "435             0.28882              0.33919               0.12087   \n",
            "436             0.28882              0.33919               0.12087   \n",
            "437             0.28882              0.33919               0.12087   \n",
            "438             0.28882              0.33919               0.12087   \n",
            "439            -0.04942              0.04354               0.11003   \n",
            "440            -0.04942              0.04354               0.11003   \n",
            "441            -0.04942              0.04354               0.11003   \n",
            "442            -0.04942              0.04354               0.11003   \n",
            "443            -0.15942             -0.03105               0.08543   \n",
            "444            -0.15942             -0.03105               0.08543   \n",
            "445            -0.15942             -0.03105               0.08543   \n",
            "446            -0.15942             -0.03105               0.08543   \n",
            "447            -0.73742             -0.58375               0.05278   \n",
            "448            -0.73742             -0.58375               0.05278   \n",
            "\n",
            "     ma50_4_ma100_4_diff_4  up_bb20_low_bb20_rel_diff_4  \n",
            "399               -0.49328                     0.883894  \n",
            "400               -0.49328                     0.883894  \n",
            "401               -0.49328                     0.883894  \n",
            "402               -0.49328                     0.883894  \n",
            "403               -0.43114                     0.910040  \n",
            "404               -0.43114                     0.910040  \n",
            "405               -0.43114                     0.910040  \n",
            "406               -0.43114                     0.910040  \n",
            "407               -0.35397                     0.765196  \n",
            "408               -0.35397                     0.765196  \n",
            "409               -0.35397                     0.765196  \n",
            "410               -0.35397                     0.765196  \n",
            "411               -0.28141                     0.748032  \n",
            "412               -0.28141                     0.748032  \n",
            "413               -0.28141                     0.748032  \n",
            "414               -0.28141                     0.748032  \n",
            "415               -0.22396                     0.785264  \n",
            "416               -0.22396                     0.785264  \n",
            "417               -0.22396                     0.785264  \n",
            "418               -0.22396                     0.785264  \n",
            "419               -0.15930                     0.816509  \n",
            "420               -0.15930                     0.816509  \n",
            "421               -0.15930                     0.816509  \n",
            "422               -0.15930                     0.816509  \n",
            "423               -0.10311                     0.576801  \n",
            "424               -0.10311                     0.576801  \n",
            "425               -0.10311                     0.576801  \n",
            "426               -0.10311                     0.576801  \n",
            "427               -0.05731                     0.523070  \n",
            "428               -0.05731                     0.523070  \n",
            "429               -0.05731                     0.523070  \n",
            "430               -0.05731                     0.523070  \n",
            "431               -0.00638                     0.342927  \n",
            "432               -0.00638                     0.342927  \n",
            "433               -0.00638                     0.342927  \n",
            "434               -0.00638                     0.342927  \n",
            "435                0.05037                     0.660118  \n",
            "436                0.05037                     0.660118  \n",
            "437                0.05037                     0.660118  \n",
            "438                0.05037                     0.660118  \n",
            "439                0.09296                     0.335681  \n",
            "440                0.09296                     0.335681  \n",
            "441                0.09296                     0.335681  \n",
            "442                0.09296                     0.335681  \n",
            "443                0.12837                     0.253777  \n",
            "444                0.12837                     0.253777  \n",
            "445                0.12837                     0.253777  \n",
            "446                0.12837                     0.253777  \n",
            "447                0.15367                     0.000000  \n",
            "448                0.15367                     0.000000  \n",
            "\n",
            "[50 rows x 41 columns]\n",
            "        ma20_1     ma50_1    ma100_1  year    month day  hr  4hr_tf  weekday  \\\n",
            "399  129.96440  129.97690  129.93137  2023  January  30  16      16        0   \n",
            "400  129.99450  129.97626  129.93118  2023  January  30  17      16        0   \n",
            "401  130.02540  129.97678  129.92474  2023  January  30  18      16        0   \n",
            "402  130.06160  129.98118  129.92938  2023  January  30  19      16        0   \n",
            "403  130.08050  129.98742  129.93323  2023  January  30  20      20        0   \n",
            "404  130.09120  129.99176  129.93745  2023  January  30  21      20        0   \n",
            "405  130.10655  129.99442  129.94035  2023  January  30  22      20        0   \n",
            "406  130.13495  129.99982  129.94472  2023  January  30  23      20        0   \n",
            "407  130.17590  130.00280  129.94619  2023  January  31   0       0        1   \n",
            "408  130.20055  130.00930  129.94601  2023  January  31   1       0        1   \n",
            "\n",
            "    weekday_name  ...     ma20_4     ma50_4    ma100_4  \\\n",
            "399       Monday  ...  129.84765  129.65058  130.14386   \n",
            "400       Monday  ...  129.84765  129.65058  130.14386   \n",
            "401       Monday  ...  129.84765  129.65058  130.14386   \n",
            "402       Monday  ...  129.84765  129.65058  130.14386   \n",
            "403       Monday  ...  129.88580  129.67824  130.10938   \n",
            "404       Monday  ...  129.88580  129.67824  130.10938   \n",
            "405       Monday  ...  129.88580  129.67824  130.10938   \n",
            "406       Monday  ...  129.88580  129.67824  130.10938   \n",
            "407      Tuesday  ...  129.91860  129.71494  130.06891   \n",
            "408      Tuesday  ...  129.91860  129.71494  130.06891   \n",
            "\n",
            "     up_bb20_low_bb20_diff_4  close_ma20_4_diff_4  close_ma50_4_diff_4  \\\n",
            "399                 1.305959              0.50135              0.69842   \n",
            "400                 1.305959              0.50135              0.69842   \n",
            "401                 1.305959              0.50135              0.69842   \n",
            "402                 1.305959              0.50135              0.69842   \n",
            "403                 1.407667              0.57720              0.78476   \n",
            "404                 1.407667              0.57720              0.78476   \n",
            "405                 1.407667              0.57720              0.78476   \n",
            "406                 1.407667              0.57720              0.78476   \n",
            "407                 1.434413              0.38040              0.58406   \n",
            "408                 1.434413              0.38040              0.58406   \n",
            "\n",
            "     close_ma100_4_diff_4  ma20_4_ma50_4_diff_4  ma50_4_ma100_4_diff_4  \\\n",
            "399               0.20514               0.19707               -0.49328   \n",
            "400               0.20514               0.19707               -0.49328   \n",
            "401               0.20514               0.19707               -0.49328   \n",
            "402               0.20514               0.19707               -0.49328   \n",
            "403               0.35362               0.20756               -0.43114   \n",
            "404               0.35362               0.20756               -0.43114   \n",
            "405               0.35362               0.20756               -0.43114   \n",
            "406               0.35362               0.20756               -0.43114   \n",
            "407               0.23009               0.20366               -0.35397   \n",
            "408               0.23009               0.20366               -0.35397   \n",
            "\n",
            "     up_bb20_low_bb20_rel_diff_4  \n",
            "399                     0.883894  \n",
            "400                     0.883894  \n",
            "401                     0.883894  \n",
            "402                     0.883894  \n",
            "403                     0.910040  \n",
            "404                     0.910040  \n",
            "405                     0.910040  \n",
            "406                     0.910040  \n",
            "407                     0.765196  \n",
            "408                     0.765196  \n",
            "\n",
            "[10 rows x 35 columns]\n"
          ]
        }
      ],
      "source": [
        "# Go one level up from the current working directory\n",
        "current_directory = os.getcwd()\n",
        "parent_directory = os.path.abspath(os.path.join(current_directory, '..'))\n",
        "input_folder = rf\"{parent_directory}\\inputs\\USDJPY_prices.csv\"\n",
        "output_folder = rf\"{parent_directory}\\outputs\"\n",
        "\n",
        "#this is to ensure the data_processing.py script gets imported\n",
        "data_path = rf\"{parent_directory}\\untracked_files\\data_processing.py\"\n",
        "data_path = data_path.replace(\"\\\\\", \"/\")\n",
        "print(data_path)\n",
        "%run \"{data_path}\"\n",
        "\n",
        "# %run \"C:\\Users\\sunny\\Desktop\\Development\\python\\NeuralPricing\\jupyter_notebooks\\data_processing.py\"\n",
        "\n",
        "#call on data_processing.py script main function to calculate all relevant data used in machine training.\n",
        "#Note to drop date before using.\n",
        "df = main(input_folder)\n",
        "# in case the original dataframe is needed.\n",
        "# ori_df = df.copy()\n",
        "df.drop(columns=['date', 'time', 'high', 'open', 'close', 'low'], inplace= True)\n",
        "print(df.head(10))"
      ]
    },
    {
      "cell_type": "code",
      "execution_count": 3,
      "metadata": {},
      "outputs": [
        {
          "name": "stdout",
          "output_type": "stream",
          "text": [
            "['year', 'month', 'day', 'weekday_name', 'bb_status_1']\n"
          ]
        }
      ],
      "source": [
        "#check which attributes are string content\n",
        "categorical_columns = df.select_dtypes(include=['object']).columns.tolist()\n",
        "print(categorical_columns)"
      ]
    },
    {
      "cell_type": "markdown",
      "metadata": {},
      "source": [
        "The following scale the PL by a 100 times!"
      ]
    },
    {
      "cell_type": "code",
      "execution_count": 99,
      "metadata": {},
      "outputs": [
        {
          "name": "stdout",
          "output_type": "stream",
          "text": [
            "399    -2800\n",
            "400    -2800\n",
            "401    -1600\n",
            "402    -2500\n",
            "403    -1100\n",
            "        ... \n",
            "4255    6600\n",
            "4256    7500\n",
            "4257    7000\n",
            "4258    5600\n",
            "4259    3400\n",
            "Name: pl_close_4_hr, Length: 3804, dtype: int32\n"
          ]
        }
      ],
      "source": [
        "# Convert to pips for the the profit and loss by applying 100 \n",
        "df['pl_close_4_hr'] = round(df['pl_close_4_hr'] * 100, 0).fillna(0).astype(int)\n",
        "print(df['pl_close_4_hr'])"
      ]
    },
    {
      "cell_type": "code",
      "execution_count": 4,
      "metadata": {},
      "outputs": [],
      "source": [
        "#output the data to a csv file for further external analysis\n",
        "df.to_csv(rf\"{output_folder}\\usdjpy_historical_prices.csv\",index=False)"
      ]
    },
    {
      "cell_type": "markdown",
      "metadata": {
        "id": "krjAk78Tbyhv"
      },
      "source": [
        "# MP Pipeline: Regressor"
      ]
    },
    {
      "cell_type": "markdown",
      "metadata": {},
      "source": [
        "## Create ML pipeline"
      ]
    },
    {
      "cell_type": "code",
      "execution_count": 171,
      "metadata": {
        "id": "C6keis6ao8LA"
      },
      "outputs": [],
      "source": [
        "from sklearn.pipeline import Pipeline\n",
        "\n",
        "# Feature Engineering\n",
        "from feature_engine.encoding import OrdinalEncoder\n",
        "from feature_engine.selection import SmartCorrelatedSelection\n",
        "\n",
        "# Feat Scaling\n",
        "from sklearn.preprocessing import StandardScaler\n",
        "\n",
        "# Feat Selection\n",
        "from sklearn.feature_selection import SelectFromModel\n",
        "\n",
        "# ML algorithms\n",
        "from sklearn.tree import DecisionTreeRegressor\n",
        "from xgboost import XGBRegressor\n",
        "from sklearn.ensemble import GradientBoostingRegressor, RandomForestRegressor\n",
        "from sklearn.linear_model import LinearRegression\n",
        "from sklearn.ensemble import AdaBoostRegressor\n",
        "from sklearn.ensemble import ExtraTreesRegressor\n",
        "\n",
        "\n",
        "def PipelineOptimization(model):\n",
        "    pipeline_base = Pipeline([\n",
        "\n",
        "        (\"OrdinalCategoricalEncoder\", OrdinalEncoder(encoding_method='arbitrary',\n",
        "                                                     variables=['bb_status_1', 'month', 'time', 'weekday_name'])),\n",
        "\n",
        "\n",
        "        (\"SmartCorrelatedSelection\", SmartCorrelatedSelection(variables=None,\n",
        "         method=\"spearman\", threshold=0.6, selection_method=\"variance\")),\n",
        "\n",
        "        (\"feat_scaling\", StandardScaler()),\n",
        "\n",
        "        (\"feat_selection\",  SelectFromModel(model)),\n",
        "\n",
        "        (\"model\", model),\n",
        "\n",
        "    ])\n",
        "\n",
        "    return pipeline_base\n"
      ]
    },
    {
      "cell_type": "markdown",
      "metadata": {
        "id": "lDmjjF3tHuCU"
      },
      "source": [
        "Custom Class for hyperparameter optimisation"
      ]
    },
    {
      "cell_type": "code",
      "execution_count": 172,
      "metadata": {
        "id": "NpTcVDtQ5RMc"
      },
      "outputs": [],
      "source": [
        "from sklearn.model_selection import GridSearchCV\n",
        "\n",
        "\n",
        "class HyperparameterOptimizationSearch:\n",
        "\n",
        "    def __init__(self, models, params):\n",
        "        self.models = models\n",
        "        self.params = params\n",
        "        self.keys = models.keys()\n",
        "        self.grid_searches = {}\n",
        "\n",
        "    def fit(self, X, y, cv, n_jobs, verbose=1, scoring=None, refit=False):\n",
        "        for key in self.keys:\n",
        "            print(f\"\\nRunning GridSearchCV for {key} \\n\")\n",
        "            model = PipelineOptimization(self.models[key])\n",
        "\n",
        "            params = self.params[key]\n",
        "            gs = GridSearchCV(model, params, cv=cv, n_jobs=n_jobs,\n",
        "                              verbose=verbose, scoring=scoring)\n",
        "            gs.fit(X, y)\n",
        "            self.grid_searches[key] = gs\n",
        "\n",
        "    def score_summary(self, sort_by='mean_score'):\n",
        "        def row(key, scores, params):\n",
        "            d = {\n",
        "                'estimator': key,\n",
        "                'min_score': min(scores),\n",
        "                'max_score': max(scores),\n",
        "                'mean_score': np.mean(scores),\n",
        "                'std_score': np.std(scores),\n",
        "            }\n",
        "            return pd.Series({**params, **d})\n",
        "\n",
        "        rows = []\n",
        "        for k in self.grid_searches:\n",
        "            params = self.grid_searches[k].cv_results_['params']\n",
        "            scores = []\n",
        "            for i in range(self.grid_searches[k].cv):\n",
        "                key = \"split{}_test_score\".format(i)\n",
        "                r = self.grid_searches[k].cv_results_[key]\n",
        "                scores.append(r.reshape(len(params), 1))\n",
        "\n",
        "            all_scores = np.hstack(scores)\n",
        "            for p, s in zip(params, all_scores):\n",
        "                rows.append((row(k, s, p)))\n",
        "\n",
        "        df = pd.concat(rows, axis=1).T.sort_values([sort_by], ascending=False)\n",
        "\n",
        "        columns = ['estimator', 'min_score',\n",
        "                   'mean_score', 'max_score', 'std_score']\n",
        "        columns = columns + [c for c in df.columns if c not in columns]\n",
        "\n",
        "        return df[columns], self.grid_searches\n"
      ]
    },
    {
      "cell_type": "markdown",
      "metadata": {
        "id": "LD6B3CuhiDMT"
      },
      "source": [
        "## Split Train Test Set"
      ]
    },
    {
      "cell_type": "code",
      "execution_count": 173,
      "metadata": {
        "id": "-pFzP2iGiIk1"
      },
      "outputs": [
        {
          "name": "stdout",
          "output_type": "stream",
          "text": [
            "* Train set: (3043, 34) (3043,) \n",
            "* Test set: (761, 34) (761,)\n"
          ]
        }
      ],
      "source": [
        "from sklearn.model_selection import train_test_split\n",
        "X_train, X_test, y_train, y_test = train_test_split(\n",
        "    df.drop(['pl_close_4_hr'], axis=1),\n",
        "    df['pl_close_4_hr'],\n",
        "    test_size=0.2,\n",
        "    random_state=0\n",
        ")\n",
        "\n",
        "print(\"* Train set:\", X_train.shape, y_train.shape,\n",
        "      \"\\n* Test set:\",  X_test.shape, y_test.shape)\n"
      ]
    },
    {
      "cell_type": "markdown",
      "metadata": {
        "id": "-15-sWUST6XX"
      },
      "source": [
        "## Grid Search CV - Sklearn"
      ]
    },
    {
      "cell_type": "markdown",
      "metadata": {
        "id": "KTFXq-ieogBj"
      },
      "source": [
        "### Use default hyperparameters to find most suitable algorithm"
      ]
    },
    {
      "cell_type": "code",
      "execution_count": 174,
      "metadata": {
        "id": "XZKV86gsPw8c"
      },
      "outputs": [],
      "source": [
        "models_quick_search = {\n",
        "    'LinearRegression': LinearRegression(),\n",
        "    \"DecisionTreeRegressor\": DecisionTreeRegressor(random_state=0),\n",
        "    \"RandomForestRegressor\": RandomForestRegressor(random_state=0),\n",
        "    \"ExtraTreesRegressor\": ExtraTreesRegressor(random_state=0),\n",
        "    \"AdaBoostRegressor\": AdaBoostRegressor(random_state=0),\n",
        "    \"GradientBoostingRegressor\": GradientBoostingRegressor(random_state=0),\n",
        "    \"XGBRegressor\": XGBRegressor(random_state=0),\n",
        "}\n",
        "\n",
        "params_quick_search = {\n",
        "    'LinearRegression': {},\n",
        "    \"DecisionTreeRegressor\": {},\n",
        "    \"RandomForestRegressor\": {},\n",
        "    \"ExtraTreesRegressor\": {},\n",
        "    \"AdaBoostRegressor\": {},\n",
        "    \"GradientBoostingRegressor\": {},\n",
        "    \"XGBRegressor\": {},\n",
        "}"
      ]
    },
    {
      "cell_type": "markdown",
      "metadata": {
        "id": "jGABtSoSLP9u"
      },
      "source": [
        "Do a hyperparameter optimisation search using default hyperparameters"
      ]
    },
    {
      "cell_type": "code",
      "execution_count": 105,
      "metadata": {
        "id": "-_q-ru92GiBb"
      },
      "outputs": [
        {
          "name": "stdout",
          "output_type": "stream",
          "text": [
            "\n",
            "Running GridSearchCV for LinearRegression \n",
            "\n",
            "Fitting 5 folds for each of 1 candidates, totalling 5 fits\n"
          ]
        },
        {
          "name": "stderr",
          "output_type": "stream",
          "text": [
            "c:\\Users\\sunny\\anaconda3\\envs\\myenv3811\\lib\\site-packages\\feature_engine\\selection\\smart_correlation_selection.py:271: FutureWarning: Passing a set as an indexer is deprecated and will raise in a future version. Use a list instead.\n",
            "  f = X[feature_group].std().sort_values(ascending=False).index[0]\n",
            "c:\\Users\\sunny\\anaconda3\\envs\\myenv3811\\lib\\site-packages\\feature_engine\\selection\\smart_correlation_selection.py:271: FutureWarning: Passing a set as an indexer is deprecated and will raise in a future version. Use a list instead.\n",
            "  f = X[feature_group].std().sort_values(ascending=False).index[0]\n",
            "c:\\Users\\sunny\\anaconda3\\envs\\myenv3811\\lib\\site-packages\\feature_engine\\selection\\smart_correlation_selection.py:271: FutureWarning: Passing a set as an indexer is deprecated and will raise in a future version. Use a list instead.\n",
            "  f = X[feature_group].std().sort_values(ascending=False).index[0]\n",
            "c:\\Users\\sunny\\anaconda3\\envs\\myenv3811\\lib\\site-packages\\feature_engine\\selection\\smart_correlation_selection.py:271: FutureWarning: Passing a set as an indexer is deprecated and will raise in a future version. Use a list instead.\n",
            "  f = X[feature_group].std().sort_values(ascending=False).index[0]\n",
            "c:\\Users\\sunny\\anaconda3\\envs\\myenv3811\\lib\\site-packages\\feature_engine\\selection\\smart_correlation_selection.py:271: FutureWarning: Passing a set as an indexer is deprecated and will raise in a future version. Use a list instead.\n",
            "  f = X[feature_group].std().sort_values(ascending=False).index[0]\n"
          ]
        },
        {
          "name": "stdout",
          "output_type": "stream",
          "text": [
            "\n",
            "Running GridSearchCV for DecisionTreeRegressor \n",
            "\n",
            "Fitting 5 folds for each of 1 candidates, totalling 5 fits\n"
          ]
        },
        {
          "name": "stderr",
          "output_type": "stream",
          "text": [
            "c:\\Users\\sunny\\anaconda3\\envs\\myenv3811\\lib\\site-packages\\feature_engine\\selection\\smart_correlation_selection.py:271: FutureWarning: Passing a set as an indexer is deprecated and will raise in a future version. Use a list instead.\n",
            "  f = X[feature_group].std().sort_values(ascending=False).index[0]\n",
            "c:\\Users\\sunny\\anaconda3\\envs\\myenv3811\\lib\\site-packages\\feature_engine\\selection\\smart_correlation_selection.py:271: FutureWarning: Passing a set as an indexer is deprecated and will raise in a future version. Use a list instead.\n",
            "  f = X[feature_group].std().sort_values(ascending=False).index[0]\n",
            "c:\\Users\\sunny\\anaconda3\\envs\\myenv3811\\lib\\site-packages\\feature_engine\\selection\\smart_correlation_selection.py:271: FutureWarning: Passing a set as an indexer is deprecated and will raise in a future version. Use a list instead.\n",
            "  f = X[feature_group].std().sort_values(ascending=False).index[0]\n",
            "c:\\Users\\sunny\\anaconda3\\envs\\myenv3811\\lib\\site-packages\\feature_engine\\selection\\smart_correlation_selection.py:271: FutureWarning: Passing a set as an indexer is deprecated and will raise in a future version. Use a list instead.\n",
            "  f = X[feature_group].std().sort_values(ascending=False).index[0]\n",
            "c:\\Users\\sunny\\anaconda3\\envs\\myenv3811\\lib\\site-packages\\feature_engine\\selection\\smart_correlation_selection.py:271: FutureWarning: Passing a set as an indexer is deprecated and will raise in a future version. Use a list instead.\n",
            "  f = X[feature_group].std().sort_values(ascending=False).index[0]\n"
          ]
        },
        {
          "name": "stdout",
          "output_type": "stream",
          "text": [
            "\n",
            "Running GridSearchCV for RandomForestRegressor \n",
            "\n",
            "Fitting 5 folds for each of 1 candidates, totalling 5 fits\n"
          ]
        },
        {
          "name": "stderr",
          "output_type": "stream",
          "text": [
            "c:\\Users\\sunny\\anaconda3\\envs\\myenv3811\\lib\\site-packages\\feature_engine\\selection\\smart_correlation_selection.py:271: FutureWarning: Passing a set as an indexer is deprecated and will raise in a future version. Use a list instead.\n",
            "  f = X[feature_group].std().sort_values(ascending=False).index[0]\n",
            "c:\\Users\\sunny\\anaconda3\\envs\\myenv3811\\lib\\site-packages\\feature_engine\\selection\\smart_correlation_selection.py:271: FutureWarning: Passing a set as an indexer is deprecated and will raise in a future version. Use a list instead.\n",
            "  f = X[feature_group].std().sort_values(ascending=False).index[0]\n",
            "c:\\Users\\sunny\\anaconda3\\envs\\myenv3811\\lib\\site-packages\\feature_engine\\selection\\smart_correlation_selection.py:271: FutureWarning: Passing a set as an indexer is deprecated and will raise in a future version. Use a list instead.\n",
            "  f = X[feature_group].std().sort_values(ascending=False).index[0]\n",
            "c:\\Users\\sunny\\anaconda3\\envs\\myenv3811\\lib\\site-packages\\feature_engine\\selection\\smart_correlation_selection.py:271: FutureWarning: Passing a set as an indexer is deprecated and will raise in a future version. Use a list instead.\n",
            "  f = X[feature_group].std().sort_values(ascending=False).index[0]\n",
            "c:\\Users\\sunny\\anaconda3\\envs\\myenv3811\\lib\\site-packages\\feature_engine\\selection\\smart_correlation_selection.py:271: FutureWarning: Passing a set as an indexer is deprecated and will raise in a future version. Use a list instead.\n",
            "  f = X[feature_group].std().sort_values(ascending=False).index[0]\n"
          ]
        },
        {
          "name": "stdout",
          "output_type": "stream",
          "text": [
            "\n",
            "Running GridSearchCV for ExtraTreesRegressor \n",
            "\n",
            "Fitting 5 folds for each of 1 candidates, totalling 5 fits\n"
          ]
        },
        {
          "name": "stderr",
          "output_type": "stream",
          "text": [
            "c:\\Users\\sunny\\anaconda3\\envs\\myenv3811\\lib\\site-packages\\feature_engine\\selection\\smart_correlation_selection.py:271: FutureWarning: Passing a set as an indexer is deprecated and will raise in a future version. Use a list instead.\n",
            "  f = X[feature_group].std().sort_values(ascending=False).index[0]\n",
            "c:\\Users\\sunny\\anaconda3\\envs\\myenv3811\\lib\\site-packages\\feature_engine\\selection\\smart_correlation_selection.py:271: FutureWarning: Passing a set as an indexer is deprecated and will raise in a future version. Use a list instead.\n",
            "  f = X[feature_group].std().sort_values(ascending=False).index[0]\n",
            "c:\\Users\\sunny\\anaconda3\\envs\\myenv3811\\lib\\site-packages\\feature_engine\\selection\\smart_correlation_selection.py:271: FutureWarning: Passing a set as an indexer is deprecated and will raise in a future version. Use a list instead.\n",
            "  f = X[feature_group].std().sort_values(ascending=False).index[0]\n",
            "c:\\Users\\sunny\\anaconda3\\envs\\myenv3811\\lib\\site-packages\\feature_engine\\selection\\smart_correlation_selection.py:271: FutureWarning: Passing a set as an indexer is deprecated and will raise in a future version. Use a list instead.\n",
            "  f = X[feature_group].std().sort_values(ascending=False).index[0]\n",
            "c:\\Users\\sunny\\anaconda3\\envs\\myenv3811\\lib\\site-packages\\feature_engine\\selection\\smart_correlation_selection.py:271: FutureWarning: Passing a set as an indexer is deprecated and will raise in a future version. Use a list instead.\n",
            "  f = X[feature_group].std().sort_values(ascending=False).index[0]\n"
          ]
        },
        {
          "name": "stdout",
          "output_type": "stream",
          "text": [
            "\n",
            "Running GridSearchCV for AdaBoostRegressor \n",
            "\n",
            "Fitting 5 folds for each of 1 candidates, totalling 5 fits\n"
          ]
        },
        {
          "name": "stderr",
          "output_type": "stream",
          "text": [
            "c:\\Users\\sunny\\anaconda3\\envs\\myenv3811\\lib\\site-packages\\feature_engine\\selection\\smart_correlation_selection.py:271: FutureWarning: Passing a set as an indexer is deprecated and will raise in a future version. Use a list instead.\n",
            "  f = X[feature_group].std().sort_values(ascending=False).index[0]\n",
            "c:\\Users\\sunny\\anaconda3\\envs\\myenv3811\\lib\\site-packages\\feature_engine\\selection\\smart_correlation_selection.py:271: FutureWarning: Passing a set as an indexer is deprecated and will raise in a future version. Use a list instead.\n",
            "  f = X[feature_group].std().sort_values(ascending=False).index[0]\n",
            "c:\\Users\\sunny\\anaconda3\\envs\\myenv3811\\lib\\site-packages\\feature_engine\\selection\\smart_correlation_selection.py:271: FutureWarning: Passing a set as an indexer is deprecated and will raise in a future version. Use a list instead.\n",
            "  f = X[feature_group].std().sort_values(ascending=False).index[0]\n",
            "c:\\Users\\sunny\\anaconda3\\envs\\myenv3811\\lib\\site-packages\\feature_engine\\selection\\smart_correlation_selection.py:271: FutureWarning: Passing a set as an indexer is deprecated and will raise in a future version. Use a list instead.\n",
            "  f = X[feature_group].std().sort_values(ascending=False).index[0]\n",
            "c:\\Users\\sunny\\anaconda3\\envs\\myenv3811\\lib\\site-packages\\feature_engine\\selection\\smart_correlation_selection.py:271: FutureWarning: Passing a set as an indexer is deprecated and will raise in a future version. Use a list instead.\n",
            "  f = X[feature_group].std().sort_values(ascending=False).index[0]\n"
          ]
        },
        {
          "name": "stdout",
          "output_type": "stream",
          "text": [
            "\n",
            "Running GridSearchCV for GradientBoostingRegressor \n",
            "\n",
            "Fitting 5 folds for each of 1 candidates, totalling 5 fits\n"
          ]
        },
        {
          "name": "stderr",
          "output_type": "stream",
          "text": [
            "c:\\Users\\sunny\\anaconda3\\envs\\myenv3811\\lib\\site-packages\\feature_engine\\selection\\smart_correlation_selection.py:271: FutureWarning: Passing a set as an indexer is deprecated and will raise in a future version. Use a list instead.\n",
            "  f = X[feature_group].std().sort_values(ascending=False).index[0]\n",
            "c:\\Users\\sunny\\anaconda3\\envs\\myenv3811\\lib\\site-packages\\feature_engine\\selection\\smart_correlation_selection.py:271: FutureWarning: Passing a set as an indexer is deprecated and will raise in a future version. Use a list instead.\n",
            "  f = X[feature_group].std().sort_values(ascending=False).index[0]\n",
            "c:\\Users\\sunny\\anaconda3\\envs\\myenv3811\\lib\\site-packages\\feature_engine\\selection\\smart_correlation_selection.py:271: FutureWarning: Passing a set as an indexer is deprecated and will raise in a future version. Use a list instead.\n",
            "  f = X[feature_group].std().sort_values(ascending=False).index[0]\n",
            "c:\\Users\\sunny\\anaconda3\\envs\\myenv3811\\lib\\site-packages\\feature_engine\\selection\\smart_correlation_selection.py:271: FutureWarning: Passing a set as an indexer is deprecated and will raise in a future version. Use a list instead.\n",
            "  f = X[feature_group].std().sort_values(ascending=False).index[0]\n",
            "c:\\Users\\sunny\\anaconda3\\envs\\myenv3811\\lib\\site-packages\\feature_engine\\selection\\smart_correlation_selection.py:271: FutureWarning: Passing a set as an indexer is deprecated and will raise in a future version. Use a list instead.\n",
            "  f = X[feature_group].std().sort_values(ascending=False).index[0]\n"
          ]
        },
        {
          "name": "stdout",
          "output_type": "stream",
          "text": [
            "\n",
            "Running GridSearchCV for XGBRegressor \n",
            "\n",
            "Fitting 5 folds for each of 1 candidates, totalling 5 fits\n"
          ]
        },
        {
          "name": "stderr",
          "output_type": "stream",
          "text": [
            "c:\\Users\\sunny\\anaconda3\\envs\\myenv3811\\lib\\site-packages\\feature_engine\\selection\\smart_correlation_selection.py:271: FutureWarning: Passing a set as an indexer is deprecated and will raise in a future version. Use a list instead.\n",
            "  f = X[feature_group].std().sort_values(ascending=False).index[0]\n",
            "c:\\Users\\sunny\\anaconda3\\envs\\myenv3811\\lib\\site-packages\\feature_engine\\selection\\smart_correlation_selection.py:271: FutureWarning: Passing a set as an indexer is deprecated and will raise in a future version. Use a list instead.\n",
            "  f = X[feature_group].std().sort_values(ascending=False).index[0]\n",
            "c:\\Users\\sunny\\anaconda3\\envs\\myenv3811\\lib\\site-packages\\feature_engine\\selection\\smart_correlation_selection.py:271: FutureWarning: Passing a set as an indexer is deprecated and will raise in a future version. Use a list instead.\n",
            "  f = X[feature_group].std().sort_values(ascending=False).index[0]\n",
            "c:\\Users\\sunny\\anaconda3\\envs\\myenv3811\\lib\\site-packages\\feature_engine\\selection\\smart_correlation_selection.py:271: FutureWarning: Passing a set as an indexer is deprecated and will raise in a future version. Use a list instead.\n",
            "  f = X[feature_group].std().sort_values(ascending=False).index[0]\n",
            "c:\\Users\\sunny\\anaconda3\\envs\\myenv3811\\lib\\site-packages\\feature_engine\\selection\\smart_correlation_selection.py:271: FutureWarning: Passing a set as an indexer is deprecated and will raise in a future version. Use a list instead.\n",
            "  f = X[feature_group].std().sort_values(ascending=False).index[0]\n"
          ]
        }
      ],
      "source": [
        "search = HyperparameterOptimizationSearch(models=models_quick_search, params=params_quick_search)\n",
        "search.fit(X_train, y_train, scoring='r2', n_jobs=-1, cv=5)"
      ]
    },
    {
      "cell_type": "markdown",
      "metadata": {
        "id": "c7p56nXeoqWo"
      },
      "source": [
        "Check results"
      ]
    },
    {
      "cell_type": "code",
      "execution_count": 106,
      "metadata": {
        "id": "mq4YlrmZooiw"
      },
      "outputs": [
        {
          "data": {
            "text/html": [
              "<div>\n",
              "<style scoped>\n",
              "    .dataframe tbody tr th:only-of-type {\n",
              "        vertical-align: middle;\n",
              "    }\n",
              "\n",
              "    .dataframe tbody tr th {\n",
              "        vertical-align: top;\n",
              "    }\n",
              "\n",
              "    .dataframe thead th {\n",
              "        text-align: right;\n",
              "    }\n",
              "</style>\n",
              "<table border=\"1\" class=\"dataframe\">\n",
              "  <thead>\n",
              "    <tr style=\"text-align: right;\">\n",
              "      <th></th>\n",
              "      <th>estimator</th>\n",
              "      <th>min_score</th>\n",
              "      <th>mean_score</th>\n",
              "      <th>max_score</th>\n",
              "      <th>std_score</th>\n",
              "    </tr>\n",
              "  </thead>\n",
              "  <tbody>\n",
              "    <tr>\n",
              "      <th>5</th>\n",
              "      <td>GradientBoostingRegressor</td>\n",
              "      <td>0.597972</td>\n",
              "      <td>0.661234</td>\n",
              "      <td>0.690079</td>\n",
              "      <td>0.033521</td>\n",
              "    </tr>\n",
              "    <tr>\n",
              "      <th>2</th>\n",
              "      <td>RandomForestRegressor</td>\n",
              "      <td>0.587287</td>\n",
              "      <td>0.64755</td>\n",
              "      <td>0.687789</td>\n",
              "      <td>0.035093</td>\n",
              "    </tr>\n",
              "    <tr>\n",
              "      <th>0</th>\n",
              "      <td>LinearRegression</td>\n",
              "      <td>0.605354</td>\n",
              "      <td>0.624969</td>\n",
              "      <td>0.662512</td>\n",
              "      <td>0.019739</td>\n",
              "    </tr>\n",
              "    <tr>\n",
              "      <th>3</th>\n",
              "      <td>ExtraTreesRegressor</td>\n",
              "      <td>0.546555</td>\n",
              "      <td>0.620435</td>\n",
              "      <td>0.661151</td>\n",
              "      <td>0.039454</td>\n",
              "    </tr>\n",
              "    <tr>\n",
              "      <th>6</th>\n",
              "      <td>XGBRegressor</td>\n",
              "      <td>0.529902</td>\n",
              "      <td>0.564192</td>\n",
              "      <td>0.606185</td>\n",
              "      <td>0.026018</td>\n",
              "    </tr>\n",
              "    <tr>\n",
              "      <th>4</th>\n",
              "      <td>AdaBoostRegressor</td>\n",
              "      <td>0.268133</td>\n",
              "      <td>0.438777</td>\n",
              "      <td>0.530104</td>\n",
              "      <td>0.091087</td>\n",
              "    </tr>\n",
              "    <tr>\n",
              "      <th>1</th>\n",
              "      <td>DecisionTreeRegressor</td>\n",
              "      <td>0.244033</td>\n",
              "      <td>0.389075</td>\n",
              "      <td>0.473047</td>\n",
              "      <td>0.076998</td>\n",
              "    </tr>\n",
              "  </tbody>\n",
              "</table>\n",
              "</div>"
            ],
            "text/plain": [
              "                   estimator min_score mean_score max_score std_score\n",
              "5  GradientBoostingRegressor  0.597972   0.661234  0.690079  0.033521\n",
              "2      RandomForestRegressor  0.587287    0.64755  0.687789  0.035093\n",
              "0           LinearRegression  0.605354   0.624969  0.662512  0.019739\n",
              "3        ExtraTreesRegressor  0.546555   0.620435  0.661151  0.039454\n",
              "6               XGBRegressor  0.529902   0.564192  0.606185  0.026018\n",
              "4          AdaBoostRegressor  0.268133   0.438777  0.530104  0.091087\n",
              "1      DecisionTreeRegressor  0.244033   0.389075  0.473047  0.076998"
            ]
          },
          "execution_count": 106,
          "metadata": {},
          "output_type": "execute_result"
        }
      ],
      "source": [
        "grid_search_summary, grid_search_pipelines = search.score_summary(sort_by='mean_score')\n",
        "grid_search_summary"
      ]
    },
    {
      "cell_type": "markdown",
      "metadata": {
        "id": "6pRUAeoG9lrZ"
      },
      "source": [
        "### Do an extensive search on the most suitable model to find the best hyperparameter configuration."
      ]
    },
    {
      "cell_type": "markdown",
      "metadata": {
        "id": "w2XCyOYkAYpZ"
      },
      "source": [
        "Define model and parameters, for Extensive Search"
      ]
    },
    {
      "cell_type": "code",
      "execution_count": 108,
      "metadata": {
        "id": "lyjC7ThFAYKY"
      },
      "outputs": [],
      "source": [
        "models_search = {\n",
        "    \"GradientBoostingRegressor\": GradientBoostingRegressor(random_state=0),\n",
        "}\n",
        "\n",
        "# documentation to help on hyperparameter list: \n",
        "# https://scikit-learn.org/stable/modules/generated/sklearn.ensemble.GradientBoostingRegressor.html\n",
        "\n",
        "# We will not conduct an extensive search, since the focus\n",
        "# is on how to combine all knowledge in an applied project.\n",
        "# In a workplace project, you may consider more hyperparameters and spend more time in this step\n",
        "\n",
        "params_search = {\n",
        "    \"GradientBoostingRegressor\": {\n",
        "        'model__n_estimators': [100,300],\n",
        "        'model__learning_rate': [1e-1,1e-2,1e-3], \n",
        "        'model__max_depth': [3,10,None],\n",
        "    }\n",
        "}"
      ]
    },
    {
      "cell_type": "markdown",
      "metadata": {
        "id": "sBy8thxqAlrd"
      },
      "source": [
        "Extensive GridSearch CV"
      ]
    },
    {
      "cell_type": "code",
      "execution_count": 109,
      "metadata": {
        "id": "Y_4Ob7heAYM9"
      },
      "outputs": [
        {
          "name": "stdout",
          "output_type": "stream",
          "text": [
            "\n",
            "Running GridSearchCV for GradientBoostingRegressor \n",
            "\n",
            "Fitting 5 folds for each of 18 candidates, totalling 90 fits\n"
          ]
        },
        {
          "name": "stderr",
          "output_type": "stream",
          "text": [
            "c:\\Users\\sunny\\anaconda3\\envs\\myenv3811\\lib\\site-packages\\feature_engine\\selection\\smart_correlation_selection.py:271: FutureWarning: Passing a set as an indexer is deprecated and will raise in a future version. Use a list instead.\n",
            "  f = X[feature_group].std().sort_values(ascending=False).index[0]\n",
            "c:\\Users\\sunny\\anaconda3\\envs\\myenv3811\\lib\\site-packages\\feature_engine\\selection\\smart_correlation_selection.py:271: FutureWarning: Passing a set as an indexer is deprecated and will raise in a future version. Use a list instead.\n",
            "  f = X[feature_group].std().sort_values(ascending=False).index[0]\n",
            "c:\\Users\\sunny\\anaconda3\\envs\\myenv3811\\lib\\site-packages\\feature_engine\\selection\\smart_correlation_selection.py:271: FutureWarning: Passing a set as an indexer is deprecated and will raise in a future version. Use a list instead.\n",
            "  f = X[feature_group].std().sort_values(ascending=False).index[0]\n",
            "c:\\Users\\sunny\\anaconda3\\envs\\myenv3811\\lib\\site-packages\\feature_engine\\selection\\smart_correlation_selection.py:271: FutureWarning: Passing a set as an indexer is deprecated and will raise in a future version. Use a list instead.\n",
            "  f = X[feature_group].std().sort_values(ascending=False).index[0]\n",
            "c:\\Users\\sunny\\anaconda3\\envs\\myenv3811\\lib\\site-packages\\feature_engine\\selection\\smart_correlation_selection.py:271: FutureWarning: Passing a set as an indexer is deprecated and will raise in a future version. Use a list instead.\n",
            "  f = X[feature_group].std().sort_values(ascending=False).index[0]\n"
          ]
        }
      ],
      "source": [
        "search = HyperparameterOptimizationSearch(models=models_search, params=params_search)\n",
        "search.fit(X_train, y_train, scoring = 'r2', n_jobs=-1, cv=5)"
      ]
    },
    {
      "cell_type": "markdown",
      "metadata": {
        "id": "wtNJJpLEAzdP"
      },
      "source": [
        "Check results"
      ]
    },
    {
      "cell_type": "code",
      "execution_count": 110,
      "metadata": {
        "id": "qjauRLNHAYPr"
      },
      "outputs": [
        {
          "data": {
            "text/html": [
              "<div>\n",
              "<style scoped>\n",
              "    .dataframe tbody tr th:only-of-type {\n",
              "        vertical-align: middle;\n",
              "    }\n",
              "\n",
              "    .dataframe tbody tr th {\n",
              "        vertical-align: top;\n",
              "    }\n",
              "\n",
              "    .dataframe thead th {\n",
              "        text-align: right;\n",
              "    }\n",
              "</style>\n",
              "<table border=\"1\" class=\"dataframe\">\n",
              "  <thead>\n",
              "    <tr style=\"text-align: right;\">\n",
              "      <th></th>\n",
              "      <th>estimator</th>\n",
              "      <th>min_score</th>\n",
              "      <th>mean_score</th>\n",
              "      <th>max_score</th>\n",
              "      <th>std_score</th>\n",
              "      <th>model__learning_rate</th>\n",
              "      <th>model__max_depth</th>\n",
              "      <th>model__n_estimators</th>\n",
              "    </tr>\n",
              "  </thead>\n",
              "  <tbody>\n",
              "    <tr>\n",
              "      <th>7</th>\n",
              "      <td>GradientBoostingRegressor</td>\n",
              "      <td>0.616646</td>\n",
              "      <td>0.66258</td>\n",
              "      <td>0.690958</td>\n",
              "      <td>0.026578</td>\n",
              "      <td>0.01</td>\n",
              "      <td>3</td>\n",
              "      <td>300</td>\n",
              "    </tr>\n",
              "    <tr>\n",
              "      <th>0</th>\n",
              "      <td>GradientBoostingRegressor</td>\n",
              "      <td>0.597972</td>\n",
              "      <td>0.661234</td>\n",
              "      <td>0.690079</td>\n",
              "      <td>0.033521</td>\n",
              "      <td>0.1</td>\n",
              "      <td>3</td>\n",
              "      <td>100</td>\n",
              "    </tr>\n",
              "    <tr>\n",
              "      <th>1</th>\n",
              "      <td>GradientBoostingRegressor</td>\n",
              "      <td>0.553971</td>\n",
              "      <td>0.638267</td>\n",
              "      <td>0.671914</td>\n",
              "      <td>0.043151</td>\n",
              "      <td>0.1</td>\n",
              "      <td>3</td>\n",
              "      <td>300</td>\n",
              "    </tr>\n",
              "    <tr>\n",
              "      <th>9</th>\n",
              "      <td>GradientBoostingRegressor</td>\n",
              "      <td>0.53445</td>\n",
              "      <td>0.59438</td>\n",
              "      <td>0.648368</td>\n",
              "      <td>0.037125</td>\n",
              "      <td>0.01</td>\n",
              "      <td>10</td>\n",
              "      <td>300</td>\n",
              "    </tr>\n",
              "    <tr>\n",
              "      <th>6</th>\n",
              "      <td>GradientBoostingRegressor</td>\n",
              "      <td>0.537464</td>\n",
              "      <td>0.562317</td>\n",
              "      <td>0.594165</td>\n",
              "      <td>0.020622</td>\n",
              "      <td>0.01</td>\n",
              "      <td>3</td>\n",
              "      <td>100</td>\n",
              "    </tr>\n",
              "    <tr>\n",
              "      <th>2</th>\n",
              "      <td>GradientBoostingRegressor</td>\n",
              "      <td>0.493241</td>\n",
              "      <td>0.5601</td>\n",
              "      <td>0.631514</td>\n",
              "      <td>0.046062</td>\n",
              "      <td>0.1</td>\n",
              "      <td>10</td>\n",
              "      <td>100</td>\n",
              "    </tr>\n",
              "    <tr>\n",
              "      <th>8</th>\n",
              "      <td>GradientBoostingRegressor</td>\n",
              "      <td>0.512276</td>\n",
              "      <td>0.550042</td>\n",
              "      <td>0.578745</td>\n",
              "      <td>0.02229</td>\n",
              "      <td>0.01</td>\n",
              "      <td>10</td>\n",
              "      <td>100</td>\n",
              "    </tr>\n",
              "    <tr>\n",
              "      <th>3</th>\n",
              "      <td>GradientBoostingRegressor</td>\n",
              "      <td>0.430403</td>\n",
              "      <td>0.519773</td>\n",
              "      <td>0.622562</td>\n",
              "      <td>0.0657</td>\n",
              "      <td>0.1</td>\n",
              "      <td>10</td>\n",
              "      <td>300</td>\n",
              "    </tr>\n",
              "    <tr>\n",
              "      <th>10</th>\n",
              "      <td>GradientBoostingRegressor</td>\n",
              "      <td>0.420411</td>\n",
              "      <td>0.474301</td>\n",
              "      <td>0.510768</td>\n",
              "      <td>0.029755</td>\n",
              "      <td>0.01</td>\n",
              "      <td>None</td>\n",
              "      <td>100</td>\n",
              "    </tr>\n",
              "    <tr>\n",
              "      <th>11</th>\n",
              "      <td>GradientBoostingRegressor</td>\n",
              "      <td>0.3288</td>\n",
              "      <td>0.419998</td>\n",
              "      <td>0.503251</td>\n",
              "      <td>0.055991</td>\n",
              "      <td>0.01</td>\n",
              "      <td>None</td>\n",
              "      <td>300</td>\n",
              "    </tr>\n",
              "    <tr>\n",
              "      <th>4</th>\n",
              "      <td>GradientBoostingRegressor</td>\n",
              "      <td>0.296672</td>\n",
              "      <td>0.393246</td>\n",
              "      <td>0.481924</td>\n",
              "      <td>0.059549</td>\n",
              "      <td>0.1</td>\n",
              "      <td>None</td>\n",
              "      <td>100</td>\n",
              "    </tr>\n",
              "    <tr>\n",
              "      <th>5</th>\n",
              "      <td>GradientBoostingRegressor</td>\n",
              "      <td>0.296653</td>\n",
              "      <td>0.393231</td>\n",
              "      <td>0.481914</td>\n",
              "      <td>0.059552</td>\n",
              "      <td>0.1</td>\n",
              "      <td>None</td>\n",
              "      <td>300</td>\n",
              "    </tr>\n",
              "    <tr>\n",
              "      <th>15</th>\n",
              "      <td>GradientBoostingRegressor</td>\n",
              "      <td>0.283984</td>\n",
              "      <td>0.297737</td>\n",
              "      <td>0.31001</td>\n",
              "      <td>0.009803</td>\n",
              "      <td>0.001</td>\n",
              "      <td>10</td>\n",
              "      <td>300</td>\n",
              "    </tr>\n",
              "    <tr>\n",
              "      <th>13</th>\n",
              "      <td>GradientBoostingRegressor</td>\n",
              "      <td>0.269246</td>\n",
              "      <td>0.287821</td>\n",
              "      <td>0.307807</td>\n",
              "      <td>0.012786</td>\n",
              "      <td>0.001</td>\n",
              "      <td>3</td>\n",
              "      <td>300</td>\n",
              "    </tr>\n",
              "    <tr>\n",
              "      <th>17</th>\n",
              "      <td>GradientBoostingRegressor</td>\n",
              "      <td>0.269216</td>\n",
              "      <td>0.286297</td>\n",
              "      <td>0.294503</td>\n",
              "      <td>0.008979</td>\n",
              "      <td>0.001</td>\n",
              "      <td>None</td>\n",
              "      <td>300</td>\n",
              "    </tr>\n",
              "    <tr>\n",
              "      <th>14</th>\n",
              "      <td>GradientBoostingRegressor</td>\n",
              "      <td>0.112382</td>\n",
              "      <td>0.119374</td>\n",
              "      <td>0.124578</td>\n",
              "      <td>0.004528</td>\n",
              "      <td>0.001</td>\n",
              "      <td>10</td>\n",
              "      <td>100</td>\n",
              "    </tr>\n",
              "    <tr>\n",
              "      <th>16</th>\n",
              "      <td>GradientBoostingRegressor</td>\n",
              "      <td>0.114488</td>\n",
              "      <td>0.118079</td>\n",
              "      <td>0.121066</td>\n",
              "      <td>0.002462</td>\n",
              "      <td>0.001</td>\n",
              "      <td>None</td>\n",
              "      <td>100</td>\n",
              "    </tr>\n",
              "    <tr>\n",
              "      <th>12</th>\n",
              "      <td>GradientBoostingRegressor</td>\n",
              "      <td>0.102986</td>\n",
              "      <td>0.113622</td>\n",
              "      <td>0.121822</td>\n",
              "      <td>0.006343</td>\n",
              "      <td>0.001</td>\n",
              "      <td>3</td>\n",
              "      <td>100</td>\n",
              "    </tr>\n",
              "  </tbody>\n",
              "</table>\n",
              "</div>"
            ],
            "text/plain": [
              "                    estimator min_score mean_score max_score std_score  \\\n",
              "7   GradientBoostingRegressor  0.616646    0.66258  0.690958  0.026578   \n",
              "0   GradientBoostingRegressor  0.597972   0.661234  0.690079  0.033521   \n",
              "1   GradientBoostingRegressor  0.553971   0.638267  0.671914  0.043151   \n",
              "9   GradientBoostingRegressor   0.53445    0.59438  0.648368  0.037125   \n",
              "6   GradientBoostingRegressor  0.537464   0.562317  0.594165  0.020622   \n",
              "2   GradientBoostingRegressor  0.493241     0.5601  0.631514  0.046062   \n",
              "8   GradientBoostingRegressor  0.512276   0.550042  0.578745   0.02229   \n",
              "3   GradientBoostingRegressor  0.430403   0.519773  0.622562    0.0657   \n",
              "10  GradientBoostingRegressor  0.420411   0.474301  0.510768  0.029755   \n",
              "11  GradientBoostingRegressor    0.3288   0.419998  0.503251  0.055991   \n",
              "4   GradientBoostingRegressor  0.296672   0.393246  0.481924  0.059549   \n",
              "5   GradientBoostingRegressor  0.296653   0.393231  0.481914  0.059552   \n",
              "15  GradientBoostingRegressor  0.283984   0.297737   0.31001  0.009803   \n",
              "13  GradientBoostingRegressor  0.269246   0.287821  0.307807  0.012786   \n",
              "17  GradientBoostingRegressor  0.269216   0.286297  0.294503  0.008979   \n",
              "14  GradientBoostingRegressor  0.112382   0.119374  0.124578  0.004528   \n",
              "16  GradientBoostingRegressor  0.114488   0.118079  0.121066  0.002462   \n",
              "12  GradientBoostingRegressor  0.102986   0.113622  0.121822  0.006343   \n",
              "\n",
              "   model__learning_rate model__max_depth model__n_estimators  \n",
              "7                  0.01                3                 300  \n",
              "0                   0.1                3                 100  \n",
              "1                   0.1                3                 300  \n",
              "9                  0.01               10                 300  \n",
              "6                  0.01                3                 100  \n",
              "2                   0.1               10                 100  \n",
              "8                  0.01               10                 100  \n",
              "3                   0.1               10                 300  \n",
              "10                 0.01             None                 100  \n",
              "11                 0.01             None                 300  \n",
              "4                   0.1             None                 100  \n",
              "5                   0.1             None                 300  \n",
              "15                0.001               10                 300  \n",
              "13                0.001                3                 300  \n",
              "17                0.001             None                 300  \n",
              "14                0.001               10                 100  \n",
              "16                0.001             None                 100  \n",
              "12                0.001                3                 100  "
            ]
          },
          "execution_count": 110,
          "metadata": {},
          "output_type": "execute_result"
        }
      ],
      "source": [
        "grid_search_summary, grid_search_pipelines = search.score_summary(sort_by='mean_score')\n",
        "grid_search_summary"
      ]
    },
    {
      "cell_type": "markdown",
      "metadata": {
        "id": "DWryh7BlA2df"
      },
      "source": [
        "Check the best model"
      ]
    },
    {
      "cell_type": "code",
      "execution_count": 111,
      "metadata": {
        "id": "QVWEmpSuA4C7"
      },
      "outputs": [
        {
          "data": {
            "text/plain": [
              "'GradientBoostingRegressor'"
            ]
          },
          "execution_count": 111,
          "metadata": {},
          "output_type": "execute_result"
        }
      ],
      "source": [
        "best_model = grid_search_summary.iloc[0, 0]\n",
        "best_model"
      ]
    },
    {
      "cell_type": "markdown",
      "metadata": {
        "id": "7_jvnR4sZ8km"
      },
      "source": [
        "Parameters for best model"
      ]
    },
    {
      "cell_type": "code",
      "execution_count": 112,
      "metadata": {
        "id": "2my-LZFzZ-YD"
      },
      "outputs": [
        {
          "data": {
            "text/plain": [
              "{'model__learning_rate': 0.01,\n",
              " 'model__max_depth': 3,\n",
              " 'model__n_estimators': 300}"
            ]
          },
          "execution_count": 112,
          "metadata": {},
          "output_type": "execute_result"
        }
      ],
      "source": [
        "grid_search_pipelines[best_model].best_params_"
      ]
    },
    {
      "cell_type": "markdown",
      "metadata": {
        "id": "DgWXlprwaAW-"
      },
      "source": [
        "Define the best regressor, based on search"
      ]
    },
    {
      "cell_type": "code",
      "execution_count": 113,
      "metadata": {
        "id": "0OZ24jS0aAfP"
      },
      "outputs": [
        {
          "data": {
            "text/plain": [
              "Pipeline(steps=[('OrdinalCategoricalEncoder',\n",
              "                 OrdinalEncoder(encoding_method='arbitrary',\n",
              "                                variables=['bb_status_1', 'month', 'time',\n",
              "                                           'weekday_name'])),\n",
              "                ('SmartCorrelatedSelection',\n",
              "                 SmartCorrelatedSelection(method='spearman',\n",
              "                                          selection_method='variance',\n",
              "                                          threshold=0.6,\n",
              "                                          variables=['open', 'high', 'low',\n",
              "                                                     'close', 'ma20_1',\n",
              "                                                     'ma50_1', 'ma100_1',\n",
              "                                                     'month', 'time', 'hr',\n",
              "                                                     '4hr...\n",
              "                                                     'close_ma100_1_diff_1',\n",
              "                                                     'ma20_1_ma50_1_diff_1',\n",
              "                                                     'ma50_1_ma100_1_diff_1',\n",
              "                                                     'up_bb20_low_bb20_rel_diff_1',\n",
              "                                                     'trend_strength_1',\n",
              "                                                     'ma20_4', 'ma50_4',\n",
              "                                                     'ma100_4', ...])),\n",
              "                ('feat_scaling', StandardScaler()),\n",
              "                ('feat_selection',\n",
              "                 SelectFromModel(estimator=GradientBoostingRegressor(random_state=0))),\n",
              "                ('model',\n",
              "                 GradientBoostingRegressor(learning_rate=0.01, n_estimators=300,\n",
              "                                           random_state=0))])"
            ]
          },
          "execution_count": 113,
          "metadata": {},
          "output_type": "execute_result"
        }
      ],
      "source": [
        "best_regressor_pipeline = grid_search_pipelines[best_model].best_estimator_\n",
        "best_regressor_pipeline"
      ]
    },
    {
      "cell_type": "markdown",
      "metadata": {
        "id": "I9uT2XmaKISR"
      },
      "source": [
        "## Assess feature importance"
      ]
    },
    {
      "cell_type": "code",
      "execution_count": 115,
      "metadata": {
        "id": "-m6NUUa0KFQX"
      },
      "outputs": [
        {
          "name": "stdout",
          "output_type": "stream",
          "text": [
            "* These are the 3 most important features in descending order. The model was trained on them: \n",
            "['trade_close_4_hr', 'close_ma50_1_diff_1', 'bb_status_1']\n"
          ]
        },
        {
          "data": {
            "image/png": "[encoded data removed]",
            "text/plain": [
              "<Figure size 640x480 with 1 Axes>"
            ]
          },
          "metadata": {},
          "output_type": "display_data"
        }
      ],
      "source": [
        "import matplotlib.pyplot as plt\n",
        "import seaborn as sns\n",
        "sns.set_style('whitegrid')\n",
        "\n",
        "# after data cleaning and feature engineering, the features may have changes\n",
        "# how many data cleaning and feature engineering steps does your pipeline have?\n",
        "data_cleaning_feat_eng_steps = 2\n",
        "columns_after_data_cleaning_feat_eng = (Pipeline(best_regressor_pipeline.steps[:data_cleaning_feat_eng_steps])\n",
        "                                        .transform(X_train)\n",
        "                                        .columns)\n",
        "\n",
        "best_features = columns_after_data_cleaning_feat_eng[best_regressor_pipeline['feat_selection'].get_support(\n",
        ")].to_list()\n",
        "\n",
        "# create DataFrame to display feature importance\n",
        "df_feature_importance = (pd.DataFrame(data={\n",
        "    'Feature': columns_after_data_cleaning_feat_eng[best_regressor_pipeline['feat_selection'].get_support()],\n",
        "    'Importance': best_regressor_pipeline['model'].feature_importances_})\n",
        "    .sort_values(by='Importance', ascending=False)\n",
        ")\n",
        "\n",
        "# Most important features statement and plot\n",
        "print(f\"* These are the {len(best_features)} most important features in descending order. \"\n",
        "      f\"The model was trained on them: \\n{df_feature_importance['Feature'].to_list()}\")\n",
        "\n",
        "df_feature_importance.plot(kind='bar', x='Feature', y='Importance')\n",
        "plt.show()\n"
      ]
    },
    {
      "cell_type": "markdown",
      "metadata": {
        "id": "QzNyQirSKJj6"
      },
      "source": [
        "## Evaluate on Train and Test Sets"
      ]
    },
    {
      "cell_type": "code",
      "execution_count": 116,
      "metadata": {
        "id": "5pBm_vx8BO9s"
      },
      "outputs": [],
      "source": [
        "from sklearn.metrics import r2_score, mean_squared_error, mean_absolute_error\n",
        "import numpy as np\n",
        "\n",
        "\n",
        "def regression_performance(X_train, y_train, X_test, y_test, pipeline):\n",
        "    print(\"Model Evaluation \\n\")\n",
        "    print(\"* Train Set\")\n",
        "    regression_evaluation(X_train, y_train, pipeline)\n",
        "    print(\"* Test Set\")\n",
        "    regression_evaluation(X_test, y_test, pipeline)\n",
        "\n",
        "\n",
        "def regression_evaluation(X, y, pipeline):\n",
        "    prediction = pipeline.predict(X)\n",
        "    print('R2 Score:', r2_score(y, prediction).round(3))\n",
        "    print('Mean Absolute Error:', mean_absolute_error(y, prediction).round(3))\n",
        "    print('Mean Squared Error:', mean_squared_error(y, prediction).round(3))\n",
        "    print('Root Mean Squared Error:', np.sqrt(\n",
        "        mean_squared_error(y, prediction)).round(3))\n",
        "    print(\"\\n\")\n",
        "\n",
        "\n",
        "def regression_evaluation_plots(X_train, y_train, X_test, y_test, pipeline, alpha_scatter=0.5):\n",
        "    pred_train = pipeline.predict(X_train)\n",
        "    pred_test = pipeline.predict(X_test)\n",
        "\n",
        "    fig, axes = plt.subplots(nrows=1, ncols=2, figsize=(12, 6))\n",
        "    sns.scatterplot(x=y_train, y=pred_train, alpha=alpha_scatter, ax=axes[0])\n",
        "    sns.lineplot(x=y_train, y=y_train, color='red', ax=axes[0])\n",
        "    axes[0].set_xlabel(\"Actual\")\n",
        "    axes[0].set_ylabel(\"Predictions\")\n",
        "    axes[0].set_title(\"Train Set\")\n",
        "\n",
        "    sns.scatterplot(x=y_test, y=pred_test, alpha=alpha_scatter, ax=axes[1])\n",
        "    sns.lineplot(x=y_test, y=y_test, color='red', ax=axes[1])\n",
        "    axes[1].set_xlabel(\"Actual\")\n",
        "    axes[1].set_ylabel(\"Predictions\")\n",
        "    axes[1].set_title(\"Test Set\")\n",
        "\n",
        "    plt.show()\n"
      ]
    },
    {
      "cell_type": "markdown",
      "metadata": {
        "id": "tV-W5nYyBPdk"
      },
      "source": [
        "Evaluate Performance"
      ]
    },
    {
      "cell_type": "code",
      "execution_count": 117,
      "metadata": {
        "id": "EgBgrKJ5KFcX"
      },
      "outputs": [
        {
          "name": "stdout",
          "output_type": "stream",
          "text": [
            "Model Evaluation \n",
            "\n",
            "* Train Set\n",
            "R2 Score: 0.688\n",
            "Mean Absolute Error: 1414.399\n",
            "Mean Squared Error: 3936320.597\n",
            "Root Mean Squared Error: 1984.016\n",
            "\n",
            "\n",
            "* Test Set\n",
            "R2 Score: 0.563\n",
            "Mean Absolute Error: 1557.288\n",
            "Mean Squared Error: 5417688.176\n",
            "Root Mean Squared Error: 2327.593\n",
            "\n",
            "\n"
          ]
        },
        {
          "data": {
            "image/png": "[encoded data removed]",
            "text/plain": [
              "<Figure size 1200x600 with 2 Axes>"
            ]
          },
          "metadata": {},
          "output_type": "display_data"
        }
      ],
      "source": [
        "regression_performance(X_train, y_train, X_test, y_test, best_regressor_pipeline)\n",
        "regression_evaluation_plots(X_train, y_train, X_test, y_test, best_regressor_pipeline)"
      ]
    },
    {
      "cell_type": "markdown",
      "metadata": {
        "id": "HZ9tjLxEIn3h"
      },
      "source": [
        "# Regressor with PCA"
      ]
    },
    {
      "cell_type": "markdown",
      "metadata": {},
      "source": [
        "Let's explore potential values for PCA n_components."
      ]
    },
    {
      "cell_type": "code",
      "execution_count": null,
      "metadata": {},
      "outputs": [],
      "source": [
        "pipeline = PipelineOptimization(model=LinearRegression())\n",
        "pipeline_pca = Pipeline(pipeline.steps[:3])\n",
        "df_pca = pipeline_pca.fit_transform(df.drop(['pl_close_4_hr'], axis=1))\n",
        "\n",
        "print(df_pca.shape,'\\n', type(df_pca))"
      ]
    },
    {
      "cell_type": "markdown",
      "metadata": {},
      "source": [
        "Apply PCA separately to the scaled data"
      ]
    },
    {
      "cell_type": "code",
      "execution_count": null,
      "metadata": {},
      "outputs": [],
      "source": [
        "import numpy as np\n",
        "from sklearn.decomposition import PCA\n",
        "\n",
        "n_components = 10\n",
        "\n",
        "\n",
        "def pca_components_analysis(df_pca, n_components):\n",
        "    pca = PCA(n_components=n_components).fit(df_pca)\n",
        "    x_PCA = pca.transform(df_pca)  # array with transformed PCA\n",
        "\n",
        "    ComponentsList = [\"Component \" + str(number)\n",
        "                      for number in range(n_components)]\n",
        "    dfExplVarRatio = pd.DataFrame(\n",
        "        data=np.round(100 * pca.explained_variance_ratio_, 3),\n",
        "        index=ComponentsList,\n",
        "        columns=['Explained Variance Ratio (%)'])\n",
        "\n",
        "    dfExplVarRatio['Accumulated Variance'] = dfExplVarRatio['Explained Variance Ratio (%)'].cumsum(\n",
        "    )\n",
        "\n",
        "    PercentageOfDataExplained = dfExplVarRatio['Explained Variance Ratio (%)'].sum(\n",
        "    )\n",
        "\n",
        "    print(\n",
        "        f\"* The {n_components} components explain {round(PercentageOfDataExplained,2)}% of the data \\n\")\n",
        "    plt.figure(figsize=(12, 5))\n",
        "    sns.lineplot(data=dfExplVarRatio,  marker=\"o\")\n",
        "    plt.xticks(rotation=90)\n",
        "    plt.yticks(np.arange(0, 110, 10))\n",
        "    plt.show()\n",
        "\n",
        "\n",
        "pca_components_analysis(df_pca=df_pca, n_components=n_components)\n"
      ]
    },
    {
      "cell_type": "code",
      "execution_count": null,
      "metadata": {},
      "outputs": [],
      "source": [
        "n_components = 7\n",
        "pca_components_analysis(df_pca=df_pca, n_components=n_components)"
      ]
    },
    {
      "cell_type": "markdown",
      "metadata": {
        "id": "5eaMf41ZBhBk"
      },
      "source": [
        "## Rewrite ML Pipeline for Modelling"
      ]
    },
    {
      "cell_type": "code",
      "execution_count": null,
      "metadata": {
        "id": "XfU562GBIsB1"
      },
      "outputs": [],
      "source": [
        "# PCA\n",
        "from sklearn.decomposition import PCA\n",
        "\n",
        "\n",
        "def PipelineOptimization(model):\n",
        "    pipeline_base = Pipeline([\n",
        "\n",
        "        (\"OrdinalCategoricalEncoder\", OrdinalEncoder(encoding_method='arbitrary',\n",
        "                                                      variables=['bb_status', 'month', 'time', 'weekday_name', 'market_state_lag1', 'market_bb'])),\n",
        "\n",
        "\n",
        "        (\"SmartCorrelatedSelection\", SmartCorrelatedSelection(variables=None,\n",
        "         method=\"spearman\", threshold=0.6, selection_method=\"variance\")),\n",
        "\n",
        "\n",
        "        (\"feat_scaling\", StandardScaler()),\n",
        "\n",
        "        # PCA replace Feature Selection\n",
        "        (\"PCA\", PCA(n_components=7, random_state=0)),\n",
        "\n",
        "        (\"model\", model),\n",
        "\n",
        "    ])\n",
        "\n",
        "    return pipeline_base\n"
      ]
    },
    {
      "cell_type": "markdown",
      "metadata": {
        "id": "irUsq475Bn7N"
      },
      "source": [
        "## Grid Search CV – Sklearn"
      ]
    },
    {
      "cell_type": "code",
      "execution_count": null,
      "metadata": {},
      "outputs": [],
      "source": [
        "print(\"* Train set:\", X_train.shape, y_train.shape, \"\\n* Test set:\",  X_test.shape, y_test.shape)"
      ]
    },
    {
      "cell_type": "markdown",
      "metadata": {
        "id": "2LVF-KR_Bqum"
      },
      "source": [
        "### Use standard hyperparameters to find the most suitable model."
      ]
    },
    {
      "cell_type": "code",
      "execution_count": null,
      "metadata": {
        "id": "2XmJNoUcJkKX"
      },
      "outputs": [],
      "source": [
        "models_quick_search = {\n",
        "    'LinearRegression': LinearRegression(),\n",
        "    \"DecisionTreeRegressor\": DecisionTreeRegressor(random_state=0),\n",
        "    \"RandomForestRegressor\": RandomForestRegressor(random_state=0),\n",
        "    \"ExtraTreesRegressor\": ExtraTreesRegressor(random_state=0),\n",
        "    \"AdaBoostRegressor\": AdaBoostRegressor(random_state=0),\n",
        "    \"GradientBoostingRegressor\": GradientBoostingRegressor(random_state=0),\n",
        "    \"XGBRegressor\": XGBRegressor(random_state=0),\n",
        "}\n",
        "\n",
        "params_quick_search = {\n",
        "    'LinearRegression': {},\n",
        "    \"DecisionTreeRegressor\": {},\n",
        "    \"RandomForestRegressor\": {},\n",
        "    \"ExtraTreesRegressor\": {},\n",
        "    \"AdaBoostRegressor\": {},\n",
        "    \"GradientBoostingRegressor\": {},\n",
        "    \"XGBRegressor\": {},\n",
        "}\n"
      ]
    },
    {
      "cell_type": "markdown",
      "metadata": {
        "id": "Jq8td65fJkKY"
      },
      "source": [
        "Do a quick optimisation search "
      ]
    },
    {
      "cell_type": "code",
      "execution_count": null,
      "metadata": {
        "id": "s1BdqEB6JkKZ"
      },
      "outputs": [],
      "source": [
        "quick_search = HyperparameterOptimizationSearch(models=models_quick_search, params=params_quick_search)\n",
        "quick_search.fit(X_train, y_train, scoring='r2', n_jobs=-1, cv=5)"
      ]
    },
    {
      "cell_type": "markdown",
      "metadata": {
        "id": "zQ_Xj5oGJkKZ"
      },
      "source": [
        "Check results"
      ]
    },
    {
      "cell_type": "code",
      "execution_count": null,
      "metadata": {
        "id": "vIC2csxKJkKZ"
      },
      "outputs": [],
      "source": [
        "grid_search_summary, grid_search_pipelines = quick_search.score_summary(sort_by='mean_score')\n",
        "grid_search_summary"
      ]
    },
    {
      "cell_type": "markdown",
      "metadata": {
        "id": "383vOhJZBwza"
      },
      "source": [
        "### Do an extensive search on the most suitable model to find the best hyperparameter configuration."
      ]
    },
    {
      "cell_type": "markdown",
      "metadata": {
        "id": "PrcbiQHlB9QT"
      },
      "source": [
        "Define model and parameters for extensive search"
      ]
    },
    {
      "cell_type": "code",
      "execution_count": null,
      "metadata": {
        "id": "S7t-fum6B9QU"
      },
      "outputs": [],
      "source": [
        "models_search = {\n",
        "    \"ExtraTreesRegressor\":ExtraTreesRegressor(random_state=0),\n",
        "}\n",
        "\n",
        "# documentation to help on hyperparameter list: \n",
        "# https://scikit-learn.org/stable/modules/generated/sklearn.ensemble.GradientBoostingRegressor.html\n",
        "\n",
        "# We will not conduct an extensive search, since the focus\n",
        "# is on how to combine all knowledge in an applied project.\n",
        "# In a workplace project, you may spend more time in this step\n",
        "params_search = {\n",
        "    \"ExtraTreesRegressor\": {\n",
        "        'model__n_estimators': [100, 300],\n",
        "        'model__max_depth': [None, 3, 10],\n",
        "        'model__min_samples_split': [2, 5, 10],\n",
        "        'model__min_samples_leaf': [1, 2, 4],\n",
        "        'model__bootstrap': [True, False],\n",
        "        'model__criterion': ['mse', 'mae']\n",
        "    }\n",
        "\n",
        "}"
      ]
    },
    {
      "cell_type": "markdown",
      "metadata": {
        "id": "Jvt-IOmHB9QU"
      },
      "source": [
        "Extensive GridSearch CV"
      ]
    },
    {
      "cell_type": "code",
      "execution_count": null,
      "metadata": {
        "id": "eXbTwW1UB9QV"
      },
      "outputs": [],
      "source": [
        "search = HyperparameterOptimizationSearch(models=models_search, params=params_search)\n",
        "search.fit(X_train, y_train, scoring = 'r2', n_jobs=-1, cv=5)"
      ]
    },
    {
      "cell_type": "markdown",
      "metadata": {
        "id": "TVUDzRSGB9QV"
      },
      "source": [
        "Check results"
      ]
    },
    {
      "cell_type": "code",
      "execution_count": null,
      "metadata": {
        "id": "5ZfOdh5kB9QW"
      },
      "outputs": [],
      "source": [
        "grid_search_summary, grid_search_pipelines = search.score_summary(sort_by='mean_score')\n",
        "grid_search_summary"
      ]
    },
    {
      "cell_type": "markdown",
      "metadata": {
        "id": "CgoLo5C8B9QW"
      },
      "source": [
        "Check the best model"
      ]
    },
    {
      "cell_type": "code",
      "execution_count": null,
      "metadata": {
        "id": "C3UGYjpcB9QW"
      },
      "outputs": [],
      "source": [
        "best_model = grid_search_summary.iloc[0,0]\n",
        "best_model"
      ]
    },
    {
      "cell_type": "markdown",
      "metadata": {
        "id": "bjY2MdBNB9QX"
      },
      "source": [
        "Parameters for best model"
      ]
    },
    {
      "cell_type": "code",
      "execution_count": null,
      "metadata": {
        "id": "Uspihv71B9QX"
      },
      "outputs": [],
      "source": [
        "grid_search_pipelines[best_model].best_params_"
      ]
    },
    {
      "cell_type": "markdown",
      "metadata": {
        "id": "-8HonhniB9QX"
      },
      "source": [
        "Define the best regressor"
      ]
    },
    {
      "cell_type": "code",
      "execution_count": null,
      "metadata": {
        "id": "DC8U4skKB9QY"
      },
      "outputs": [],
      "source": [
        "best_regressor_pipeline = grid_search_pipelines[best_model].best_estimator_\n",
        "best_regressor_pipeline"
      ]
    },
    {
      "cell_type": "markdown",
      "metadata": {
        "id": "rKGmSgINCQwj"
      },
      "source": [
        "## Evaluate Regressor on Train and Tests Sets"
      ]
    },
    {
      "cell_type": "code",
      "execution_count": null,
      "metadata": {
        "id": "78tt_ZkiJRdE"
      },
      "outputs": [],
      "source": [
        "regression_performance(X_train, y_train, X_test, y_test,best_regressor_pipeline)\n",
        "regression_evaluation_plots(X_train, y_train, X_test, y_test,\n",
        "                            best_regressor_pipeline)"
      ]
    },
    {
      "cell_type": "markdown",
      "metadata": {
        "id": "qpKz9qjRUOR0"
      },
      "source": [
        "# 3. Convert Regression to Classification"
      ]
    },
    {
      "cell_type": "markdown",
      "metadata": {
        "id": "g0yf7s9LVZFH"
      },
      "source": [
        "### Convert numerical target to bins, and check if it is balanced"
      ]
    },
    {
      "cell_type": "code",
      "execution_count": 175,
      "metadata": {
        "id": "dzXQjVf-Uoay"
      },
      "outputs": [
        {
          "data": {
            "image/png": "[encoded data removed]",
            "text/plain": [
              "<Figure size 640x480 with 1 Axes>"
            ]
          },
          "metadata": {},
          "output_type": "display_data"
        }
      ],
      "source": [
        "from feature_engine.discretisation import EqualFrequencyDiscretiser\n",
        "\n",
        "# Auto create the bins\n",
        "disc = EqualFrequencyDiscretiser(q=6, variables=['pl_close_4_hr'])  # we will try q as 2, and 3\n",
        "df_clf = disc.fit_transform(df)\n",
        "\n",
        "#print(f\"* The classes represent the following ranges: \\n{disc.binner_dict_} \\n\")\n",
        "\n",
        "sns.countplot(data=df_clf, x='pl_close_4_hr')\n",
        "plt.show()\n"
      ]
    },
    {
      "cell_type": "code",
      "execution_count": 176,
      "metadata": {},
      "outputs": [
        {
          "name": "stdout",
          "output_type": "stream",
          "text": [
            "['year', 'month', 'day', 'weekday_name', 'bb_status_1']\n",
            "<class 'pandas.core.series.Series'>\n"
          ]
        }
      ],
      "source": [
        "\n",
        "categorical_columns = df.select_dtypes(include=['object']).columns.tolist()\n",
        "print(categorical_columns)\n",
        "print(type(df['pl_close_4_hr']))"
      ]
    },
    {
      "cell_type": "markdown",
      "metadata": {
        "id": "lkPaGZfiXexn"
      },
      "source": [
        "## 3.1 Rewrite ML Pipeline for Modelling"
      ]
    },
    {
      "cell_type": "code",
      "execution_count": 182,
      "metadata": {
        "id": "I53mlfqRUSzn"
      },
      "outputs": [],
      "source": [
        "def PipelineOptimization(model):\n",
        "    pipeline_base = Pipeline([\n",
        "\n",
        "        (\"OrdinalCategoricalEncoder\", OrdinalEncoder(encoding_method='arbitrary',\n",
        "                                                     variables=['year', 'month', 'day', 'weekday_name', 'bb_status_1'])),\n",
        "\n",
        "\n",
        "        (\"SmartCorrelatedSelection\", SmartCorrelatedSelection(variables=None,\n",
        "         method=\"spearman\", threshold=0.6, selection_method=\"variance\")),\n",
        "\n",
        "        (\"feat_scaling\", StandardScaler()),\n",
        "\n",
        "        (\"feat_selection\",  SelectFromModel(model)),\n",
        "\n",
        "        (\"model\", model),\n",
        "\n",
        "    ])\n",
        "\n",
        "    return pipeline_base\n"
      ]
    },
    {
      "cell_type": "markdown",
      "metadata": {
        "id": "fW2lu54NCgOC"
      },
      "source": [
        "## 3.2 Load algorithms for classification"
      ]
    },
    {
      "cell_type": "code",
      "execution_count": 183,
      "metadata": {
        "id": "MvkMORvOft14"
      },
      "outputs": [],
      "source": [
        "from sklearn.tree import DecisionTreeClassifier \n",
        "from sklearn.ensemble import RandomForestClassifier\n",
        "from sklearn.ensemble import GradientBoostingClassifier \n",
        "from sklearn.ensemble import ExtraTreesClassifier\n",
        "from sklearn.ensemble import AdaBoostClassifier\n",
        "from xgboost import XGBClassifier"
      ]
    },
    {
      "cell_type": "markdown",
      "metadata": {
        "id": "mVnTzZZBC73_"
      },
      "source": [
        "## 3.3 Split Train Test Sets"
      ]
    },
    {
      "cell_type": "code",
      "execution_count": 184,
      "metadata": {
        "id": "ev5Rb80fC-dP"
      },
      "outputs": [
        {
          "name": "stdout",
          "output_type": "stream",
          "text": [
            "* Train set: (3043, 31) (3043,) \n",
            "* Test set: (761, 31) (761,)\n"
          ]
        }
      ],
      "source": [
        "X_train, X_test, y_train, y_test = train_test_split(\n",
        "    df_clf.drop(['pl_close_4_hr', 'trade_close_4_hr', 'trade_close_1_hr', 'pl_close_1_hr'], axis=1),\n",
        "    df_clf['pl_close_4_hr'],\n",
        "    test_size=0.2,\n",
        "    random_state=0\n",
        ")\n",
        "\n",
        "print(\"* Train set:\", X_train.shape, y_train.shape,\n",
        "      \"\\n* Test set:\",  X_test.shape, y_test.shape)\n"
      ]
    },
    {
      "cell_type": "markdown",
      "metadata": {
        "id": "aTEEhpvRDF0a"
      },
      "source": [
        "## 3.4 Grid Seach CV – Sklearn"
      ]
    },
    {
      "cell_type": "markdown",
      "metadata": {
        "id": "PPNNBP-QDIkv"
      },
      "source": [
        "### Use standard hyper parameters to find most suitable model"
      ]
    },
    {
      "cell_type": "code",
      "execution_count": 185,
      "metadata": {
        "id": "IfW5jSmSe7Gl"
      },
      "outputs": [],
      "source": [
        "models_quick_search = {\n",
        "    \"XGBClassifier\": XGBClassifier(random_state=0),\n",
        "    \"DecisionTreeClassifier\": DecisionTreeClassifier(random_state=0),\n",
        "    \"RandomForestClassifier\": RandomForestClassifier(random_state=0),\n",
        "    \"GradientBoostingClassifier\": GradientBoostingClassifier(random_state=0),\n",
        "    \"ExtraTreesClassifier\": ExtraTreesClassifier(random_state=0),\n",
        "    \"AdaBoostClassifier\": AdaBoostClassifier(random_state=0),\n",
        "}\n",
        "\n",
        "params_quick_search = {\n",
        "    \"XGBClassifier\":{},\n",
        "    \"DecisionTreeClassifier\":{},\n",
        "    \"RandomForestClassifier\":{},\n",
        "    \"GradientBoostingClassifier\":{},\n",
        "    \"ExtraTreesClassifier\":{},\n",
        "    \"AdaBoostClassifier\":{},\n",
        "}"
      ]
    },
    {
      "cell_type": "markdown",
      "metadata": {
        "id": "YDYHs3I1D89F"
      },
      "source": [
        "GridSearch CV"
      ]
    },
    {
      "cell_type": "code",
      "execution_count": 186,
      "metadata": {
        "id": "dh-nd-JCfX7M"
      },
      "outputs": [
        {
          "name": "stdout",
          "output_type": "stream",
          "text": [
            "\n",
            "Running GridSearchCV for XGBClassifier \n",
            "\n",
            "Fitting 5 folds for each of 1 candidates, totalling 5 fits\n"
          ]
        },
        {
          "name": "stderr",
          "output_type": "stream",
          "text": [
            "c:\\Users\\sunny\\anaconda3\\envs\\myenv3811\\lib\\site-packages\\feature_engine\\selection\\smart_correlation_selection.py:271: FutureWarning: Passing a set as an indexer is deprecated and will raise in a future version. Use a list instead.\n",
            "  f = X[feature_group].std().sort_values(ascending=False).index[0]\n",
            "c:\\Users\\sunny\\anaconda3\\envs\\myenv3811\\lib\\site-packages\\feature_engine\\selection\\smart_correlation_selection.py:271: FutureWarning: Passing a set as an indexer is deprecated and will raise in a future version. Use a list instead.\n",
            "  f = X[feature_group].std().sort_values(ascending=False).index[0]\n",
            "c:\\Users\\sunny\\anaconda3\\envs\\myenv3811\\lib\\site-packages\\feature_engine\\selection\\smart_correlation_selection.py:271: FutureWarning: Passing a set as an indexer is deprecated and will raise in a future version. Use a list instead.\n",
            "  f = X[feature_group].std().sort_values(ascending=False).index[0]\n",
            "c:\\Users\\sunny\\anaconda3\\envs\\myenv3811\\lib\\site-packages\\feature_engine\\selection\\smart_correlation_selection.py:271: FutureWarning: Passing a set as an indexer is deprecated and will raise in a future version. Use a list instead.\n",
            "  f = X[feature_group].std().sort_values(ascending=False).index[0]\n"
          ]
        },
        {
          "name": "stdout",
          "output_type": "stream",
          "text": [
            "\n",
            "Running GridSearchCV for DecisionTreeClassifier \n",
            "\n",
            "Fitting 5 folds for each of 1 candidates, totalling 5 fits\n"
          ]
        },
        {
          "name": "stderr",
          "output_type": "stream",
          "text": [
            "c:\\Users\\sunny\\anaconda3\\envs\\myenv3811\\lib\\site-packages\\feature_engine\\selection\\smart_correlation_selection.py:271: FutureWarning: Passing a set as an indexer is deprecated and will raise in a future version. Use a list instead.\n",
            "  f = X[feature_group].std().sort_values(ascending=False).index[0]\n",
            "c:\\Users\\sunny\\anaconda3\\envs\\myenv3811\\lib\\site-packages\\feature_engine\\selection\\smart_correlation_selection.py:271: FutureWarning: Passing a set as an indexer is deprecated and will raise in a future version. Use a list instead.\n",
            "  f = X[feature_group].std().sort_values(ascending=False).index[0]\n",
            "c:\\Users\\sunny\\anaconda3\\envs\\myenv3811\\lib\\site-packages\\feature_engine\\selection\\smart_correlation_selection.py:271: FutureWarning: Passing a set as an indexer is deprecated and will raise in a future version. Use a list instead.\n",
            "  f = X[feature_group].std().sort_values(ascending=False).index[0]\n",
            "c:\\Users\\sunny\\anaconda3\\envs\\myenv3811\\lib\\site-packages\\feature_engine\\selection\\smart_correlation_selection.py:271: FutureWarning: Passing a set as an indexer is deprecated and will raise in a future version. Use a list instead.\n",
            "  f = X[feature_group].std().sort_values(ascending=False).index[0]\n"
          ]
        },
        {
          "name": "stdout",
          "output_type": "stream",
          "text": [
            "\n",
            "Running GridSearchCV for RandomForestClassifier \n",
            "\n",
            "Fitting 5 folds for each of 1 candidates, totalling 5 fits\n"
          ]
        },
        {
          "name": "stderr",
          "output_type": "stream",
          "text": [
            "c:\\Users\\sunny\\anaconda3\\envs\\myenv3811\\lib\\site-packages\\feature_engine\\selection\\smart_correlation_selection.py:271: FutureWarning: Passing a set as an indexer is deprecated and will raise in a future version. Use a list instead.\n",
            "  f = X[feature_group].std().sort_values(ascending=False).index[0]\n",
            "c:\\Users\\sunny\\anaconda3\\envs\\myenv3811\\lib\\site-packages\\feature_engine\\selection\\smart_correlation_selection.py:271: FutureWarning: Passing a set as an indexer is deprecated and will raise in a future version. Use a list instead.\n",
            "  f = X[feature_group].std().sort_values(ascending=False).index[0]\n",
            "c:\\Users\\sunny\\anaconda3\\envs\\myenv3811\\lib\\site-packages\\feature_engine\\selection\\smart_correlation_selection.py:271: FutureWarning: Passing a set as an indexer is deprecated and will raise in a future version. Use a list instead.\n",
            "  f = X[feature_group].std().sort_values(ascending=False).index[0]\n",
            "c:\\Users\\sunny\\anaconda3\\envs\\myenv3811\\lib\\site-packages\\feature_engine\\selection\\smart_correlation_selection.py:271: FutureWarning: Passing a set as an indexer is deprecated and will raise in a future version. Use a list instead.\n",
            "  f = X[feature_group].std().sort_values(ascending=False).index[0]\n"
          ]
        },
        {
          "name": "stdout",
          "output_type": "stream",
          "text": [
            "\n",
            "Running GridSearchCV for GradientBoostingClassifier \n",
            "\n",
            "Fitting 5 folds for each of 1 candidates, totalling 5 fits\n"
          ]
        },
        {
          "name": "stderr",
          "output_type": "stream",
          "text": [
            "c:\\Users\\sunny\\anaconda3\\envs\\myenv3811\\lib\\site-packages\\feature_engine\\selection\\smart_correlation_selection.py:271: FutureWarning: Passing a set as an indexer is deprecated and will raise in a future version. Use a list instead.\n",
            "  f = X[feature_group].std().sort_values(ascending=False).index[0]\n",
            "c:\\Users\\sunny\\anaconda3\\envs\\myenv3811\\lib\\site-packages\\feature_engine\\selection\\smart_correlation_selection.py:271: FutureWarning: Passing a set as an indexer is deprecated and will raise in a future version. Use a list instead.\n",
            "  f = X[feature_group].std().sort_values(ascending=False).index[0]\n",
            "c:\\Users\\sunny\\anaconda3\\envs\\myenv3811\\lib\\site-packages\\feature_engine\\selection\\smart_correlation_selection.py:271: FutureWarning: Passing a set as an indexer is deprecated and will raise in a future version. Use a list instead.\n",
            "  f = X[feature_group].std().sort_values(ascending=False).index[0]\n",
            "c:\\Users\\sunny\\anaconda3\\envs\\myenv3811\\lib\\site-packages\\feature_engine\\selection\\smart_correlation_selection.py:271: FutureWarning: Passing a set as an indexer is deprecated and will raise in a future version. Use a list instead.\n",
            "  f = X[feature_group].std().sort_values(ascending=False).index[0]\n"
          ]
        },
        {
          "name": "stdout",
          "output_type": "stream",
          "text": [
            "\n",
            "Running GridSearchCV for ExtraTreesClassifier \n",
            "\n",
            "Fitting 5 folds for each of 1 candidates, totalling 5 fits\n"
          ]
        },
        {
          "name": "stderr",
          "output_type": "stream",
          "text": [
            "c:\\Users\\sunny\\anaconda3\\envs\\myenv3811\\lib\\site-packages\\feature_engine\\selection\\smart_correlation_selection.py:271: FutureWarning: Passing a set as an indexer is deprecated and will raise in a future version. Use a list instead.\n",
            "  f = X[feature_group].std().sort_values(ascending=False).index[0]\n",
            "c:\\Users\\sunny\\anaconda3\\envs\\myenv3811\\lib\\site-packages\\feature_engine\\selection\\smart_correlation_selection.py:271: FutureWarning: Passing a set as an indexer is deprecated and will raise in a future version. Use a list instead.\n",
            "  f = X[feature_group].std().sort_values(ascending=False).index[0]\n",
            "c:\\Users\\sunny\\anaconda3\\envs\\myenv3811\\lib\\site-packages\\feature_engine\\selection\\smart_correlation_selection.py:271: FutureWarning: Passing a set as an indexer is deprecated and will raise in a future version. Use a list instead.\n",
            "  f = X[feature_group].std().sort_values(ascending=False).index[0]\n",
            "c:\\Users\\sunny\\anaconda3\\envs\\myenv3811\\lib\\site-packages\\feature_engine\\selection\\smart_correlation_selection.py:271: FutureWarning: Passing a set as an indexer is deprecated and will raise in a future version. Use a list instead.\n",
            "  f = X[feature_group].std().sort_values(ascending=False).index[0]\n"
          ]
        },
        {
          "name": "stdout",
          "output_type": "stream",
          "text": [
            "\n",
            "Running GridSearchCV for AdaBoostClassifier \n",
            "\n",
            "Fitting 5 folds for each of 1 candidates, totalling 5 fits\n"
          ]
        },
        {
          "name": "stderr",
          "output_type": "stream",
          "text": [
            "c:\\Users\\sunny\\anaconda3\\envs\\myenv3811\\lib\\site-packages\\feature_engine\\selection\\smart_correlation_selection.py:271: FutureWarning: Passing a set as an indexer is deprecated and will raise in a future version. Use a list instead.\n",
            "  f = X[feature_group].std().sort_values(ascending=False).index[0]\n",
            "c:\\Users\\sunny\\anaconda3\\envs\\myenv3811\\lib\\site-packages\\feature_engine\\selection\\smart_correlation_selection.py:271: FutureWarning: Passing a set as an indexer is deprecated and will raise in a future version. Use a list instead.\n",
            "  f = X[feature_group].std().sort_values(ascending=False).index[0]\n",
            "c:\\Users\\sunny\\anaconda3\\envs\\myenv3811\\lib\\site-packages\\feature_engine\\selection\\smart_correlation_selection.py:271: FutureWarning: Passing a set as an indexer is deprecated and will raise in a future version. Use a list instead.\n",
            "  f = X[feature_group].std().sort_values(ascending=False).index[0]\n",
            "c:\\Users\\sunny\\anaconda3\\envs\\myenv3811\\lib\\site-packages\\feature_engine\\selection\\smart_correlation_selection.py:271: FutureWarning: Passing a set as an indexer is deprecated and will raise in a future version. Use a list instead.\n",
            "  f = X[feature_group].std().sort_values(ascending=False).index[0]\n"
          ]
        }
      ],
      "source": [
        "from sklearn.metrics import make_scorer, recall_score\n",
        "quick_search = HyperparameterOptimizationSearch(models=models_quick_search, params=params_quick_search)\n",
        "quick_search.fit(X_train, y_train,\n",
        "                 scoring = make_scorer(recall_score, labels=[0], average=None),\n",
        "                 n_jobs=-1,\n",
        "                 cv=5)"
      ]
    },
    {
      "cell_type": "markdown",
      "metadata": {
        "id": "uqQfPBxfEQgf"
      },
      "source": [
        "Check results"
      ]
    },
    {
      "cell_type": "code",
      "execution_count": 187,
      "metadata": {
        "id": "yXUbzctLfXd2"
      },
      "outputs": [
        {
          "data": {
            "text/html": [
              "<div>\n",
              "<style scoped>\n",
              "    .dataframe tbody tr th:only-of-type {\n",
              "        vertical-align: middle;\n",
              "    }\n",
              "\n",
              "    .dataframe tbody tr th {\n",
              "        vertical-align: top;\n",
              "    }\n",
              "\n",
              "    .dataframe thead th {\n",
              "        text-align: right;\n",
              "    }\n",
              "</style>\n",
              "<table border=\"1\" class=\"dataframe\">\n",
              "  <thead>\n",
              "    <tr style=\"text-align: right;\">\n",
              "      <th></th>\n",
              "      <th>estimator</th>\n",
              "      <th>min_score</th>\n",
              "      <th>mean_score</th>\n",
              "      <th>max_score</th>\n",
              "      <th>std_score</th>\n",
              "    </tr>\n",
              "  </thead>\n",
              "  <tbody>\n",
              "    <tr>\n",
              "      <th>2</th>\n",
              "      <td>RandomForestClassifier</td>\n",
              "      <td>0.656863</td>\n",
              "      <td>0.686846</td>\n",
              "      <td>0.715686</td>\n",
              "      <td>0.02288</td>\n",
              "    </tr>\n",
              "    <tr>\n",
              "      <th>4</th>\n",
              "      <td>ExtraTreesClassifier</td>\n",
              "      <td>0.578431</td>\n",
              "      <td>0.635903</td>\n",
              "      <td>0.68932</td>\n",
              "      <td>0.04162</td>\n",
              "    </tr>\n",
              "    <tr>\n",
              "      <th>5</th>\n",
              "      <td>AdaBoostClassifier</td>\n",
              "      <td>0.578431</td>\n",
              "      <td>0.612507</td>\n",
              "      <td>0.637255</td>\n",
              "      <td>0.021376</td>\n",
              "    </tr>\n",
              "    <tr>\n",
              "      <th>3</th>\n",
              "      <td>GradientBoostingClassifier</td>\n",
              "      <td>0.529412</td>\n",
              "      <td>0.586979</td>\n",
              "      <td>0.640777</td>\n",
              "      <td>0.037368</td>\n",
              "    </tr>\n",
              "    <tr>\n",
              "      <th>1</th>\n",
              "      <td>DecisionTreeClassifier</td>\n",
              "      <td>0.470588</td>\n",
              "      <td>0.563583</td>\n",
              "      <td>0.676471</td>\n",
              "      <td>0.068748</td>\n",
              "    </tr>\n",
              "    <tr>\n",
              "      <th>0</th>\n",
              "      <td>XGBClassifier</td>\n",
              "      <td>0.421569</td>\n",
              "      <td>0.477422</td>\n",
              "      <td>0.529412</td>\n",
              "      <td>0.039869</td>\n",
              "    </tr>\n",
              "  </tbody>\n",
              "</table>\n",
              "</div>"
            ],
            "text/plain": [
              "                    estimator min_score mean_score max_score std_score\n",
              "2      RandomForestClassifier  0.656863   0.686846  0.715686   0.02288\n",
              "4        ExtraTreesClassifier  0.578431   0.635903   0.68932   0.04162\n",
              "5          AdaBoostClassifier  0.578431   0.612507  0.637255  0.021376\n",
              "3  GradientBoostingClassifier  0.529412   0.586979  0.640777  0.037368\n",
              "1      DecisionTreeClassifier  0.470588   0.563583  0.676471  0.068748\n",
              "0               XGBClassifier  0.421569   0.477422  0.529412  0.039869"
            ]
          },
          "execution_count": 187,
          "metadata": {},
          "output_type": "execute_result"
        }
      ],
      "source": [
        "grid_search_summary, grid_search_pipelines = quick_search.score_summary(sort_by='mean_score')\n",
        "grid_search_summary"
      ]
    },
    {
      "cell_type": "markdown",
      "metadata": {
        "id": "uQWhAJtcDoSI"
      },
      "source": [
        "### Do an extensive search on the most suitable model to find the best hyperparameter configuration."
      ]
    },
    {
      "cell_type": "markdown",
      "metadata": {
        "id": "yyeaZbCFDxf4"
      },
      "source": [
        "Define models and parameters"
      ]
    },
    {
      "cell_type": "code",
      "execution_count": 188,
      "metadata": {
        "id": "FxEXnjBWDzOr"
      },
      "outputs": [],
      "source": [
        "models_search = {\n",
        "    \"RandomForestClassifier\": RandomForestClassifier(random_state=0),\n",
        "}\n",
        "\n",
        "# documentation to help on hyperparameter list:\n",
        "# https://scikit-learn.org/stable/modules/generated/sklearn.ensemble.AdaBoostClassifier.html\n",
        "params_search = {\n",
        "    \"RandomForestClassifier\": {\n",
        "        'model__n_estimators': [50, 100, 300],\n",
        "        'model__max_depth': [None, 10, 20, 30],\n",
        "        'model__min_samples_split': [2, 5, 10],\n",
        "        'model__min_samples_leaf': [1, 2, 4],\n",
        "    }\n",
        "}\n"
      ]
    },
    {
      "cell_type": "markdown",
      "metadata": {
        "id": "ZcqabQPpD_vX"
      },
      "source": [
        "Extensive GridSearch CV"
      ]
    },
    {
      "cell_type": "code",
      "execution_count": 189,
      "metadata": {
        "id": "CC2xgdgkECox"
      },
      "outputs": [
        {
          "name": "stdout",
          "output_type": "stream",
          "text": [
            "\n",
            "Running GridSearchCV for RandomForestClassifier \n",
            "\n",
            "Fitting 5 folds for each of 108 candidates, totalling 540 fits\n"
          ]
        },
        {
          "name": "stderr",
          "output_type": "stream",
          "text": [
            "c:\\Users\\sunny\\anaconda3\\envs\\myenv3811\\lib\\site-packages\\feature_engine\\selection\\smart_correlation_selection.py:271: FutureWarning: Passing a set as an indexer is deprecated and will raise in a future version. Use a list instead.\n",
            "  f = X[feature_group].std().sort_values(ascending=False).index[0]\n",
            "c:\\Users\\sunny\\anaconda3\\envs\\myenv3811\\lib\\site-packages\\feature_engine\\selection\\smart_correlation_selection.py:271: FutureWarning: Passing a set as an indexer is deprecated and will raise in a future version. Use a list instead.\n",
            "  f = X[feature_group].std().sort_values(ascending=False).index[0]\n",
            "c:\\Users\\sunny\\anaconda3\\envs\\myenv3811\\lib\\site-packages\\feature_engine\\selection\\smart_correlation_selection.py:271: FutureWarning: Passing a set as an indexer is deprecated and will raise in a future version. Use a list instead.\n",
            "  f = X[feature_group].std().sort_values(ascending=False).index[0]\n",
            "c:\\Users\\sunny\\anaconda3\\envs\\myenv3811\\lib\\site-packages\\feature_engine\\selection\\smart_correlation_selection.py:271: FutureWarning: Passing a set as an indexer is deprecated and will raise in a future version. Use a list instead.\n",
            "  f = X[feature_group].std().sort_values(ascending=False).index[0]\n"
          ]
        }
      ],
      "source": [
        "from sklearn.metrics import make_scorer,  recall_score\n",
        "search = HyperparameterOptimizationSearch(\n",
        "    models=models_search, params=params_search)\n",
        "search.fit(X_train, y_train,\n",
        "           scoring=make_scorer(recall_score, labels=[0], average=None),\n",
        "           n_jobs=-1, cv=5)\n"
      ]
    },
    {
      "cell_type": "markdown",
      "metadata": {
        "id": "RDne0BgoEaDz"
      },
      "source": [
        "Check results"
      ]
    },
    {
      "cell_type": "code",
      "execution_count": 190,
      "metadata": {
        "id": "KsNiNwdGECra"
      },
      "outputs": [
        {
          "data": {
            "text/html": [
              "<div>\n",
              "<style scoped>\n",
              "    .dataframe tbody tr th:only-of-type {\n",
              "        vertical-align: middle;\n",
              "    }\n",
              "\n",
              "    .dataframe tbody tr th {\n",
              "        vertical-align: top;\n",
              "    }\n",
              "\n",
              "    .dataframe thead th {\n",
              "        text-align: right;\n",
              "    }\n",
              "</style>\n",
              "<table border=\"1\" class=\"dataframe\">\n",
              "  <thead>\n",
              "    <tr style=\"text-align: right;\">\n",
              "      <th></th>\n",
              "      <th>estimator</th>\n",
              "      <th>min_score</th>\n",
              "      <th>mean_score</th>\n",
              "      <th>max_score</th>\n",
              "      <th>std_score</th>\n",
              "      <th>model__max_depth</th>\n",
              "      <th>model__min_samples_leaf</th>\n",
              "      <th>model__min_samples_split</th>\n",
              "      <th>model__n_estimators</th>\n",
              "    </tr>\n",
              "  </thead>\n",
              "  <tbody>\n",
              "    <tr>\n",
              "      <th>94</th>\n",
              "      <td>RandomForestClassifier</td>\n",
              "      <td>0.647059</td>\n",
              "      <td>0.69663</td>\n",
              "      <td>0.735294</td>\n",
              "      <td>0.030119</td>\n",
              "      <td>30</td>\n",
              "      <td>2</td>\n",
              "      <td>5</td>\n",
              "      <td>100</td>\n",
              "    </tr>\n",
              "    <tr>\n",
              "      <th>13</th>\n",
              "      <td>RandomForestClassifier</td>\n",
              "      <td>0.647059</td>\n",
              "      <td>0.69663</td>\n",
              "      <td>0.735294</td>\n",
              "      <td>0.030119</td>\n",
              "      <td>None</td>\n",
              "      <td>2</td>\n",
              "      <td>5</td>\n",
              "      <td>100</td>\n",
              "    </tr>\n",
              "    <tr>\n",
              "      <th>22</th>\n",
              "      <td>RandomForestClassifier</td>\n",
              "      <td>0.656863</td>\n",
              "      <td>0.694689</td>\n",
              "      <td>0.72549</td>\n",
              "      <td>0.02302</td>\n",
              "      <td>None</td>\n",
              "      <td>4</td>\n",
              "      <td>5</td>\n",
              "      <td>100</td>\n",
              "    </tr>\n",
              "    <tr>\n",
              "      <th>19</th>\n",
              "      <td>RandomForestClassifier</td>\n",
              "      <td>0.656863</td>\n",
              "      <td>0.694689</td>\n",
              "      <td>0.72549</td>\n",
              "      <td>0.02302</td>\n",
              "      <td>None</td>\n",
              "      <td>4</td>\n",
              "      <td>2</td>\n",
              "      <td>100</td>\n",
              "    </tr>\n",
              "    <tr>\n",
              "      <th>100</th>\n",
              "      <td>RandomForestClassifier</td>\n",
              "      <td>0.656863</td>\n",
              "      <td>0.694689</td>\n",
              "      <td>0.72549</td>\n",
              "      <td>0.02302</td>\n",
              "      <td>30</td>\n",
              "      <td>4</td>\n",
              "      <td>2</td>\n",
              "      <td>100</td>\n",
              "    </tr>\n",
              "    <tr>\n",
              "      <th>...</th>\n",
              "      <td>...</td>\n",
              "      <td>...</td>\n",
              "      <td>...</td>\n",
              "      <td>...</td>\n",
              "      <td>...</td>\n",
              "      <td>...</td>\n",
              "      <td>...</td>\n",
              "      <td>...</td>\n",
              "      <td>...</td>\n",
              "    </tr>\n",
              "    <tr>\n",
              "      <th>41</th>\n",
              "      <td>RandomForestClassifier</td>\n",
              "      <td>0.607843</td>\n",
              "      <td>0.655473</td>\n",
              "      <td>0.708738</td>\n",
              "      <td>0.039678</td>\n",
              "      <td>10</td>\n",
              "      <td>2</td>\n",
              "      <td>5</td>\n",
              "      <td>300</td>\n",
              "    </tr>\n",
              "    <tr>\n",
              "      <th>37</th>\n",
              "      <td>RandomForestClassifier</td>\n",
              "      <td>0.558824</td>\n",
              "      <td>0.651571</td>\n",
              "      <td>0.699029</td>\n",
              "      <td>0.049612</td>\n",
              "      <td>10</td>\n",
              "      <td>2</td>\n",
              "      <td>2</td>\n",
              "      <td>100</td>\n",
              "    </tr>\n",
              "    <tr>\n",
              "      <th>30</th>\n",
              "      <td>RandomForestClassifier</td>\n",
              "      <td>0.607843</td>\n",
              "      <td>0.649629</td>\n",
              "      <td>0.68932</td>\n",
              "      <td>0.027464</td>\n",
              "      <td>10</td>\n",
              "      <td>1</td>\n",
              "      <td>5</td>\n",
              "      <td>50</td>\n",
              "    </tr>\n",
              "    <tr>\n",
              "      <th>33</th>\n",
              "      <td>RandomForestClassifier</td>\n",
              "      <td>0.617647</td>\n",
              "      <td>0.64763</td>\n",
              "      <td>0.708738</td>\n",
              "      <td>0.033265</td>\n",
              "      <td>10</td>\n",
              "      <td>1</td>\n",
              "      <td>10</td>\n",
              "      <td>50</td>\n",
              "    </tr>\n",
              "    <tr>\n",
              "      <th>38</th>\n",
              "      <td>RandomForestClassifier</td>\n",
              "      <td>0.598039</td>\n",
              "      <td>0.645726</td>\n",
              "      <td>0.679612</td>\n",
              "      <td>0.02939</td>\n",
              "      <td>10</td>\n",
              "      <td>2</td>\n",
              "      <td>2</td>\n",
              "      <td>300</td>\n",
              "    </tr>\n",
              "  </tbody>\n",
              "</table>\n",
              "<p>108 rows × 9 columns</p>\n",
              "</div>"
            ],
            "text/plain": [
              "                  estimator min_score mean_score max_score std_score  \\\n",
              "94   RandomForestClassifier  0.647059    0.69663  0.735294  0.030119   \n",
              "13   RandomForestClassifier  0.647059    0.69663  0.735294  0.030119   \n",
              "22   RandomForestClassifier  0.656863   0.694689   0.72549   0.02302   \n",
              "19   RandomForestClassifier  0.656863   0.694689   0.72549   0.02302   \n",
              "100  RandomForestClassifier  0.656863   0.694689   0.72549   0.02302   \n",
              "..                      ...       ...        ...       ...       ...   \n",
              "41   RandomForestClassifier  0.607843   0.655473  0.708738  0.039678   \n",
              "37   RandomForestClassifier  0.558824   0.651571  0.699029  0.049612   \n",
              "30   RandomForestClassifier  0.607843   0.649629   0.68932  0.027464   \n",
              "33   RandomForestClassifier  0.617647    0.64763  0.708738  0.033265   \n",
              "38   RandomForestClassifier  0.598039   0.645726  0.679612   0.02939   \n",
              "\n",
              "    model__max_depth model__min_samples_leaf model__min_samples_split  \\\n",
              "94                30                       2                        5   \n",
              "13              None                       2                        5   \n",
              "22              None                       4                        5   \n",
              "19              None                       4                        2   \n",
              "100               30                       4                        2   \n",
              "..               ...                     ...                      ...   \n",
              "41                10                       2                        5   \n",
              "37                10                       2                        2   \n",
              "30                10                       1                        5   \n",
              "33                10                       1                       10   \n",
              "38                10                       2                        2   \n",
              "\n",
              "    model__n_estimators  \n",
              "94                  100  \n",
              "13                  100  \n",
              "22                  100  \n",
              "19                  100  \n",
              "100                 100  \n",
              "..                  ...  \n",
              "41                  300  \n",
              "37                  100  \n",
              "30                   50  \n",
              "33                   50  \n",
              "38                  300  \n",
              "\n",
              "[108 rows x 9 columns]"
            ]
          },
          "execution_count": 190,
          "metadata": {},
          "output_type": "execute_result"
        }
      ],
      "source": [
        "grid_search_summary, grid_search_pipelines = search.score_summary(sort_by='mean_score')\n",
        "grid_search_summary"
      ]
    },
    {
      "cell_type": "markdown",
      "metadata": {
        "id": "-bZ2Qu5JEhrp"
      },
      "source": [
        "\n",
        "Check the best model"
      ]
    },
    {
      "cell_type": "code",
      "execution_count": 191,
      "metadata": {
        "id": "aAbJosK8ECt-"
      },
      "outputs": [
        {
          "data": {
            "text/plain": [
              "'RandomForestClassifier'"
            ]
          },
          "execution_count": 191,
          "metadata": {},
          "output_type": "execute_result"
        }
      ],
      "source": [
        "best_model = grid_search_summary.iloc[0,0]\n",
        "best_model"
      ]
    },
    {
      "cell_type": "markdown",
      "metadata": {
        "id": "qUyqeVjkEjn7"
      },
      "source": [
        "Parameters for best model\n",
        "* We are saving this content for later"
      ]
    },
    {
      "cell_type": "code",
      "execution_count": 192,
      "metadata": {
        "id": "BXPyDbbxYbv6"
      },
      "outputs": [
        {
          "data": {
            "text/plain": [
              "{'model__max_depth': None,\n",
              " 'model__min_samples_leaf': 2,\n",
              " 'model__min_samples_split': 5,\n",
              " 'model__n_estimators': 100}"
            ]
          },
          "execution_count": 192,
          "metadata": {},
          "output_type": "execute_result"
        }
      ],
      "source": [
        "best_parameters = grid_search_pipelines[best_model].best_params_\n",
        "best_parameters"
      ]
    },
    {
      "cell_type": "markdown",
      "metadata": {
        "id": "_YUeAvIsEo5v"
      },
      "source": [
        "Define the best clf pipeline"
      ]
    },
    {
      "cell_type": "code",
      "execution_count": 193,
      "metadata": {
        "id": "LTrUEOcBYby4"
      },
      "outputs": [
        {
          "data": {
            "text/plain": [
              "Pipeline(steps=[('OrdinalCategoricalEncoder',\n",
              "                 OrdinalEncoder(encoding_method='arbitrary',\n",
              "                                variables=['year', 'month', 'day',\n",
              "                                           'weekday_name', 'bb_status_1'])),\n",
              "                ('SmartCorrelatedSelection',\n",
              "                 SmartCorrelatedSelection(method='spearman',\n",
              "                                          selection_method='variance',\n",
              "                                          threshold=0.6,\n",
              "                                          variables=['ma20_1', 'ma50_1',\n",
              "                                                     'ma100_1', 'year', 'month',\n",
              "                                                     'day', 'hr', '4hr_tf',\n",
              "                                                     'weekday', '...\n",
              "                                                     'up_bb20_low_bb20_diff_4',\n",
              "                                                     'close_ma20_4_diff_4',\n",
              "                                                     'close_ma50_4_diff_4',\n",
              "                                                     'close_ma100_4_diff_4',\n",
              "                                                     'ma20_4_ma50_4_diff_4',\n",
              "                                                     'ma50_4_ma100_4_diff_4', ...])),\n",
              "                ('feat_scaling', StandardScaler()),\n",
              "                ('feat_selection',\n",
              "                 SelectFromModel(estimator=RandomForestClassifier(random_state=0))),\n",
              "                ('model',\n",
              "                 RandomForestClassifier(min_samples_leaf=2, min_samples_split=5,\n",
              "                                        random_state=0))])"
            ]
          },
          "execution_count": 193,
          "metadata": {},
          "output_type": "execute_result"
        }
      ],
      "source": [
        "pipeline_clf = grid_search_pipelines[best_model].best_estimator_\n",
        "pipeline_clf"
      ]
    },
    {
      "cell_type": "markdown",
      "metadata": {
        "id": "aGc1W7wEM2GP"
      },
      "source": [
        "## 3.5 Assess feature importance"
      ]
    },
    {
      "cell_type": "markdown",
      "metadata": {
        "id": "fHN_VRwZarUp"
      },
      "source": [
        "We can assess feature importance for this model with `.feature_importances_`"
      ]
    },
    {
      "cell_type": "code",
      "execution_count": 194,
      "metadata": {
        "id": "kfckT_bFxFaE"
      },
      "outputs": [
        {
          "name": "stdout",
          "output_type": "stream",
          "text": [
            "* These are the 9 most important features in descending order. The model was trained on them: \n",
            "['close_ma50_1_diff_1', 'trend_strength_1', 'up_bb20_low_bb20_diff_1', 'hr', 'lagged_close_1', 'up_bb20_low_bb20_diff_4', 'close_ma100_4_diff_4', 'ma50_4_ma100_4_diff_4', 'ma20_4_ma50_4_diff_4']\n"
          ]
        },
        {
          "data": {
            "image/png": "[encoded data removed]",
            "text/plain": [
              "<Figure size 640x480 with 1 Axes>"
            ]
          },
          "metadata": {},
          "output_type": "display_data"
        }
      ],
      "source": [
        "# after data cleaning and feat engine, the feature may space changes\n",
        "# how much data cleaning and feature engineering does your pipeline have?\n",
        "data_cleaning_feat_eng_steps = 2\n",
        "columns_after_data_cleaning_feat_eng = (Pipeline(pipeline_clf.steps[:data_cleaning_feat_eng_steps])\n",
        "                                        .transform(X_train)\n",
        "                                        .columns)\n",
        "\n",
        "# best_features = columns_after_data_cleaning_feat_eng\n",
        "best_features = columns_after_data_cleaning_feat_eng[pipeline_clf['feat_selection'].get_support(\n",
        ")].to_list()\n",
        "\n",
        "# create DataFrame to display feature importance\n",
        "df_feature_importance = (pd.DataFrame(data={\n",
        "    'Feature': columns_after_data_cleaning_feat_eng[pipeline_clf['feat_selection'].get_support()],\n",
        "    'Importance': pipeline_clf['model'].feature_importances_})\n",
        "    .sort_values(by='Importance', ascending=False)\n",
        ")\n",
        "\n",
        "# reassign best features in order\n",
        "best_features = df_feature_importance['Feature'].to_list()\n",
        "\n",
        "# Most important features statement and plot\n",
        "print(f\"* These are the {len(best_features)} most important features in descending order. \"\n",
        "      f\"The model was trained on them: \\n{best_features}\")\n",
        "\n",
        "df_feature_importance.plot(kind='bar', x='Feature', y='Importance')\n",
        "plt.show()\n"
      ]
    },
    {
      "cell_type": "markdown",
      "metadata": {
        "id": "jiwI6U28UV4C"
      },
      "source": [
        "## 3.6 Evaluate Classifier on Train and Test Sets"
      ]
    },
    {
      "cell_type": "markdown",
      "metadata": {
        "id": "6sL9XamIDTG3"
      },
      "source": [
        "Custom Function"
      ]
    },
    {
      "cell_type": "code",
      "execution_count": 195,
      "metadata": {
        "id": "yMcvrPmdXbmP"
      },
      "outputs": [],
      "source": [
        "from sklearn.metrics import classification_report, confusion_matrix\n",
        "\n",
        "\n",
        "def confusion_matrix_and_report(X, y, pipeline, label_map):\n",
        "\n",
        "    prediction = pipeline.predict(X)\n",
        "\n",
        "    print('---  Confusion Matrix  ---')\n",
        "    print(pd.DataFrame(confusion_matrix(y_true=prediction, y_pred=y),\n",
        "          columns=[[\"Actual \" + sub for sub in label_map]],\n",
        "          index=[[\"Prediction \" + sub for sub in label_map]]\n",
        "          ))\n",
        "    print(\"\\n\")\n",
        "\n",
        "    print('---  Classification Report  ---')\n",
        "    print(classification_report(y, prediction, target_names=label_map), \"\\n\")\n",
        "\n",
        "\n",
        "def clf_performance(X_train, y_train, X_test, y_test, pipeline, label_map):\n",
        "    print(\"#### Train Set #### \\n\")\n",
        "    confusion_matrix_and_report(X_train, y_train, pipeline, label_map)\n",
        "\n",
        "    print(\"#### Test Set ####\\n\")\n",
        "    confusion_matrix_and_report(X_test, y_test, pipeline, label_map)\n"
      ]
    },
    {
      "cell_type": "markdown",
      "metadata": {
        "id": "PyX8PsH-0z8z"
      },
      "source": [
        "List that relates the classes and tenure interval"
      ]
    },
    {
      "cell_type": "code",
      "execution_count": 196,
      "metadata": {},
      "outputs": [
        {
          "data": {
            "text/plain": [
              "[-inf,\n",
              " -0.2861666666666642,\n",
              " -0.11299999999999955,\n",
              " -0.013999999999995794,\n",
              " 0.09199999999998454,\n",
              " 0.23799999999999955,\n",
              " inf]"
            ]
          },
          "execution_count": 196,
          "metadata": {},
          "output_type": "execute_result"
        }
      ],
      "source": [
        "disc.binner_dict_['pl_close_4_hr']"
      ]
    },
    {
      "cell_type": "markdown",
      "metadata": {},
      "source": [
        "We can create manually"
      ]
    },
    {
      "cell_type": "code",
      "execution_count": 197,
      "metadata": {},
      "outputs": [
        {
          "data": {
            "text/plain": [
              "['-25<', '-20', '-5', '5', '20', '>25']"
            ]
          },
          "execution_count": 197,
          "metadata": {},
          "output_type": "execute_result"
        }
      ],
      "source": [
        "# label_map = ['<-29', '-29 to -11', '-11 to -1.0','-1 to 9', '9 to 25', '25+']\n",
        "label_map = ['-25<', '-20', '-5','5', '20', '>25']\n",
        "label_map"
      ]
    },
    {
      "cell_type": "code",
      "execution_count": 198,
      "metadata": {
        "id": "no7flbMcYbsz"
      },
      "outputs": [
        {
          "name": "stdout",
          "output_type": "stream",
          "text": [
            "#### Train Set #### \n",
            "\n",
            "---  Confusion Matrix  ---\n",
            "                Actual -25< Actual -20 Actual -5 Actual 5 Actual 20 Actual >25\n",
            "Prediction -25<         502          3         3        0         1          1\n",
            "Prediction -20            4        488         6        1         0          0\n",
            "Prediction -5             1          3       473        2         1          0\n",
            "Prediction 5              0          1         2      507         3          2\n",
            "Prediction 20             1          1         2        6       507          3\n",
            "Prediction >25            3          1         2        4         7        502\n",
            "\n",
            "\n",
            "---  Classification Report  ---\n",
            "              precision    recall  f1-score   support\n",
            "\n",
            "        -25<       0.98      0.98      0.98       511\n",
            "         -20       0.98      0.98      0.98       497\n",
            "          -5       0.99      0.97      0.98       488\n",
            "           5       0.98      0.97      0.98       520\n",
            "          20       0.97      0.98      0.98       519\n",
            "         >25       0.97      0.99      0.98       508\n",
            "\n",
            "    accuracy                           0.98      3043\n",
            "   macro avg       0.98      0.98      0.98      3043\n",
            "weighted avg       0.98      0.98      0.98      3043\n",
            " \n",
            "\n",
            "#### Test Set ####\n",
            "\n",
            "---  Confusion Matrix  ---\n",
            "                Actual -25< Actual -20 Actual -5 Actual 5 Actual 20 Actual >25\n",
            "Prediction -25<          78         25        15        7         4          4\n",
            "Prediction -20           29         42        19       10         6          7\n",
            "Prediction -5             7         35        44       32        15          7\n",
            "Prediction 5              0         20        28       36        23          9\n",
            "Prediction 20             7         15        28       15        36         19\n",
            "Prediction >25            2          3         9       16        31         78\n",
            "\n",
            "\n",
            "---  Classification Report  ---\n",
            "              precision    recall  f1-score   support\n",
            "\n",
            "        -25<       0.59      0.63      0.61       123\n",
            "         -20       0.37      0.30      0.33       140\n",
            "          -5       0.31      0.31      0.31       143\n",
            "           5       0.31      0.31      0.31       116\n",
            "          20       0.30      0.31      0.31       115\n",
            "         >25       0.56      0.63      0.59       124\n",
            "\n",
            "    accuracy                           0.41       761\n",
            "   macro avg       0.41      0.42      0.41       761\n",
            "weighted avg       0.41      0.41      0.41       761\n",
            " \n",
            "\n"
          ]
        }
      ],
      "source": [
        "clf_performance(X_train=X_train, y_train=y_train,\n",
        "                        X_test=X_test, y_test=y_test,\n",
        "                        pipeline=pipeline_clf,\n",
        "                        label_map= label_map )"
      ]
    },
    {
      "cell_type": "markdown",
      "metadata": {
        "id": "mQ3u0TodDdOZ"
      },
      "source": [
        "# Which pipeline to choose?"
      ]
    },
    {
      "cell_type": "markdown",
      "metadata": {
        "id": "FE5va8Cr-CCy"
      },
      "source": [
        "We fitted 3 pipelines:\n",
        "* Regression\n",
        "* Regression with PCA\n",
        "* Classifier"
      ]
    },
    {
      "cell_type": "markdown",
      "metadata": {
        "id": "sQR54xeCbIAH"
      },
      "source": [
        "The regressor pipelines didn't reach the expected performance threshold (0.7 R2 score) for the train and test set.\n",
        "\n",
        "The classifier was tuned on Recall for class 0 (tenure <4 months), since we are interested to detect prospects that may churn soon. \n",
        "* It has reasonable performance for class 0 (<4 months) and class 2 (+20 months)\n",
        "* Class 1 (4 to 20 months) has weak performance."
      ]
    },
    {
      "cell_type": "code",
      "execution_count": 199,
      "metadata": {},
      "outputs": [
        {
          "data": {
            "text/plain": [
              "Pipeline(steps=[('OrdinalCategoricalEncoder',\n",
              "                 OrdinalEncoder(encoding_method='arbitrary',\n",
              "                                variables=['year', 'month', 'day',\n",
              "                                           'weekday_name', 'bb_status_1'])),\n",
              "                ('SmartCorrelatedSelection',\n",
              "                 SmartCorrelatedSelection(method='spearman',\n",
              "                                          selection_method='variance',\n",
              "                                          threshold=0.6,\n",
              "                                          variables=['ma20_1', 'ma50_1',\n",
              "                                                     'ma100_1', 'year', 'month',\n",
              "                                                     'day', 'hr', '4hr_tf',\n",
              "                                                     'weekday', '...\n",
              "                                                     'up_bb20_low_bb20_diff_4',\n",
              "                                                     'close_ma20_4_diff_4',\n",
              "                                                     'close_ma50_4_diff_4',\n",
              "                                                     'close_ma100_4_diff_4',\n",
              "                                                     'ma20_4_ma50_4_diff_4',\n",
              "                                                     'ma50_4_ma100_4_diff_4', ...])),\n",
              "                ('feat_scaling', StandardScaler()),\n",
              "                ('feat_selection',\n",
              "                 SelectFromModel(estimator=RandomForestClassifier(random_state=0))),\n",
              "                ('model',\n",
              "                 RandomForestClassifier(min_samples_leaf=2, min_samples_split=5,\n",
              "                                        random_state=0))])"
            ]
          },
          "execution_count": 199,
          "metadata": {},
          "output_type": "execute_result"
        }
      ],
      "source": [
        "pipeline_clf"
      ]
    },
    {
      "cell_type": "markdown",
      "metadata": {
        "id": "1BqT1Kne54Fq"
      },
      "source": [
        "# 4. Refit pipeline with best features"
      ]
    },
    {
      "cell_type": "markdown",
      "metadata": {},
      "source": [
        "## Rewrite Pipeline"
      ]
    },
    {
      "cell_type": "code",
      "execution_count": 200,
      "metadata": {},
      "outputs": [],
      "source": [
        "#update variable that are categoric that will be in your training and testing sets.\n",
        "def PipelineOptimization(model):\n",
        "    pipeline_base = Pipeline([\n",
        "\n",
        "        # (\"OrdinalCategoricalEncoder\", OrdinalEncoder(encoding_method='arbitrary',\n",
        "        #                                              variables=[])),\n",
        "\n",
        "        (\"feat_scaling\", StandardScaler()),\n",
        "\n",
        "        # feature selection is not needed\n",
        "\n",
        "        (\"model\", model),\n",
        "\n",
        "    ])\n",
        "\n",
        "    return pipeline_base\n"
      ]
    },
    {
      "cell_type": "markdown",
      "metadata": {
        "id": "GpgS-AgU6IWx"
      },
      "source": [
        "## 4.1 Split Train Test Set, only with best features"
      ]
    },
    {
      "cell_type": "code",
      "execution_count": 201,
      "metadata": {
        "id": "_31XFcrg6IWy"
      },
      "outputs": [
        {
          "name": "stdout",
          "output_type": "stream",
          "text": [
            "* Train set: (3043, 31) (3043,) \n",
            "* Test set: (761, 31) (761,)\n"
          ]
        }
      ],
      "source": [
        "X_train, X_test, y_train, y_test = train_test_split(\n",
        "    df_clf.drop(['pl_close_4_hr', 'trade_close_4_hr', 'trade_close_1_hr', 'pl_close_1_hr'], axis=1),\n",
        "    df_clf['pl_close_4_hr'],\n",
        "    test_size=0.2,\n",
        "    random_state=0\n",
        ")\n",
        "\n",
        "print(\"* Train set:\", X_train.shape, y_train.shape,\n",
        "      \"\\n* Test set:\",  X_test.shape, y_test.shape)\n"
      ]
    },
    {
      "cell_type": "markdown",
      "metadata": {
        "id": "ohPWfCs2E_3G"
      },
      "source": [
        "Subset Best Features"
      ]
    },
    {
      "cell_type": "code",
      "execution_count": 202,
      "metadata": {},
      "outputs": [
        {
          "data": {
            "text/plain": [
              "['close_ma50_1_diff_1',\n",
              " 'trend_strength_1',\n",
              " 'up_bb20_low_bb20_diff_1',\n",
              " 'hr',\n",
              " 'lagged_close_1',\n",
              " 'up_bb20_low_bb20_diff_4',\n",
              " 'close_ma100_4_diff_4',\n",
              " 'ma50_4_ma100_4_diff_4',\n",
              " 'ma20_4_ma50_4_diff_4']"
            ]
          },
          "execution_count": 202,
          "metadata": {},
          "output_type": "execute_result"
        }
      ],
      "source": [
        "best_features"
      ]
    },
    {
      "cell_type": "code",
      "execution_count": 54,
      "metadata": {},
      "outputs": [],
      "source": [
        "#supersede the selection of best features from section 3 with user specified.\n",
        "\n",
        "best_features = ['close_ma50_diff',\n",
        " 'up_bb20_low_bb20_diff',\n",
        " 'close_ma100_diff',\n",
        " 'lower_bb20_2',\n",
        " 'trend_strength',\n",
        " 'bb_status']"
      ]
    },
    {
      "cell_type": "code",
      "execution_count": 203,
      "metadata": {
        "id": "UUEIfyLU6IWz"
      },
      "outputs": [
        {
          "name": "stdout",
          "output_type": "stream",
          "text": [
            "* Train set: (3043, 9) (3043,) \n",
            "* Test set: (761, 9) (761,)\n"
          ]
        },
        {
          "data": {
            "text/html": [
              "<div>\n",
              "<style scoped>\n",
              "    .dataframe tbody tr th:only-of-type {\n",
              "        vertical-align: middle;\n",
              "    }\n",
              "\n",
              "    .dataframe tbody tr th {\n",
              "        vertical-align: top;\n",
              "    }\n",
              "\n",
              "    .dataframe thead th {\n",
              "        text-align: right;\n",
              "    }\n",
              "</style>\n",
              "<table border=\"1\" class=\"dataframe\">\n",
              "  <thead>\n",
              "    <tr style=\"text-align: right;\">\n",
              "      <th></th>\n",
              "      <th>close_ma50_1_diff_1</th>\n",
              "      <th>trend_strength_1</th>\n",
              "      <th>up_bb20_low_bb20_diff_1</th>\n",
              "      <th>hr</th>\n",
              "      <th>lagged_close_1</th>\n",
              "      <th>up_bb20_low_bb20_diff_4</th>\n",
              "      <th>close_ma100_4_diff_4</th>\n",
              "      <th>ma50_4_ma100_4_diff_4</th>\n",
              "      <th>ma20_4_ma50_4_diff_4</th>\n",
              "    </tr>\n",
              "  </thead>\n",
              "  <tbody>\n",
              "    <tr>\n",
              "      <th>3109</th>\n",
              "      <td>-0.24528</td>\n",
              "      <td>2</td>\n",
              "      <td>0.371345</td>\n",
              "      <td>10</td>\n",
              "      <td>144.355</td>\n",
              "      <td>0.692593</td>\n",
              "      <td>1.82156</td>\n",
              "      <td>1.51558</td>\n",
              "      <td>0.42973</td>\n",
              "    </tr>\n",
              "    <tr>\n",
              "      <th>1969</th>\n",
              "      <td>1.78130</td>\n",
              "      <td>-4</td>\n",
              "      <td>1.052512</td>\n",
              "      <td>4</td>\n",
              "      <td>136.869</td>\n",
              "      <td>5.007437</td>\n",
              "      <td>3.02263</td>\n",
              "      <td>0.53169</td>\n",
              "      <td>0.18979</td>\n",
              "    </tr>\n",
              "    <tr>\n",
              "      <th>4226</th>\n",
              "      <td>-0.17094</td>\n",
              "      <td>0</td>\n",
              "      <td>0.632392</td>\n",
              "      <td>23</td>\n",
              "      <td>147.275</td>\n",
              "      <td>1.677841</td>\n",
              "      <td>1.05685</td>\n",
              "      <td>0.38213</td>\n",
              "      <td>0.71472</td>\n",
              "    </tr>\n",
              "  </tbody>\n",
              "</table>\n",
              "</div>"
            ],
            "text/plain": [
              "      close_ma50_1_diff_1  trend_strength_1  up_bb20_low_bb20_diff_1  hr  \\\n",
              "3109             -0.24528                 2                 0.371345  10   \n",
              "1969              1.78130                -4                 1.052512   4   \n",
              "4226             -0.17094                 0                 0.632392  23   \n",
              "\n",
              "      lagged_close_1  up_bb20_low_bb20_diff_4  close_ma100_4_diff_4  \\\n",
              "3109         144.355                 0.692593               1.82156   \n",
              "1969         136.869                 5.007437               3.02263   \n",
              "4226         147.275                 1.677841               1.05685   \n",
              "\n",
              "      ma50_4_ma100_4_diff_4  ma20_4_ma50_4_diff_4  \n",
              "3109                1.51558               0.42973  \n",
              "1969                0.53169               0.18979  \n",
              "4226                0.38213               0.71472  "
            ]
          },
          "execution_count": 203,
          "metadata": {},
          "output_type": "execute_result"
        }
      ],
      "source": [
        "X_train = X_train.filter(best_features)\n",
        "X_test = X_test.filter(best_features)\n",
        "\n",
        "\n",
        "\n",
        "print(\"* Train set:\", X_train.shape, y_train.shape, \"\\n* Test set:\",  X_test.shape, y_test.shape)\n",
        "X_train.head(3)"
      ]
    },
    {
      "cell_type": "markdown",
      "metadata": {
        "id": "2fT_mdLWFJFz"
      },
      "source": [
        "## 4.2 Grid Search CV – Sklearn"
      ]
    },
    {
      "cell_type": "markdown",
      "metadata": {
        "id": "RfKEBTyLeDtj"
      },
      "source": [
        "We are using the same model from the previous GridCV search"
      ]
    },
    {
      "cell_type": "code",
      "execution_count": 204,
      "metadata": {
        "id": "_1qcZktreHH5"
      },
      "outputs": [
        {
          "data": {
            "text/plain": [
              "{'RandomForestClassifier': RandomForestClassifier(random_state=0)}"
            ]
          },
          "execution_count": 204,
          "metadata": {},
          "output_type": "execute_result"
        }
      ],
      "source": [
        "models_search"
      ]
    },
    {
      "cell_type": "markdown",
      "metadata": {
        "id": "9WaSA9jcecXr"
      },
      "source": [
        "And the best parameters from the previous GridCV search"
      ]
    },
    {
      "cell_type": "code",
      "execution_count": 205,
      "metadata": {
        "id": "XXi0L025eKA6"
      },
      "outputs": [
        {
          "data": {
            "text/plain": [
              "{'model__max_depth': None,\n",
              " 'model__min_samples_leaf': 2,\n",
              " 'model__min_samples_split': 5,\n",
              " 'model__n_estimators': 100}"
            ]
          },
          "execution_count": 205,
          "metadata": {},
          "output_type": "execute_result"
        }
      ],
      "source": [
        "best_parameters"
      ]
    },
    {
      "cell_type": "markdown",
      "metadata": {
        "id": "_7jAkvlBeeQl"
      },
      "source": [
        "You will need to type in manually since the hyperparameter values have to be a list. The previous dictionary is not in this format."
      ]
    },
    {
      "cell_type": "code",
      "execution_count": 206,
      "metadata": {
        "id": "u9HBXI2E58_5"
      },
      "outputs": [
        {
          "data": {
            "text/plain": [
              "{'RandomForestClassifier': {'model__max_depth': [10],\n",
              "  'model__min_samples_leaf': [4],\n",
              "  'model__min_samples_split': [2],\n",
              "  'model__n_estimators': [300]}}"
            ]
          },
          "execution_count": 206,
          "metadata": {},
          "output_type": "execute_result"
        }
      ],
      "source": [
        "#update with above parameters\n",
        "params_search = {'RandomForestClassifier': {'model__max_depth': [10],\n",
        " 'model__min_samples_leaf': [4],\n",
        " 'model__min_samples_split': [2],\n",
        " 'model__n_estimators': [300]}\n",
        "}\n",
        "params_search"
      ]
    },
    {
      "cell_type": "code",
      "execution_count": 207,
      "metadata": {},
      "outputs": [
        {
          "data": {
            "text/plain": [
              "3109    5\n",
              "1969    0\n",
              "4226    2\n",
              "3165    5\n",
              "955     4\n",
              "       ..\n",
              "1248    5\n",
              "3710    0\n",
              "2073    1\n",
              "3041    4\n",
              "3168    2\n",
              "Name: pl_close_4_hr, Length: 3043, dtype: int64"
            ]
          },
          "execution_count": 207,
          "metadata": {},
          "output_type": "execute_result"
        }
      ],
      "source": [
        "y_train"
      ]
    },
    {
      "cell_type": "markdown",
      "metadata": {
        "id": "zEZYXLRQfvTL"
      },
      "source": [
        "GridSearch CV"
      ]
    },
    {
      "cell_type": "code",
      "execution_count": 208,
      "metadata": {
        "id": "msJPkpo8fFAI"
      },
      "outputs": [
        {
          "name": "stdout",
          "output_type": "stream",
          "text": [
            "\n",
            "Running GridSearchCV for RandomForestClassifier \n",
            "\n",
            "Fitting 5 folds for each of 1 candidates, totalling 5 fits\n"
          ]
        }
      ],
      "source": [
        "from sklearn.metrics import make_scorer, recall_score\n",
        "search = HyperparameterOptimizationSearch(models=models_search, params=params_search)\n",
        "search.fit(X_train, y_train, scoring = 'r2', n_jobs=-1, cv=5)"
      ]
    },
    {
      "cell_type": "markdown",
      "metadata": {
        "id": "OcgDvuLRfwsE"
      },
      "source": [
        "\n",
        "Check results"
      ]
    },
    {
      "cell_type": "code",
      "execution_count": 209,
      "metadata": {
        "id": "loZEVp8g6q9O"
      },
      "outputs": [
        {
          "data": {
            "text/html": [
              "<div>\n",
              "<style scoped>\n",
              "    .dataframe tbody tr th:only-of-type {\n",
              "        vertical-align: middle;\n",
              "    }\n",
              "\n",
              "    .dataframe tbody tr th {\n",
              "        vertical-align: top;\n",
              "    }\n",
              "\n",
              "    .dataframe thead th {\n",
              "        text-align: right;\n",
              "    }\n",
              "</style>\n",
              "<table border=\"1\" class=\"dataframe\">\n",
              "  <thead>\n",
              "    <tr style=\"text-align: right;\">\n",
              "      <th></th>\n",
              "      <th>estimator</th>\n",
              "      <th>min_score</th>\n",
              "      <th>mean_score</th>\n",
              "      <th>max_score</th>\n",
              "      <th>std_score</th>\n",
              "      <th>model__max_depth</th>\n",
              "      <th>model__min_samples_leaf</th>\n",
              "      <th>model__min_samples_split</th>\n",
              "      <th>model__n_estimators</th>\n",
              "    </tr>\n",
              "  </thead>\n",
              "  <tbody>\n",
              "    <tr>\n",
              "      <th>0</th>\n",
              "      <td>RandomForestClassifier</td>\n",
              "      <td>0.120168</td>\n",
              "      <td>0.176395</td>\n",
              "      <td>0.266297</td>\n",
              "      <td>0.050922</td>\n",
              "      <td>10</td>\n",
              "      <td>4</td>\n",
              "      <td>2</td>\n",
              "      <td>300</td>\n",
              "    </tr>\n",
              "  </tbody>\n",
              "</table>\n",
              "</div>"
            ],
            "text/plain": [
              "                estimator min_score mean_score max_score std_score  \\\n",
              "0  RandomForestClassifier  0.120168   0.176395  0.266297  0.050922   \n",
              "\n",
              "  model__max_depth model__min_samples_leaf model__min_samples_split  \\\n",
              "0               10                       4                        2   \n",
              "\n",
              "  model__n_estimators  \n",
              "0                 300  "
            ]
          },
          "execution_count": 209,
          "metadata": {},
          "output_type": "execute_result"
        }
      ],
      "source": [
        "grid_search_summary, grid_search_pipelines = search.score_summary(sort_by='mean_score')\n",
        "grid_search_summary"
      ]
    },
    {
      "cell_type": "markdown",
      "metadata": {
        "id": "3TE6Xgvif1ek"
      },
      "source": [
        "Check the best model"
      ]
    },
    {
      "cell_type": "code",
      "execution_count": 210,
      "metadata": {
        "id": "sf6qYXV06q9O"
      },
      "outputs": [
        {
          "data": {
            "text/plain": [
              "'RandomForestClassifier'"
            ]
          },
          "execution_count": 210,
          "metadata": {},
          "output_type": "execute_result"
        }
      ],
      "source": [
        "best_model = grid_search_summary.iloc[0,0]\n",
        "best_model"
      ]
    },
    {
      "cell_type": "markdown",
      "metadata": {
        "id": "oeB08Md3f60p"
      },
      "source": [
        "Define the best clf pipeline"
      ]
    },
    {
      "cell_type": "code",
      "execution_count": 211,
      "metadata": {
        "id": "YuA9mpyk6q9P"
      },
      "outputs": [
        {
          "data": {
            "text/plain": [
              "Pipeline(steps=[('feat_scaling', StandardScaler()),\n",
              "                ('model',\n",
              "                 RandomForestClassifier(max_depth=10, min_samples_leaf=4,\n",
              "                                        n_estimators=300, random_state=0))])"
            ]
          },
          "execution_count": 211,
          "metadata": {},
          "output_type": "execute_result"
        }
      ],
      "source": [
        "pipeline_clf = grid_search_pipelines[best_model].best_estimator_\n",
        "pipeline_clf"
      ]
    },
    {
      "cell_type": "markdown",
      "metadata": {
        "id": "IN0aj0iv6q9P"
      },
      "source": [
        "## 4.3 Assess feature importance"
      ]
    },
    {
      "cell_type": "code",
      "execution_count": 214,
      "metadata": {
        "id": "dN-blGZb6q9P"
      },
      "outputs": [
        {
          "ename": "AttributeError",
          "evalue": "'numpy.ndarray' object has no attribute 'columns'",
          "output_type": "error",
          "traceback": [
            "\u001b[1;31m---------------------------------------------------------------------------\u001b[0m",
            "\u001b[1;31mAttributeError\u001b[0m                            Traceback (most recent call last)",
            "\u001b[1;32mc:\\Users\\sunny\\Desktop\\Development\\python\\NeuralPricing\\jupyter_notebooks\\06 - Modeling and Evaluation - Predict Profit2.ipynb Cell 146\u001b[0m line \u001b[0;36m3\n\u001b[0;32m      <a href='vscode-notebook-cell:/c%3A/Users/sunny/Desktop/Development/python/NeuralPricing/jupyter_notebooks/06%20-%20Modeling%20and%20Evaluation%20-%20Predict%20Profit2.ipynb#Y264sZmlsZQ%3D%3D?line=0'>1</a>\u001b[0m \u001b[39m# how many data cleaning and feature engineering does your pipeline have?\u001b[39;00m\n\u001b[0;32m      <a href='vscode-notebook-cell:/c%3A/Users/sunny/Desktop/Development/python/NeuralPricing/jupyter_notebooks/06%20-%20Modeling%20and%20Evaluation%20-%20Predict%20Profit2.ipynb#Y264sZmlsZQ%3D%3D?line=1'>2</a>\u001b[0m data_cleaning_feat_eng_steps \u001b[39m=\u001b[39m \u001b[39m1\u001b[39m\n\u001b[1;32m----> <a href='vscode-notebook-cell:/c%3A/Users/sunny/Desktop/Development/python/NeuralPricing/jupyter_notebooks/06%20-%20Modeling%20and%20Evaluation%20-%20Predict%20Profit2.ipynb#Y264sZmlsZQ%3D%3D?line=2'>3</a>\u001b[0m columns_after_data_cleaning_feat_eng \u001b[39m=\u001b[39m (Pipeline(pipeline_clf\u001b[39m.\u001b[39;49msteps[:data_cleaning_feat_eng_steps])\n\u001b[0;32m      <a href='vscode-notebook-cell:/c%3A/Users/sunny/Desktop/Development/python/NeuralPricing/jupyter_notebooks/06%20-%20Modeling%20and%20Evaluation%20-%20Predict%20Profit2.ipynb#Y264sZmlsZQ%3D%3D?line=3'>4</a>\u001b[0m                                         \u001b[39m.\u001b[39;49mtransform(X_train)\n\u001b[0;32m      <a href='vscode-notebook-cell:/c%3A/Users/sunny/Desktop/Development/python/NeuralPricing/jupyter_notebooks/06%20-%20Modeling%20and%20Evaluation%20-%20Predict%20Profit2.ipynb#Y264sZmlsZQ%3D%3D?line=4'>5</a>\u001b[0m                                         \u001b[39m.\u001b[39;49mcolumns)\n\u001b[0;32m      <a href='vscode-notebook-cell:/c%3A/Users/sunny/Desktop/Development/python/NeuralPricing/jupyter_notebooks/06%20-%20Modeling%20and%20Evaluation%20-%20Predict%20Profit2.ipynb#Y264sZmlsZQ%3D%3D?line=6'>7</a>\u001b[0m best_features \u001b[39m=\u001b[39m columns_after_data_cleaning_feat_eng\n\u001b[0;32m      <a href='vscode-notebook-cell:/c%3A/Users/sunny/Desktop/Development/python/NeuralPricing/jupyter_notebooks/06%20-%20Modeling%20and%20Evaluation%20-%20Predict%20Profit2.ipynb#Y264sZmlsZQ%3D%3D?line=8'>9</a>\u001b[0m \u001b[39m# create DataFrame to display feature importance\u001b[39;00m\n",
            "\u001b[1;31mAttributeError\u001b[0m: 'numpy.ndarray' object has no attribute 'columns'"
          ]
        }
      ],
      "source": [
        "# how many data cleaning and feature engineering does your pipeline have?\n",
        "data_cleaning_feat_eng_steps = 1\n",
        "columns_after_data_cleaning_feat_eng = (Pipeline(pipeline_clf.steps[:data_cleaning_feat_eng_steps])\n",
        "                                        .transform(X_train)\n",
        "                                        .columns)\n",
        "\n",
        "best_features = columns_after_data_cleaning_feat_eng\n",
        "\n",
        "# create DataFrame to display feature importance\n",
        "df_feature_importance = (pd.DataFrame(data={\n",
        "    'Feature': columns_after_data_cleaning_feat_eng,\n",
        "    'Importance': pipeline_clf['model'].feature_importances_})\n",
        "    .sort_values(by='Importance', ascending=False)\n",
        ")\n",
        "\n",
        "# Most important features statement and plot\n",
        "print(f\"* These are the {len(best_features)} most important features in descending order. \"\n",
        "      f\"The model was trained on them: \\n{df_feature_importance['Feature'].to_list()}\")\n",
        "\n",
        "df_feature_importance.plot(kind='bar', x='Feature', y='Importance')\n",
        "plt.show()\n"
      ]
    },
    {
      "cell_type": "markdown",
      "metadata": {
        "id": "h7fjgzReFYeM"
      },
      "source": [
        "## 4.4 Evaluate Classifier on Train and Test Sets"
      ]
    },
    {
      "cell_type": "code",
      "execution_count": 215,
      "metadata": {
        "id": "aPeKtw3A59C3"
      },
      "outputs": [
        {
          "name": "stdout",
          "output_type": "stream",
          "text": [
            "#### Train Set #### \n",
            "\n",
            "---  Confusion Matrix  ---\n",
            "                Actual -25< Actual -20 Actual -5 Actual 5 Actual 20 Actual >25\n",
            "Prediction -25<         441         43        30       27        18          7\n",
            "Prediction -20           26        370        45       35        20          8\n",
            "Prediction -5             9         21       312       24        22          7\n",
            "Prediction 5              5         15        31      348        31         13\n",
            "Prediction 20            21         24        38       45       371         39\n",
            "Prediction >25            9         24        32       41        57        434\n",
            "\n",
            "\n",
            "---  Classification Report  ---\n",
            "              precision    recall  f1-score   support\n",
            "\n",
            "        -25<       0.78      0.86      0.82       511\n",
            "         -20       0.73      0.74      0.74       497\n",
            "          -5       0.79      0.64      0.71       488\n",
            "           5       0.79      0.67      0.72       520\n",
            "          20       0.69      0.71      0.70       519\n",
            "         >25       0.73      0.85      0.79       508\n",
            "\n",
            "    accuracy                           0.75      3043\n",
            "   macro avg       0.75      0.75      0.75      3043\n",
            "weighted avg       0.75      0.75      0.75      3043\n",
            " \n",
            "\n",
            "#### Test Set ####\n",
            "\n",
            "---  Confusion Matrix  ---\n",
            "                Actual -25< Actual -20 Actual -5 Actual 5 Actual 20 Actual >25\n",
            "Prediction -25<          81         25        18       10         8          2\n",
            "Prediction -20           28         45        32       13        10         10\n",
            "Prediction -5             3         25        32       28         8          5\n",
            "Prediction 5              1         17        27       30        26          9\n",
            "Prediction 20             4         16        25       22        26         25\n",
            "Prediction >25            6         12         9       13        37         73\n",
            "\n",
            "\n",
            "---  Classification Report  ---\n",
            "              precision    recall  f1-score   support\n",
            "\n",
            "        -25<       0.56      0.66      0.61       123\n",
            "         -20       0.33      0.32      0.32       140\n",
            "          -5       0.32      0.22      0.26       143\n",
            "           5       0.27      0.26      0.27       116\n",
            "          20       0.22      0.23      0.22       115\n",
            "         >25       0.49      0.59      0.53       124\n",
            "\n",
            "    accuracy                           0.38       761\n",
            "   macro avg       0.36      0.38      0.37       761\n",
            "weighted avg       0.36      0.38      0.37       761\n",
            " \n",
            "\n"
          ]
        }
      ],
      "source": [
        "clf_performance(X_train=X_train, y_train=y_train,\n",
        "                        X_test=X_test, y_test=y_test,\n",
        "                        pipeline=pipeline_clf,\n",
        "                        label_map= label_map )"
      ]
    },
    {
      "cell_type": "markdown",
      "metadata": {},
      "source": [
        "---"
      ]
    },
    {
      "cell_type": "markdown",
      "metadata": {
        "id": "GBtppR73G1Yx"
      },
      "source": [
        "# 5. Push files to the repo"
      ]
    },
    {
      "cell_type": "markdown",
      "metadata": {
        "id": "ShuJ5tYUC06o"
      },
      "source": [
        "We will generate the following files\n",
        "\n",
        "* Train set\n",
        "* Test set\n",
        "* Modeling pipeline\n",
        "* label map\n",
        "* features importance plot"
      ]
    },
    {
      "cell_type": "code",
      "execution_count": 216,
      "metadata": {
        "id": "8vBpPvnaG5Mb"
      },
      "outputs": [
        {
          "name": "stdout",
          "output_type": "stream",
          "text": [
            "[WinError 183] Cannot create a file when that file already exists: 'c:\\\\Users\\\\sunny\\\\Desktop\\\\Development\\\\python\\\\NeuralPricing/outputs/predict_profits/v2/'\n"
          ]
        }
      ],
      "source": [
        "import joblib\n",
        "import os\n",
        "\n",
        "version = 'v2'\n",
        "file_path = f'{parent_directory}/outputs/predict_profits/{version}/'\n",
        "\n",
        "try:\n",
        "  os.makedirs(name=file_path)\n",
        "except Exception as e:\n",
        "  print(e)"
      ]
    },
    {
      "cell_type": "markdown",
      "metadata": {
        "id": "4TvoMsi3DNw1"
      },
      "source": [
        "## 5.1 Train Set: features and target"
      ]
    },
    {
      "cell_type": "code",
      "execution_count": 217,
      "metadata": {
        "id": "yJHmwyqgDOr1"
      },
      "outputs": [
        {
          "data": {
            "text/html": [
              "<div>\n",
              "<style scoped>\n",
              "    .dataframe tbody tr th:only-of-type {\n",
              "        vertical-align: middle;\n",
              "    }\n",
              "\n",
              "    .dataframe tbody tr th {\n",
              "        vertical-align: top;\n",
              "    }\n",
              "\n",
              "    .dataframe thead th {\n",
              "        text-align: right;\n",
              "    }\n",
              "</style>\n",
              "<table border=\"1\" class=\"dataframe\">\n",
              "  <thead>\n",
              "    <tr style=\"text-align: right;\">\n",
              "      <th></th>\n",
              "      <th>close_ma50_1_diff_1</th>\n",
              "      <th>trend_strength_1</th>\n",
              "      <th>up_bb20_low_bb20_diff_1</th>\n",
              "      <th>hr</th>\n",
              "      <th>lagged_close_1</th>\n",
              "      <th>up_bb20_low_bb20_diff_4</th>\n",
              "      <th>close_ma100_4_diff_4</th>\n",
              "      <th>ma50_4_ma100_4_diff_4</th>\n",
              "      <th>ma20_4_ma50_4_diff_4</th>\n",
              "    </tr>\n",
              "  </thead>\n",
              "  <tbody>\n",
              "    <tr>\n",
              "      <th>3109</th>\n",
              "      <td>-0.24528</td>\n",
              "      <td>2</td>\n",
              "      <td>0.371345</td>\n",
              "      <td>10</td>\n",
              "      <td>144.355</td>\n",
              "      <td>0.692593</td>\n",
              "      <td>1.82156</td>\n",
              "      <td>1.51558</td>\n",
              "      <td>0.42973</td>\n",
              "    </tr>\n",
              "    <tr>\n",
              "      <th>1969</th>\n",
              "      <td>1.78130</td>\n",
              "      <td>-4</td>\n",
              "      <td>1.052512</td>\n",
              "      <td>4</td>\n",
              "      <td>136.869</td>\n",
              "      <td>5.007437</td>\n",
              "      <td>3.02263</td>\n",
              "      <td>0.53169</td>\n",
              "      <td>0.18979</td>\n",
              "    </tr>\n",
              "    <tr>\n",
              "      <th>4226</th>\n",
              "      <td>-0.17094</td>\n",
              "      <td>0</td>\n",
              "      <td>0.632392</td>\n",
              "      <td>23</td>\n",
              "      <td>147.275</td>\n",
              "      <td>1.677841</td>\n",
              "      <td>1.05685</td>\n",
              "      <td>0.38213</td>\n",
              "      <td>0.71472</td>\n",
              "    </tr>\n",
              "    <tr>\n",
              "      <th>3165</th>\n",
              "      <td>-1.68876</td>\n",
              "      <td>0</td>\n",
              "      <td>2.764073</td>\n",
              "      <td>18</td>\n",
              "      <td>142.103</td>\n",
              "      <td>2.409981</td>\n",
              "      <td>-0.99177</td>\n",
              "      <td>1.08171</td>\n",
              "      <td>-0.21378</td>\n",
              "    </tr>\n",
              "    <tr>\n",
              "      <th>955</th>\n",
              "      <td>0.36488</td>\n",
              "      <td>0</td>\n",
              "      <td>0.836150</td>\n",
              "      <td>20</td>\n",
              "      <td>136.757</td>\n",
              "      <td>1.404580</td>\n",
              "      <td>2.54246</td>\n",
              "      <td>1.41558</td>\n",
              "      <td>0.74488</td>\n",
              "    </tr>\n",
              "  </tbody>\n",
              "</table>\n",
              "</div>"
            ],
            "text/plain": [
              "      close_ma50_1_diff_1  trend_strength_1  up_bb20_low_bb20_diff_1  hr  \\\n",
              "3109             -0.24528                 2                 0.371345  10   \n",
              "1969              1.78130                -4                 1.052512   4   \n",
              "4226             -0.17094                 0                 0.632392  23   \n",
              "3165             -1.68876                 0                 2.764073  18   \n",
              "955               0.36488                 0                 0.836150  20   \n",
              "\n",
              "      lagged_close_1  up_bb20_low_bb20_diff_4  close_ma100_4_diff_4  \\\n",
              "3109         144.355                 0.692593               1.82156   \n",
              "1969         136.869                 5.007437               3.02263   \n",
              "4226         147.275                 1.677841               1.05685   \n",
              "3165         142.103                 2.409981              -0.99177   \n",
              "955          136.757                 1.404580               2.54246   \n",
              "\n",
              "      ma50_4_ma100_4_diff_4  ma20_4_ma50_4_diff_4  \n",
              "3109                1.51558               0.42973  \n",
              "1969                0.53169               0.18979  \n",
              "4226                0.38213               0.71472  \n",
              "3165                1.08171              -0.21378  \n",
              "955                 1.41558               0.74488  "
            ]
          },
          "execution_count": 217,
          "metadata": {},
          "output_type": "execute_result"
        }
      ],
      "source": [
        "X_train.head()"
      ]
    },
    {
      "cell_type": "code",
      "execution_count": 218,
      "metadata": {
        "id": "yh6w6R7tDOvM"
      },
      "outputs": [],
      "source": [
        "X_train.to_csv(f\"{file_path}/X_train.csv\", index=False)"
      ]
    },
    {
      "cell_type": "code",
      "execution_count": 117,
      "metadata": {
        "id": "pB6pjmAcDOym"
      },
      "outputs": [
        {
          "data": {
            "text/plain": [
              "966     2\n",
              "3988    0\n",
              "191     3\n",
              "3469    0\n",
              "2634    5\n",
              "       ..\n",
              "1132    0\n",
              "3363    3\n",
              "1752    2\n",
              "2706    0\n",
              "2831    0\n",
              "Name: pl_close_4_hr, Length: 3408, dtype: int64"
            ]
          },
          "execution_count": 117,
          "metadata": {},
          "output_type": "execute_result"
        }
      ],
      "source": [
        "y_train"
      ]
    },
    {
      "cell_type": "code",
      "execution_count": 219,
      "metadata": {
        "id": "ZZ93HN6cDPBN"
      },
      "outputs": [],
      "source": [
        "y_train.to_csv(f\"{file_path}/y_train.csv\", index=False)"
      ]
    },
    {
      "cell_type": "markdown",
      "metadata": {
        "id": "aVbS3OnRDYtJ"
      },
      "source": [
        "## 5.2 Test Set: features and target"
      ]
    },
    {
      "cell_type": "code",
      "execution_count": 220,
      "metadata": {
        "id": "XbgF38n1DaPp"
      },
      "outputs": [
        {
          "data": {
            "text/html": [
              "<div>\n",
              "<style scoped>\n",
              "    .dataframe tbody tr th:only-of-type {\n",
              "        vertical-align: middle;\n",
              "    }\n",
              "\n",
              "    .dataframe tbody tr th {\n",
              "        vertical-align: top;\n",
              "    }\n",
              "\n",
              "    .dataframe thead th {\n",
              "        text-align: right;\n",
              "    }\n",
              "</style>\n",
              "<table border=\"1\" class=\"dataframe\">\n",
              "  <thead>\n",
              "    <tr style=\"text-align: right;\">\n",
              "      <th></th>\n",
              "      <th>close_ma50_1_diff_1</th>\n",
              "      <th>trend_strength_1</th>\n",
              "      <th>up_bb20_low_bb20_diff_1</th>\n",
              "      <th>hr</th>\n",
              "      <th>lagged_close_1</th>\n",
              "      <th>up_bb20_low_bb20_diff_4</th>\n",
              "      <th>close_ma100_4_diff_4</th>\n",
              "      <th>ma50_4_ma100_4_diff_4</th>\n",
              "      <th>ma20_4_ma50_4_diff_4</th>\n",
              "    </tr>\n",
              "  </thead>\n",
              "  <tbody>\n",
              "    <tr>\n",
              "      <th>3246</th>\n",
              "      <td>-1.16642</td>\n",
              "      <td>0</td>\n",
              "      <td>2.117643</td>\n",
              "      <td>3</td>\n",
              "      <td>138.493</td>\n",
              "      <td>5.485260</td>\n",
              "      <td>-4.73203</td>\n",
              "      <td>-0.26353</td>\n",
              "      <td>-2.18465</td>\n",
              "    </tr>\n",
              "    <tr>\n",
              "      <th>2807</th>\n",
              "      <td>1.06112</td>\n",
              "      <td>-1</td>\n",
              "      <td>2.239113</td>\n",
              "      <td>20</td>\n",
              "      <td>141.795</td>\n",
              "      <td>2.746842</td>\n",
              "      <td>1.99786</td>\n",
              "      <td>0.06186</td>\n",
              "      <td>0.61760</td>\n",
              "    </tr>\n",
              "    <tr>\n",
              "      <th>1207</th>\n",
              "      <td>0.05756</td>\n",
              "      <td>-1</td>\n",
              "      <td>1.403820</td>\n",
              "      <td>8</td>\n",
              "      <td>133.012</td>\n",
              "      <td>2.801917</td>\n",
              "      <td>-2.19332</td>\n",
              "      <td>-0.50072</td>\n",
              "      <td>-1.37060</td>\n",
              "    </tr>\n",
              "    <tr>\n",
              "      <th>3862</th>\n",
              "      <td>0.23226</td>\n",
              "      <td>0</td>\n",
              "      <td>0.817414</td>\n",
              "      <td>19</td>\n",
              "      <td>146.275</td>\n",
              "      <td>1.568467</td>\n",
              "      <td>3.01552</td>\n",
              "      <td>1.41130</td>\n",
              "      <td>1.15812</td>\n",
              "    </tr>\n",
              "    <tr>\n",
              "      <th>2786</th>\n",
              "      <td>-0.16242</td>\n",
              "      <td>0</td>\n",
              "      <td>1.787901</td>\n",
              "      <td>23</td>\n",
              "      <td>140.281</td>\n",
              "      <td>2.339893</td>\n",
              "      <td>0.53916</td>\n",
              "      <td>-0.00718</td>\n",
              "      <td>0.33684</td>\n",
              "    </tr>\n",
              "  </tbody>\n",
              "</table>\n",
              "</div>"
            ],
            "text/plain": [
              "      close_ma50_1_diff_1  trend_strength_1  up_bb20_low_bb20_diff_1  hr  \\\n",
              "3246             -1.16642                 0                 2.117643   3   \n",
              "2807              1.06112                -1                 2.239113  20   \n",
              "1207              0.05756                -1                 1.403820   8   \n",
              "3862              0.23226                 0                 0.817414  19   \n",
              "2786             -0.16242                 0                 1.787901  23   \n",
              "\n",
              "      lagged_close_1  up_bb20_low_bb20_diff_4  close_ma100_4_diff_4  \\\n",
              "3246         138.493                 5.485260              -4.73203   \n",
              "2807         141.795                 2.746842               1.99786   \n",
              "1207         133.012                 2.801917              -2.19332   \n",
              "3862         146.275                 1.568467               3.01552   \n",
              "2786         140.281                 2.339893               0.53916   \n",
              "\n",
              "      ma50_4_ma100_4_diff_4  ma20_4_ma50_4_diff_4  \n",
              "3246               -0.26353              -2.18465  \n",
              "2807                0.06186               0.61760  \n",
              "1207               -0.50072              -1.37060  \n",
              "3862                1.41130               1.15812  \n",
              "2786               -0.00718               0.33684  "
            ]
          },
          "execution_count": 220,
          "metadata": {},
          "output_type": "execute_result"
        }
      ],
      "source": [
        "X_test.head()"
      ]
    },
    {
      "cell_type": "code",
      "execution_count": 221,
      "metadata": {
        "id": "x9lM0xDvDaVZ"
      },
      "outputs": [],
      "source": [
        "X_test.to_csv(f\"{file_path}/X_test.csv\", index=False)"
      ]
    },
    {
      "cell_type": "code",
      "execution_count": 121,
      "metadata": {
        "id": "5Jz66iMaDacI"
      },
      "outputs": [
        {
          "data": {
            "text/plain": [
              "1412    3\n",
              "916     4\n",
              "893     3\n",
              "4119    2\n",
              "1936    2\n",
              "       ..\n",
              "4171    5\n",
              "2911    1\n",
              "3572    1\n",
              "3432    1\n",
              "3425    3\n",
              "Name: pl_close_4_hr, Length: 852, dtype: int64"
            ]
          },
          "execution_count": 121,
          "metadata": {},
          "output_type": "execute_result"
        }
      ],
      "source": [
        "y_test"
      ]
    },
    {
      "cell_type": "code",
      "execution_count": 222,
      "metadata": {
        "id": "weYaJ4UxDake"
      },
      "outputs": [],
      "source": [
        "y_test.to_csv(f\"{file_path}/y_test.csv\", index=False)"
      ]
    },
    {
      "cell_type": "markdown",
      "metadata": {
        "id": "U-XpkYAPFncu"
      },
      "source": [
        "## 5.3 Modelling pipeline"
      ]
    },
    {
      "cell_type": "markdown",
      "metadata": {
        "id": "xLmFFWF6RGo6"
      },
      "source": [
        "ML pipeline for predicting tenure"
      ]
    },
    {
      "cell_type": "code",
      "execution_count": 223,
      "metadata": {
        "id": "vQkr4rcrHDnn"
      },
      "outputs": [
        {
          "data": {
            "text/plain": [
              "Pipeline(steps=[('feat_scaling', StandardScaler()),\n",
              "                ('model',\n",
              "                 RandomForestClassifier(max_depth=10, min_samples_leaf=4,\n",
              "                                        n_estimators=300, random_state=0))])"
            ]
          },
          "execution_count": 223,
          "metadata": {},
          "output_type": "execute_result"
        }
      ],
      "source": [
        "pipeline_clf"
      ]
    },
    {
      "cell_type": "code",
      "execution_count": 224,
      "metadata": {
        "id": "YrZPif2aHdyO"
      },
      "outputs": [
        {
          "data": {
            "text/plain": [
              "['c:\\\\Users\\\\sunny\\\\Desktop\\\\Development\\\\python\\\\NeuralPricing/outputs/predict_profits/v2//clf_pipeline.pkl']"
            ]
          },
          "execution_count": 224,
          "metadata": {},
          "output_type": "execute_result"
        }
      ],
      "source": [
        "joblib.dump(value=pipeline_clf, filename=f\"{file_path}/clf_pipeline.pkl\")"
      ]
    },
    {
      "cell_type": "markdown",
      "metadata": {
        "id": "LUCrXGvUFpeB"
      },
      "source": [
        "## 5.4 List  mapping target levels to ranges"
      ]
    },
    {
      "cell_type": "markdown",
      "metadata": {
        "id": "TFkAKp0eRMYM"
      },
      "source": [
        "Map for converting numerical variable to categorical variable"
      ]
    },
    {
      "cell_type": "code",
      "execution_count": 225,
      "metadata": {
        "id": "V6HfkzarHHbW"
      },
      "outputs": [
        {
          "data": {
            "text/plain": [
              "['-25<', '-20', '-5', '5', '20', '>25']"
            ]
          },
          "execution_count": 225,
          "metadata": {},
          "output_type": "execute_result"
        }
      ],
      "source": [
        "label_map"
      ]
    },
    {
      "cell_type": "code",
      "execution_count": 226,
      "metadata": {
        "id": "TPEpdAgPHQaL"
      },
      "outputs": [
        {
          "data": {
            "text/plain": [
              "['c:\\\\Users\\\\sunny\\\\Desktop\\\\Development\\\\python\\\\NeuralPricing/outputs/predict_profits/v2//label_map.pkl']"
            ]
          },
          "execution_count": 226,
          "metadata": {},
          "output_type": "execute_result"
        }
      ],
      "source": [
        "joblib.dump(value=label_map, filename=f\"{file_path}/label_map.pkl\")"
      ]
    },
    {
      "cell_type": "markdown",
      "metadata": {
        "id": "tTJlYRC5Q2wJ"
      },
      "source": [
        "## 5.5 Feature importance plot"
      ]
    },
    {
      "cell_type": "code",
      "execution_count": 227,
      "metadata": {
        "id": "0SfLH05-Q2D8"
      },
      "outputs": [
        {
          "data": {
            "image/png": "[encoded data removed]",
            "text/plain": [
              "<Figure size 640x480 with 1 Axes>"
            ]
          },
          "metadata": {},
          "output_type": "display_data"
        }
      ],
      "source": [
        "df_feature_importance.plot(kind='bar', x='Feature', y='Importance')\n",
        "plt.show()"
      ]
    },
    {
      "cell_type": "code",
      "execution_count": 228,
      "metadata": {
        "id": "R-Hc2H3dQ74Z"
      },
      "outputs": [
        {
          "data": {
            "image/png": "[encoded data removed]",
            "text/plain": [
              "<Figure size 640x480 with 1 Axes>"
            ]
          },
          "metadata": {},
          "output_type": "display_data"
        }
      ],
      "source": [
        "df_feature_importance.plot(kind='bar',x='Feature',y='Importance')\n",
        "plt.savefig(f'{file_path}/features_importance.png', bbox_inches='tight')"
      ]
    },
    {
      "cell_type": "markdown",
      "metadata": {
        "id": "Sh0SKfv_s-3V"
      },
      "source": [
        "Good job! Clear cell's outputs, push to the repo using git commands and move on to the next notebook"
      ]
    },
    {
      "cell_type": "markdown",
      "metadata": {},
      "source": [
        "---"
      ]
    },
    {
      "cell_type": "code",
      "execution_count": 229,
      "metadata": {},
      "outputs": [
        {
          "name": "stdout",
          "output_type": "stream",
          "text": [
            "      close_ma50_1_diff_1  trend_strength_1  up_bb20_low_bb20_diff_1  hr  \\\n",
            "3246             -1.16642                 0                 2.117643   3   \n",
            "\n",
            "      lagged_close_1  up_bb20_low_bb20_diff_4  close_ma100_4_diff_4  \\\n",
            "3246         138.493                  5.48526              -4.73203   \n",
            "\n",
            "      ma50_4_ma100_4_diff_4  ma20_4_ma50_4_diff_4  \n",
            "3246               -0.26353              -2.18465  \n"
          ]
        }
      ],
      "source": [
        "print(X_test[:1])"
      ]
    },
    {
      "cell_type": "markdown",
      "metadata": {},
      "source": [
        "## Load the model"
      ]
    },
    {
      "cell_type": "code",
      "execution_count": null,
      "metadata": {},
      "outputs": [],
      "source": [
        "## Load the model\n",
        "from src.machine_learning.predictive_analysis_ui import (\n",
        "    predict_binary_output, predict_profits)\n",
        "\n",
        "version = 'v2'\n",
        "profit_pip = load_pkl_file(\n",
        "        f\"outputs/predict_profits/{version}/clf_pipeline.pkl\")\n",
        "profit_labels_map = load_pkl_file(\n",
        "        f\"outputs/predict_profits/{version}/label_map.pkl\")\n",
        "profit_features = (pd.read_csv(f\"outputs/predict_profits/{version}/X_train.csv\")\n",
        "                       .columns\n",
        "                       .to_list()\n",
        "                       )"
      ]
    },
    {
      "cell_type": "code",
      "execution_count": 254,
      "metadata": {},
      "outputs": [
        {
          "name": "stdout",
          "output_type": "stream",
          "text": [
            "      close_ma50_1_diff_1  trend_strength_1  up_bb20_low_bb20_diff_1  hr  \\\n",
            "3246                -0.05                 0                 2.117643   0   \n",
            "\n",
            "      lagged_close_1  up_bb20_low_bb20_diff_4  close_ma100_4_diff_4  \\\n",
            "3246           145.0                      2.0                  -1.5   \n",
            "\n",
            "      ma50_4_ma100_4_diff_4  ma20_4_ma50_4_diff_4  \n",
            "3246                   -0.5                  -1.0  \n",
            "close_ma50_1_diff_1         -0.050000\n",
            "trend_strength_1             0.000000\n",
            "up_bb20_low_bb20_diff_1      2.117643\n",
            "hr                           0.000000\n",
            "lagged_close_1             147.830000\n",
            "up_bb20_low_bb20_diff_4      2.000000\n",
            "close_ma100_4_diff_4        -1.500000\n",
            "ma50_4_ma100_4_diff_4       -0.500000\n",
            "ma20_4_ma50_4_diff_4        -1.000000\n",
            "Name: 3246, dtype: float64\n",
            "[5]\n",
            "19.254014247582994\n",
            "probability [[0.15940421 0.18706248 0.14561114 0.16820602 0.14717601 0.19254014]]\n"
          ]
        }
      ],
      "source": [
        "print(X_test[:1])\n",
        "\n",
        "t = X_test[:1]\n",
        "t.iloc[0, t.columns.get_loc('close_ma50_1_diff_1')] = -0.05\n",
        "t.iloc[0, t.columns.get_loc('trend_strength_1')] = 0\n",
        "t.iloc[0, t.columns.get_loc('up_bb20_low_bb20_diff_1')] = 2.117643139\n",
        "t.iloc[0, t.columns.get_loc('hr')] = 0\n",
        "t.iloc[0, t.columns.get_loc('lagged_close_1')] = 147.83\n",
        "t.iloc[0, t.columns.get_loc('up_bb20_low_bb20_diff_4')] = 2.\n",
        "t.iloc[0, t.columns.get_loc('close_ma100_4_diff_4')] = -1.5\n",
        "t.iloc[0, t.columns.get_loc('ma50_4_ma100_4_diff_4')] = -0.5\n",
        "t.iloc[0, t.columns.get_loc('ma20_4_ma50_4_diff_4')] = -1\n",
        "print(t.iloc[0])\n",
        "\n",
        "predict_profits(t, profit_features,\n",
        "                                profit_pip, profit_labels_map)\n",
        "\n",
        "y_pred = pipeline_clf.predict(t)\n",
        "y_prob = pipeline_clf.predict_proba(t)\n",
        "pp = y_prob[0,y_pred][0]*100\n",
        "\n",
        "print(y_pred)\n",
        "print(pp)\n",
        "\n",
        "print(\"probability\",y_prob)\n",
        "\n"
      ]
    }
  ],
  "metadata": {
    "accelerator": "GPU",
    "colab": {
      "name": "Modeling and Evaluation - Predict Tenure.ipynb",
      "provenance": []
    },
    "kernelspec": {
      "display_name": "Python 3",
      "language": "python",
      "name": "python3"
    },
    "language_info": {
      "codemirror_mode": {
        "name": "ipython",
        "version": 3
      },
      "file_extension": ".py",
      "mimetype": "text/x-python",
      "name": "python",
      "nbconvert_exporter": "python",
      "pygments_lexer": "ipython3",
      "version": "3.8.11"
    },
    "orig_nbformat": 2,
    "vscode": {
      "interpreter": {
        "hash": "8b8334dab9339717f727a1deaf837b322d7a41c20d15cc86be99a8e69ceec8ce"
      }
    }
  },
  "nbformat": 4,
  "nbformat_minor": 2
}
