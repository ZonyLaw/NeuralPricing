{
  "cells": [
    {
      "cell_type": "markdown",
      "metadata": {
        "id": "0aStgWSO0E0E"
      },
      "source": [
        "# Classification"
      ]
    },
    {
      "cell_type": "markdown",
      "metadata": {
        "id": "1eLEkw5O0ECa"
      },
      "source": [
        "## Objectives\n",
        "\n",
        "*   Fit and evaluate a classification model to predict if it is a buy or sell entry.\n",
        "\n",
        "\n",
        "## Inputs\n",
        "\n",
        "* C:\\Users\\sunny\\Desktop\\Development\\python\\NeuralPricing\\Input\\USDJPY_prices.csv\n",
        "\n",
        "## Outputs\n",
        "\n",
        "* Train set (features and target)\n",
        "* Test set (features and target)\n",
        "* Data cleaning and Feature Engineering pipeline\n",
        "* Modeling pipeline\n",
        "* Feature importance plot\n"
      ]
    },
    {
      "cell_type": "markdown",
      "metadata": {
        "id": "9uWZXH9LwoQg"
      },
      "source": [
        "---"
      ]
    },
    {
      "cell_type": "markdown",
      "metadata": {
        "id": "-mavJ8DibrcQ"
      },
      "source": [
        "# Step 1: Load Data"
      ]
    },
    {
      "cell_type": "code",
      "execution_count": 7,
      "metadata": {
        "id": "Xk7DU_ekbtX8"
      },
      "outputs": [],
      "source": [
        "# import sys\n",
        "# sys.path.append('..')  # Add the parent directory to the path\n",
        "\n",
        "import pandas as pd\n",
        "import numpy as np\n",
        "import os\n",
        "#from data_processing import main #not sure if I need this but it works in the other script\n",
        "\n"
      ]
    },
    {
      "cell_type": "code",
      "execution_count": 8,
      "metadata": {},
      "outputs": [
        {
          "name": "stdout",
          "output_type": "stream",
          "text": [
            "c:/Users/sunny/Desktop/Development/python/NeuralPricing/classified_files/data_processing.py\n",
            "c:\\Users\\sunny\\Desktop\\Development\\python\\NeuralPricing\\inputs\\USDJPY_prices.csv\n",
            "        open     high      low    close       ma20       ma50      ma100  \\\n",
            "99   133.532  133.810  133.470  133.804  133.14950  132.15422  131.41518   \n",
            "100  133.805  133.825  133.572  133.640  133.20960  132.20670  131.44406   \n",
            "101  133.644  133.944  133.627  133.813  133.27620  132.27008  131.47374   \n",
            "102  133.815  133.924  133.770  133.911  133.34225  132.33200  131.50365   \n",
            "103  133.913  134.371  133.840  134.156  133.42340  132.40216  131.53578   \n",
            "104  134.159  134.196  133.960  134.024  133.50055  132.46612  131.56582   \n",
            "105  134.025  134.322  133.689  134.220  133.58905  132.53358  131.59877   \n",
            "106  134.224  134.443  134.149  134.346  133.66840  132.60604  131.63309   \n",
            "107  134.348  134.591  134.277  134.409  133.70445  132.68934  131.66780   \n",
            "108  134.410  134.411  134.217  134.359  133.73520  132.76644  131.70172   \n",
            "\n",
            "     upper_bb20_2  lower_bb20_2   bb_status  ...  weekday_name  \\\n",
            "99     134.162215    132.136785   inside_bb  ...        Friday   \n",
            "100    134.186564    132.232636   inside_bb  ...        Friday   \n",
            "101    134.225238    132.327162   inside_bb  ...        Friday   \n",
            "102    134.273921    132.410579   inside_bb  ...        Friday   \n",
            "103    134.340907    132.505893   upper_hit  ...        Friday   \n",
            "104    134.340626    132.660474   inside_bb  ...        Friday   \n",
            "105    134.330246    132.847854  upper_near  ...        Friday   \n",
            "106    134.374401    132.962399   upper_hit  ...        Friday   \n",
            "107    134.484421    132.924479   upper_hit  ...        Friday   \n",
            "108    134.568412    132.901988   inside_bb  ...        Friday   \n",
            "\n",
            "     up_bb20_low_bb20_diff  close_ma20_diff  close_ma50_diff  \\\n",
            "99                2.025430          0.65450          1.64978   \n",
            "100               1.953928          0.43040          1.43330   \n",
            "101               1.898076          0.53680          1.54292   \n",
            "102               1.863341          0.56875          1.57900   \n",
            "103               1.835015          0.73260          1.75384   \n",
            "104               1.680152          0.52345          1.55788   \n",
            "105               1.482392          0.63095          1.68642   \n",
            "106               1.412001          0.67760          1.73996   \n",
            "107               1.559942          0.70455          1.71966   \n",
            "108               1.666423          0.62380          1.59256   \n",
            "\n",
            "     close_ma100_diff  ma20_ma50_diff ma50_ma100_diff bb_slope_lag1  \\\n",
            "99            2.38882         0.99528         0.73904      0.073118   \n",
            "100           2.19594         1.00290         0.76264      0.024349   \n",
            "101           2.33926         1.00612         0.79634      0.038674   \n",
            "102           2.40735         1.01025         0.82835      0.048682   \n",
            "103           2.62022         1.02124         0.86638      0.066987   \n",
            "104           2.45818         1.03443         0.90030     -0.000282   \n",
            "105           2.62123         1.05547         0.93481     -0.010380   \n",
            "106           2.71291         1.06236         0.97295      0.044155   \n",
            "107           2.74120         1.01511         1.02154      0.110021   \n",
            "108           2.65728         0.96876         1.06472      0.083990   \n",
            "\n",
            "     market_state_lag1  market_bb  \n",
            "99             bullish   continue  \n",
            "100               flat   continue  \n",
            "101               flat   continue  \n",
            "102               flat   continue  \n",
            "103            bullish   continue  \n",
            "104               flat   continue  \n",
            "105               flat   continue  \n",
            "106               flat    reverse  \n",
            "107            bullish   continue  \n",
            "108            bullish   continue  \n",
            "\n",
            "[10 rows x 30 columns]\n"
          ]
        }
      ],
      "source": [
        "# Go one level up from the current working directory\n",
        "current_directory = os.getcwd()\n",
        "parent_directory = os.path.abspath(os.path.join(current_directory, '..'))\n",
        "input_folder = rf\"{parent_directory}\\inputs\\USDJPY_prices.csv\"\n",
        "output_folder = rf\"{parent_directory}\\outputs\"\n",
        "\n",
        "#this is to ensure the data_processing.py script gets imported\n",
        "data_path = rf\"{parent_directory}\\untracked_files\\data_processing.py\"\n",
        "data_path = data_path.replace(\"\\\\\", \"/\")\n",
        "print(data_path)\n",
        "%run \"{data_path}\"\n",
        "\n",
        "# %run \"C:\\Users\\sunny\\Desktop\\Development\\python\\NeuralPricing\\jupyter_notebooks\\data_processing.py\"\n",
        "\n",
        "#call on data_processing.py script main function to calculate all relevant data used in machine training.\n",
        "#Note to drop date before using.\n",
        "df = main(input_folder)\n",
        "# in case the original dataframe is needed.\n",
        "ori_df = df.copy()\n",
        "df.drop(columns=['date'], inplace= True)\n",
        "print(df.head(10))"
      ]
    },
    {
      "cell_type": "code",
      "execution_count": 9,
      "metadata": {},
      "outputs": [
        {
          "name": "stdout",
          "output_type": "stream",
          "text": [
            "['bb_status', 'month', 'time', 'weekday_name', 'market_state_lag1', 'market_bb']\n"
          ]
        }
      ],
      "source": [
        "#check which attributes are string content\n",
        "categorical_columns = df.select_dtypes(include=['object']).columns.tolist()\n",
        "print(categorical_columns)"
      ]
    },
    {
      "cell_type": "code",
      "execution_count": 10,
      "metadata": {},
      "outputs": [],
      "source": [
        "#output the data to a csv file for further external analysis\n",
        "df.to_csv(rf\"{output_folder}\\usdjpy_historical_prices.csv\",index=False)"
      ]
    },
    {
      "cell_type": "markdown",
      "metadata": {
        "id": "Ofil7xTpm6l9"
      },
      "source": [
        "---"
      ]
    },
    {
      "cell_type": "markdown",
      "metadata": {
        "id": "krjAk78Tbyhv"
      },
      "source": [
        "# Step 2: ML Pipeline with all data"
      ]
    },
    {
      "cell_type": "markdown",
      "metadata": {
        "id": "FfCsXhBYVBJw"
      },
      "source": [
        "## ML pipeline for Data Cleaning and Feature Engineering"
      ]
    },
    {
      "cell_type": "code",
      "execution_count": 42,
      "metadata": {
        "id": "C6keis6ao8LA"
      },
      "outputs": [
        {
          "data": {
            "text/plain": [
              "Pipeline(steps=[('OrdinalCategoricalEncoder',\n",
              "                 OrdinalEncoder(encoding_method='arbitrary',\n",
              "                                variables=['bb_status', 'month', 'time',\n",
              "                                           'weekday_name', 'market_state_lag1',\n",
              "                                           'market_bb'])),\n",
              "                ('SmartCorrelatedSelection',\n",
              "                 SmartCorrelatedSelection(method='spearman',\n",
              "                                          selection_method='variance',\n",
              "                                          threshold=0.4))])"
            ]
          },
          "execution_count": 42,
          "metadata": {},
          "output_type": "execute_result"
        }
      ],
      "source": [
        "from sklearn.pipeline import Pipeline\n",
        "\n",
        "# Feature Engineering\n",
        "from feature_engine.selection import SmartCorrelatedSelection\n",
        "from feature_engine.encoding import OrdinalEncoder\n",
        "\n",
        "# this defines the pipeline for cleaning\n",
        "# make sure the variables are updated accordingly\n",
        "def PipelineDataCleaningAndFeatureEngineering():\n",
        "    pipeline_base = Pipeline([\n",
        "        (\"OrdinalCategoricalEncoder\", OrdinalEncoder(encoding_method='arbitrary',\n",
        "                                                     variables=['bb_status', 'month', 'time', 'weekday_name', 'market_state_lag1', 'market_bb'])),\n",
        "\n",
        "        (\"SmartCorrelatedSelection\", SmartCorrelatedSelection(variables=None,\n",
        "         method=\"spearman\", threshold=0.4, selection_method=\"variance\")),\n",
        "\n",
        "    ])\n",
        "\n",
        "    return pipeline_base\n",
        "\n",
        "\n",
        "PipelineDataCleaningAndFeatureEngineering()\n"
      ]
    },
    {
      "cell_type": "markdown",
      "metadata": {
        "id": "H_7BXNYMULrf"
      },
      "source": [
        "## ML Pipeline for Modelling and Hyperparameter Optimisation"
      ]
    },
    {
      "cell_type": "code",
      "execution_count": 43,
      "metadata": {
        "id": "PYR4hz6-Ldvo"
      },
      "outputs": [],
      "source": [
        "# Feat Scaling\n",
        "from sklearn.preprocessing import StandardScaler\n",
        "\n",
        "# Feat Selection\n",
        "from sklearn.feature_selection import SelectFromModel\n",
        "\n",
        "# ML algorithms\n",
        "from sklearn.linear_model import LogisticRegression\n",
        "from sklearn.tree import DecisionTreeClassifier\n",
        "from sklearn.ensemble import RandomForestClassifier\n",
        "from sklearn.ensemble import GradientBoostingClassifier\n",
        "from sklearn.ensemble import ExtraTreesClassifier\n",
        "from sklearn.ensemble import AdaBoostClassifier\n",
        "from xgboost import XGBClassifier\n",
        "\n",
        "\n",
        "def PipelineClf(model):\n",
        "    pipeline_base = Pipeline([\n",
        "        (\"scaler\", StandardScaler()),\n",
        "        (\"feat_selection\", SelectFromModel(model)),\n",
        "        (\"model\", model),\n",
        "    ])\n",
        "\n",
        "    return pipeline_base\n"
      ]
    },
    {
      "cell_type": "markdown",
      "metadata": {
        "id": "KM_hrtfjLj85"
      },
      "source": [
        "Custom Class for Hyperparameter Optimisation"
      ]
    },
    {
      "cell_type": "code",
      "execution_count": 44,
      "metadata": {
        "id": "NpTcVDtQ5RMc"
      },
      "outputs": [],
      "source": [
        "from sklearn.model_selection import GridSearchCV\n",
        "\n",
        "\n",
        "class HyperparameterOptimizationSearch:\n",
        "\n",
        "    def __init__(self, models, params):\n",
        "        self.models = models\n",
        "        self.params = params\n",
        "        self.keys = models.keys()\n",
        "        self.grid_searches = {}\n",
        "\n",
        "    def fit(self, X, y, cv, n_jobs, verbose=1, scoring=None, refit=False):\n",
        "        for key in self.keys:\n",
        "            print(f\"\\nRunning GridSearchCV for {key} \\n\")\n",
        "\n",
        "            model = PipelineClf(self.models[key])\n",
        "            params = self.params[key]\n",
        "            gs = GridSearchCV(model, params, cv=cv, n_jobs=n_jobs,\n",
        "                              verbose=verbose, scoring=scoring, )\n",
        "            gs.fit(X, y)\n",
        "            self.grid_searches[key] = gs\n",
        "\n",
        "    def score_summary(self, sort_by='mean_score'):\n",
        "        def row(key, scores, params):\n",
        "            d = {\n",
        "                'estimator': key,\n",
        "                'min_score': min(scores),\n",
        "                'max_score': max(scores),\n",
        "                'mean_score': np.mean(scores),\n",
        "                'std_score': np.std(scores),\n",
        "            }\n",
        "            return pd.Series({**params, **d})\n",
        "\n",
        "        rows = []\n",
        "        for k in self.grid_searches:\n",
        "            params = self.grid_searches[k].cv_results_['params']\n",
        "            scores = []\n",
        "            for i in range(self.grid_searches[k].cv):\n",
        "                key = \"split{}_test_score\".format(i)\n",
        "                r = self.grid_searches[k].cv_results_[key]\n",
        "                scores.append(r.reshape(len(params), 1))\n",
        "\n",
        "            all_scores = np.hstack(scores)\n",
        "            for p, s in zip(params, all_scores):\n",
        "                rows.append((row(k, s, p)))\n",
        "\n",
        "        df = pd.concat(rows, axis=1).T.sort_values([sort_by], ascending=False)\n",
        "        columns = ['estimator', 'min_score',\n",
        "                   'mean_score', 'max_score', 'std_score']\n",
        "        columns = columns + [c for c in df.columns if c not in columns]\n",
        "        return df[columns], self.grid_searches\n"
      ]
    },
    {
      "cell_type": "markdown",
      "metadata": {
        "id": "eUcOp83jy0QG"
      },
      "source": [
        "## Split Train and Test Set"
      ]
    },
    {
      "cell_type": "code",
      "execution_count": 45,
      "metadata": {
        "id": "0vqzNI2zF1sZ"
      },
      "outputs": [
        {
          "name": "stdout",
          "output_type": "stream",
          "text": [
            "(3408, 29) (3408,) (852, 29) (852,)\n"
          ]
        }
      ],
      "source": [
        "\n",
        "from sklearn.model_selection import train_test_split\n",
        "X_train, X_test, y_train, y_test = train_test_split(\n",
        "    df.drop(['trade_close_4_hr'], axis=1),\n",
        "    df['trade_close_4_hr'],\n",
        "    test_size=0.2,\n",
        "    random_state=0,\n",
        ")\n",
        "\n",
        "print(X_train.shape, y_train.shape, X_test.shape, y_test.shape)\n"
      ]
    },
    {
      "cell_type": "markdown",
      "metadata": {
        "id": "4zBysp0tyqR2"
      },
      "source": [
        "## Handle Target Imbalance"
      ]
    },
    {
      "cell_type": "code",
      "execution_count": 46,
      "metadata": {
        "id": "MsQRvnn1GI_d"
      },
      "outputs": [
        {
          "name": "stdout",
          "output_type": "stream",
          "text": [
            "(3408, 10) (3408,) (852, 10) (852,)\n"
          ]
        },
        {
          "name": "stderr",
          "output_type": "stream",
          "text": [
            "c:\\Users\\sunny\\anaconda3\\envs\\myenv3811\\lib\\site-packages\\feature_engine\\selection\\smart_correlation_selection.py:271: FutureWarning: Passing a set as an indexer is deprecated and will raise in a future version. Use a list instead.\n",
            "  f = X[feature_group].std().sort_values(ascending=False).index[0]\n",
            "c:\\Users\\sunny\\anaconda3\\envs\\myenv3811\\lib\\site-packages\\feature_engine\\selection\\smart_correlation_selection.py:271: FutureWarning: Passing a set as an indexer is deprecated and will raise in a future version. Use a list instead.\n",
            "  f = X[feature_group].std().sort_values(ascending=False).index[0]\n",
            "c:\\Users\\sunny\\anaconda3\\envs\\myenv3811\\lib\\site-packages\\feature_engine\\selection\\smart_correlation_selection.py:271: FutureWarning: Passing a set as an indexer is deprecated and will raise in a future version. Use a list instead.\n",
            "  f = X[feature_group].std().sort_values(ascending=False).index[0]\n",
            "c:\\Users\\sunny\\anaconda3\\envs\\myenv3811\\lib\\site-packages\\feature_engine\\selection\\smart_correlation_selection.py:271: FutureWarning: Passing a set as an indexer is deprecated and will raise in a future version. Use a list instead.\n",
            "  f = X[feature_group].std().sort_values(ascending=False).index[0]\n",
            "c:\\Users\\sunny\\anaconda3\\envs\\myenv3811\\lib\\site-packages\\feature_engine\\selection\\smart_correlation_selection.py:271: FutureWarning: Passing a set as an indexer is deprecated and will raise in a future version. Use a list instead.\n",
            "  f = X[feature_group].std().sort_values(ascending=False).index[0]\n",
            "c:\\Users\\sunny\\anaconda3\\envs\\myenv3811\\lib\\site-packages\\feature_engine\\selection\\smart_correlation_selection.py:271: FutureWarning: Passing a set as an indexer is deprecated and will raise in a future version. Use a list instead.\n",
            "  f = X[feature_group].std().sort_values(ascending=False).index[0]\n"
          ]
        }
      ],
      "source": [
        "pipeline_data_cleaning_feat_eng = PipelineDataCleaningAndFeatureEngineering()\n",
        "X_train = pipeline_data_cleaning_feat_eng.fit_transform(X_train)\n",
        "X_test = pipeline_data_cleaning_feat_eng.transform(X_test)\n",
        "print(X_train.shape, y_train.shape, X_test.shape, y_test.shape)"
      ]
    },
    {
      "cell_type": "code",
      "execution_count": 47,
      "metadata": {},
      "outputs": [
        {
          "name": "stdout",
          "output_type": "stream",
          "text": [
            "['open', 'high', 'low', 'close', 'ma20', 'ma50', 'ma100', 'upper_bb20_2', 'lower_bb20_2', 'bb_status', 'lagged_close_1', 'pl_close_1_hr', 'trade_close_1_hr', 'lagged_close_4', 'pl_close_4_hr', 'trade_close_4_hr', 'month', 'time', 'hr', 'weekday', 'weekday_name', 'up_bb20_low_bb20_diff', 'close_ma20_diff', 'close_ma50_diff', 'close_ma100_diff', 'ma20_ma50_diff', 'ma50_ma100_diff', 'bb_slope_lag1', 'market_state_lag1', 'market_bb']\n"
          ]
        }
      ],
      "source": [
        "print(df.columns.tolist())"
      ]
    },
    {
      "cell_type": "code",
      "execution_count": 48,
      "metadata": {},
      "outputs": [
        {
          "name": "stdout",
          "output_type": "stream",
          "text": [
            "      lower_bb20_2  bb_status  trade_close_1_hr  month  time  hr  \\\n",
            "966     135.254963          0                 1      0     0   4   \n",
            "3988    145.055512          0                 0      1     1  22   \n",
            "191     132.219127          0                 1      2     2  21   \n",
            "3469    139.166546          0                 0      3     3   7   \n",
            "2634    139.028029          0                 1      4     4  12   \n",
            "2505    138.284951          0                 1      5     5   3   \n",
            "1858    133.898390          0                 0      6     6  16   \n",
            "3112    144.146152          0                 0      4     7  10   \n",
            "1809    131.756510          1                 1      6     8  18   \n",
            "2963    141.185522          2                 0      4     9   5   \n",
            "\n",
            "      weekday_name  up_bb20_low_bb20_diff  close_ma100_diff  ma50_ma100_diff  \n",
            "966              0               1.738473           1.26923          0.28531  \n",
            "3988             1               0.624076          -0.22820          0.10128  \n",
            "191              2               0.550646          -0.02822         -0.27234  \n",
            "3469             3               0.744608           0.65406          0.29370  \n",
            "2634             3               0.892342          -0.61673         -0.34731  \n",
            "2505             3               1.550199           1.12329          0.27339  \n",
            "1858             4               0.770721           0.61545          0.62747  \n",
            "3112             3               0.476296           0.59452          0.34774  \n",
            "1809             5               2.029781           0.55022         -0.32248  \n",
            "2963             2               0.582055           0.41486          0.33320  \n"
          ]
        }
      ],
      "source": [
        "print(X_train.head(10))"
      ]
    },
    {
      "cell_type": "markdown",
      "metadata": {
        "id": "wuq3902arZAz"
      },
      "source": [
        "Check Train Set Target distribution"
      ]
    },
    {
      "cell_type": "code",
      "execution_count": 49,
      "metadata": {
        "id": "I28ACrp-rPgF"
      },
      "outputs": [
        {
          "data": {
            "image/png": "[encoded data removed]",
            "text/plain": [
              "<Figure size 640x480 with 1 Axes>"
            ]
          },
          "metadata": {},
          "output_type": "display_data"
        }
      ],
      "source": [
        "import matplotlib.pyplot as plt\n",
        "import seaborn as sns\n",
        "sns.set_style(\"whitegrid\")\n",
        "y_train.value_counts().plot(kind='bar', title='Train Set Target Distribution')\n",
        "plt.show()"
      ]
    },
    {
      "cell_type": "markdown",
      "metadata": {
        "id": "-OgoR6lTrKqY"
      },
      "source": [
        "Use SMOTE (Synthetic Minority Oversampling TEchnique) to balance Train Set target"
      ]
    },
    {
      "cell_type": "code",
      "execution_count": 50,
      "metadata": {
        "id": "tP1JIwXNEsXO"
      },
      "outputs": [
        {
          "name": "stdout",
          "output_type": "stream",
          "text": [
            "(3562, 10) (3562,) (852, 10) (852,)\n"
          ]
        }
      ],
      "source": [
        "from imblearn.over_sampling import SMOTE\n",
        "oversample = SMOTE(sampling_strategy='minority', random_state=0)\n",
        "X_train, y_train = oversample.fit_resample(X_train, y_train)\n",
        "print(X_train.shape, y_train.shape, X_test.shape, y_test.shape)"
      ]
    },
    {
      "cell_type": "markdown",
      "metadata": {
        "id": "vTJO6V5zrdnw"
      },
      "source": [
        "Check Train Set Target distribution after resampling"
      ]
    },
    {
      "cell_type": "code",
      "execution_count": 51,
      "metadata": {
        "id": "iQdvEvNRG80Y"
      },
      "outputs": [
        {
          "data": {
            "image/png": "[encoded data removed]",
            "text/plain": [
              "<Figure size 640x480 with 1 Axes>"
            ]
          },
          "metadata": {},
          "output_type": "display_data"
        }
      ],
      "source": [
        "import matplotlib.pyplot as plt\n",
        "y_train.value_counts().plot(kind='bar', title='Train Set Target Distribution')\n",
        "plt.show()"
      ]
    },
    {
      "cell_type": "markdown",
      "metadata": {
        "id": "j2xTTXMayvo6"
      },
      "source": [
        "## Grid Search CV - Sklearn"
      ]
    },
    {
      "cell_type": "markdown",
      "metadata": {
        "id": "fizLJ_YQ6elb"
      },
      "source": [
        "### Use standard hyperparameters to find most suitable algorithm "
      ]
    },
    {
      "cell_type": "code",
      "execution_count": 52,
      "metadata": {
        "id": "kMgswohfKBda"
      },
      "outputs": [],
      "source": [
        "models_quick_search = {\n",
        "    \"LogisticRegression\": LogisticRegression(random_state=0),\n",
        "    \"XGBClassifier\": XGBClassifier(random_state=0),\n",
        "    \"DecisionTreeClassifier\": DecisionTreeClassifier(random_state=0),\n",
        "    \"RandomForestClassifier\": RandomForestClassifier(random_state=0),\n",
        "    \"GradientBoostingClassifier\": GradientBoostingClassifier(random_state=0),\n",
        "    \"ExtraTreesClassifier\": ExtraTreesClassifier(random_state=0),\n",
        "    \"AdaBoostClassifier\": AdaBoostClassifier(random_state=0),\n",
        "}\n",
        "\n",
        "params_quick_search = {\n",
        "    \"LogisticRegression\": {},\n",
        "    \"XGBClassifier\": {},\n",
        "    \"DecisionTreeClassifier\": {},\n",
        "    \"RandomForestClassifier\": {},\n",
        "    \"GradientBoostingClassifier\": {},\n",
        "    \"ExtraTreesClassifier\": {},\n",
        "    \"AdaBoostClassifier\": {},\n",
        "}\n"
      ]
    },
    {
      "cell_type": "markdown",
      "metadata": {
        "id": "GXu0Ryeown7N"
      },
      "source": [
        "Quick GridSearch CV - Binary Classifier"
      ]
    },
    {
      "cell_type": "code",
      "execution_count": 53,
      "metadata": {
        "id": "O7eLJcKEKBlQ"
      },
      "outputs": [
        {
          "name": "stdout",
          "output_type": "stream",
          "text": [
            "\n",
            "Running GridSearchCV for LogisticRegression \n",
            "\n",
            "Fitting 5 folds for each of 1 candidates, totalling 5 fits\n",
            "\n",
            "Running GridSearchCV for XGBClassifier \n",
            "\n",
            "Fitting 5 folds for each of 1 candidates, totalling 5 fits\n",
            "\n",
            "Running GridSearchCV for DecisionTreeClassifier \n",
            "\n",
            "Fitting 5 folds for each of 1 candidates, totalling 5 fits\n",
            "\n",
            "Running GridSearchCV for RandomForestClassifier \n",
            "\n",
            "Fitting 5 folds for each of 1 candidates, totalling 5 fits\n",
            "\n",
            "Running GridSearchCV for GradientBoostingClassifier \n",
            "\n",
            "Fitting 5 folds for each of 1 candidates, totalling 5 fits\n",
            "\n",
            "Running GridSearchCV for ExtraTreesClassifier \n",
            "\n",
            "Fitting 5 folds for each of 1 candidates, totalling 5 fits\n",
            "\n",
            "Running GridSearchCV for AdaBoostClassifier \n",
            "\n",
            "Fitting 5 folds for each of 1 candidates, totalling 5 fits\n"
          ]
        }
      ],
      "source": [
        "from sklearn.metrics import make_scorer, recall_score\n",
        "search = HyperparameterOptimizationSearch(models=models_quick_search, params=params_quick_search)\n",
        "search.fit(X_train, y_train,\n",
        "           scoring =  make_scorer(recall_score, pos_label=1),\n",
        "           n_jobs=-1, cv=5)"
      ]
    },
    {
      "cell_type": "markdown",
      "metadata": {
        "id": "g0bkL-IxwnJx"
      },
      "source": [
        "Check results"
      ]
    },
    {
      "cell_type": "code",
      "execution_count": 54,
      "metadata": {
        "id": "YpFOc7OAKMuz"
      },
      "outputs": [
        {
          "data": {
            "text/html": [
              "<div>\n",
              "<style scoped>\n",
              "    .dataframe tbody tr th:only-of-type {\n",
              "        vertical-align: middle;\n",
              "    }\n",
              "\n",
              "    .dataframe tbody tr th {\n",
              "        vertical-align: top;\n",
              "    }\n",
              "\n",
              "    .dataframe thead th {\n",
              "        text-align: right;\n",
              "    }\n",
              "</style>\n",
              "<table border=\"1\" class=\"dataframe\">\n",
              "  <thead>\n",
              "    <tr style=\"text-align: right;\">\n",
              "      <th></th>\n",
              "      <th>estimator</th>\n",
              "      <th>min_score</th>\n",
              "      <th>mean_score</th>\n",
              "      <th>max_score</th>\n",
              "      <th>std_score</th>\n",
              "    </tr>\n",
              "  </thead>\n",
              "  <tbody>\n",
              "    <tr>\n",
              "      <th>3</th>\n",
              "      <td>RandomForestClassifier</td>\n",
              "      <td>0.696629</td>\n",
              "      <td>0.72879</td>\n",
              "      <td>0.753501</td>\n",
              "      <td>0.01878</td>\n",
              "    </tr>\n",
              "    <tr>\n",
              "      <th>5</th>\n",
              "      <td>ExtraTreesClassifier</td>\n",
              "      <td>0.691011</td>\n",
              "      <td>0.728232</td>\n",
              "      <td>0.752809</td>\n",
              "      <td>0.022199</td>\n",
              "    </tr>\n",
              "    <tr>\n",
              "      <th>4</th>\n",
              "      <td>GradientBoostingClassifier</td>\n",
              "      <td>0.63764</td>\n",
              "      <td>0.70575</td>\n",
              "      <td>0.764706</td>\n",
              "      <td>0.040718</td>\n",
              "    </tr>\n",
              "    <tr>\n",
              "      <th>2</th>\n",
              "      <td>DecisionTreeClassifier</td>\n",
              "      <td>0.682584</td>\n",
              "      <td>0.704087</td>\n",
              "      <td>0.72549</td>\n",
              "      <td>0.014286</td>\n",
              "    </tr>\n",
              "    <tr>\n",
              "      <th>1</th>\n",
              "      <td>XGBClassifier</td>\n",
              "      <td>0.615169</td>\n",
              "      <td>0.692291</td>\n",
              "      <td>0.722689</td>\n",
              "      <td>0.039509</td>\n",
              "    </tr>\n",
              "    <tr>\n",
              "      <th>0</th>\n",
              "      <td>LogisticRegression</td>\n",
              "      <td>0.581461</td>\n",
              "      <td>0.675437</td>\n",
              "      <td>0.722689</td>\n",
              "      <td>0.04879</td>\n",
              "    </tr>\n",
              "    <tr>\n",
              "      <th>6</th>\n",
              "      <td>AdaBoostClassifier</td>\n",
              "      <td>0.55618</td>\n",
              "      <td>0.619279</td>\n",
              "      <td>0.683473</td>\n",
              "      <td>0.051575</td>\n",
              "    </tr>\n",
              "  </tbody>\n",
              "</table>\n",
              "</div>"
            ],
            "text/plain": [
              "                    estimator min_score mean_score max_score std_score\n",
              "3      RandomForestClassifier  0.696629    0.72879  0.753501   0.01878\n",
              "5        ExtraTreesClassifier  0.691011   0.728232  0.752809  0.022199\n",
              "4  GradientBoostingClassifier   0.63764    0.70575  0.764706  0.040718\n",
              "2      DecisionTreeClassifier  0.682584   0.704087   0.72549  0.014286\n",
              "1               XGBClassifier  0.615169   0.692291  0.722689  0.039509\n",
              "0          LogisticRegression  0.581461   0.675437  0.722689   0.04879\n",
              "6          AdaBoostClassifier   0.55618   0.619279  0.683473  0.051575"
            ]
          },
          "execution_count": 54,
          "metadata": {},
          "output_type": "execute_result"
        }
      ],
      "source": [
        "grid_search_summary, grid_search_pipelines = search.score_summary(sort_by='mean_score')\n",
        "grid_search_summary "
      ]
    },
    {
      "cell_type": "markdown",
      "metadata": {
        "id": "ewezVDt46jTJ"
      },
      "source": [
        "### Do an extensive search on the most suitable algorithm to find the best hyperparameter configuration."
      ]
    },
    {
      "cell_type": "markdown",
      "metadata": {
        "id": "Z1WozH5frBQ9"
      },
      "source": [
        "Define model and parameters, for Extensive Search"
      ]
    },
    {
      "cell_type": "code",
      "execution_count": 55,
      "metadata": {
        "id": "sDT_WMUErBRB"
      },
      "outputs": [],
      "source": [
        "models_search = {\n",
        "    \"RandomForestClassifier\":RandomForestClassifier\t(random_state=0),\n",
        "}\n",
        "\n",
        "# documentation to help on hyperparameter list: \n",
        "# https://xgboost.readthedocs.io/en/latest/python/python_api.html#module-xgboost.sklearn\n",
        "\n",
        "# We will not conduct an extensive search, since the focus\n",
        "# is on how to combine all knowledge in an applied project.\n",
        "# In a workplace project, you may spend more time in this step\n",
        "params_search = {\n",
        "    \"RandomForestClassifier\": {\n",
        "        'model__n_estimators': [50, 100, 200],\n",
        "        'model__max_depth': [None, 10, 20],\n",
        "        'model__max_features': ['auto', 'sqrt', 'log2'],\n",
        "    }\n",
        "}"
      ]
    },
    {
      "cell_type": "markdown",
      "metadata": {
        "id": "BP2Ua0FGrBRC"
      },
      "source": [
        "Extensive GridSearch CV - Binary Classifier"
      ]
    },
    {
      "cell_type": "code",
      "execution_count": 56,
      "metadata": {
        "id": "WK1s893orBRD"
      },
      "outputs": [
        {
          "name": "stdout",
          "output_type": "stream",
          "text": [
            "\n",
            "Running GridSearchCV for RandomForestClassifier \n",
            "\n",
            "Fitting 5 folds for each of 27 candidates, totalling 135 fits\n"
          ]
        }
      ],
      "source": [
        "from sklearn.metrics import recall_score, make_scorer\n",
        "search = HyperparameterOptimizationSearch(models=models_search, params=params_search)\n",
        "search.fit(X_train, y_train,\n",
        "           scoring =  make_scorer(recall_score, pos_label=1),\n",
        "           n_jobs=-1, cv=5)"
      ]
    },
    {
      "cell_type": "markdown",
      "metadata": {
        "id": "l8oVKtHyr-X8"
      },
      "source": [
        "Check results"
      ]
    },
    {
      "cell_type": "code",
      "execution_count": 57,
      "metadata": {
        "id": "8AFyZ6-pr9tN"
      },
      "outputs": [
        {
          "data": {
            "text/html": [
              "<div>\n",
              "<style scoped>\n",
              "    .dataframe tbody tr th:only-of-type {\n",
              "        vertical-align: middle;\n",
              "    }\n",
              "\n",
              "    .dataframe tbody tr th {\n",
              "        vertical-align: top;\n",
              "    }\n",
              "\n",
              "    .dataframe thead th {\n",
              "        text-align: right;\n",
              "    }\n",
              "</style>\n",
              "<table border=\"1\" class=\"dataframe\">\n",
              "  <thead>\n",
              "    <tr style=\"text-align: right;\">\n",
              "      <th></th>\n",
              "      <th>estimator</th>\n",
              "      <th>min_score</th>\n",
              "      <th>mean_score</th>\n",
              "      <th>max_score</th>\n",
              "      <th>std_score</th>\n",
              "      <th>model__max_depth</th>\n",
              "      <th>model__max_features</th>\n",
              "      <th>model__n_estimators</th>\n",
              "    </tr>\n",
              "  </thead>\n",
              "  <tbody>\n",
              "    <tr>\n",
              "      <th>26</th>\n",
              "      <td>RandomForestClassifier</td>\n",
              "      <td>0.716292</td>\n",
              "      <td>0.743962</td>\n",
              "      <td>0.772472</td>\n",
              "      <td>0.017918</td>\n",
              "      <td>20</td>\n",
              "      <td>log2</td>\n",
              "      <td>200</td>\n",
              "    </tr>\n",
              "    <tr>\n",
              "      <th>23</th>\n",
              "      <td>RandomForestClassifier</td>\n",
              "      <td>0.716292</td>\n",
              "      <td>0.743962</td>\n",
              "      <td>0.772472</td>\n",
              "      <td>0.017918</td>\n",
              "      <td>20</td>\n",
              "      <td>sqrt</td>\n",
              "      <td>200</td>\n",
              "    </tr>\n",
              "    <tr>\n",
              "      <th>20</th>\n",
              "      <td>RandomForestClassifier</td>\n",
              "      <td>0.716292</td>\n",
              "      <td>0.743962</td>\n",
              "      <td>0.772472</td>\n",
              "      <td>0.017918</td>\n",
              "      <td>20</td>\n",
              "      <td>auto</td>\n",
              "      <td>200</td>\n",
              "    </tr>\n",
              "    <tr>\n",
              "      <th>2</th>\n",
              "      <td>RandomForestClassifier</td>\n",
              "      <td>0.710674</td>\n",
              "      <td>0.737219</td>\n",
              "      <td>0.7507</td>\n",
              "      <td>0.014075</td>\n",
              "      <td>None</td>\n",
              "      <td>auto</td>\n",
              "      <td>200</td>\n",
              "    </tr>\n",
              "    <tr>\n",
              "      <th>5</th>\n",
              "      <td>RandomForestClassifier</td>\n",
              "      <td>0.710674</td>\n",
              "      <td>0.737219</td>\n",
              "      <td>0.7507</td>\n",
              "      <td>0.014075</td>\n",
              "      <td>None</td>\n",
              "      <td>sqrt</td>\n",
              "      <td>200</td>\n",
              "    </tr>\n",
              "    <tr>\n",
              "      <th>8</th>\n",
              "      <td>RandomForestClassifier</td>\n",
              "      <td>0.710674</td>\n",
              "      <td>0.737219</td>\n",
              "      <td>0.7507</td>\n",
              "      <td>0.014075</td>\n",
              "      <td>None</td>\n",
              "      <td>log2</td>\n",
              "      <td>200</td>\n",
              "    </tr>\n",
              "    <tr>\n",
              "      <th>25</th>\n",
              "      <td>RandomForestClassifier</td>\n",
              "      <td>0.707865</td>\n",
              "      <td>0.732164</td>\n",
              "      <td>0.75</td>\n",
              "      <td>0.017039</td>\n",
              "      <td>20</td>\n",
              "      <td>log2</td>\n",
              "      <td>100</td>\n",
              "    </tr>\n",
              "    <tr>\n",
              "      <th>22</th>\n",
              "      <td>RandomForestClassifier</td>\n",
              "      <td>0.707865</td>\n",
              "      <td>0.732164</td>\n",
              "      <td>0.75</td>\n",
              "      <td>0.017039</td>\n",
              "      <td>20</td>\n",
              "      <td>sqrt</td>\n",
              "      <td>100</td>\n",
              "    </tr>\n",
              "    <tr>\n",
              "      <th>19</th>\n",
              "      <td>RandomForestClassifier</td>\n",
              "      <td>0.707865</td>\n",
              "      <td>0.732164</td>\n",
              "      <td>0.75</td>\n",
              "      <td>0.017039</td>\n",
              "      <td>20</td>\n",
              "      <td>auto</td>\n",
              "      <td>100</td>\n",
              "    </tr>\n",
              "    <tr>\n",
              "      <th>4</th>\n",
              "      <td>RandomForestClassifier</td>\n",
              "      <td>0.696629</td>\n",
              "      <td>0.72879</td>\n",
              "      <td>0.753501</td>\n",
              "      <td>0.01878</td>\n",
              "      <td>None</td>\n",
              "      <td>sqrt</td>\n",
              "      <td>100</td>\n",
              "    </tr>\n",
              "    <tr>\n",
              "      <th>7</th>\n",
              "      <td>RandomForestClassifier</td>\n",
              "      <td>0.696629</td>\n",
              "      <td>0.72879</td>\n",
              "      <td>0.753501</td>\n",
              "      <td>0.01878</td>\n",
              "      <td>None</td>\n",
              "      <td>log2</td>\n",
              "      <td>100</td>\n",
              "    </tr>\n",
              "    <tr>\n",
              "      <th>1</th>\n",
              "      <td>RandomForestClassifier</td>\n",
              "      <td>0.696629</td>\n",
              "      <td>0.72879</td>\n",
              "      <td>0.753501</td>\n",
              "      <td>0.01878</td>\n",
              "      <td>None</td>\n",
              "      <td>auto</td>\n",
              "      <td>100</td>\n",
              "    </tr>\n",
              "    <tr>\n",
              "      <th>18</th>\n",
              "      <td>RandomForestClassifier</td>\n",
              "      <td>0.696629</td>\n",
              "      <td>0.725997</td>\n",
              "      <td>0.747191</td>\n",
              "      <td>0.016429</td>\n",
              "      <td>20</td>\n",
              "      <td>auto</td>\n",
              "      <td>50</td>\n",
              "    </tr>\n",
              "    <tr>\n",
              "      <th>24</th>\n",
              "      <td>RandomForestClassifier</td>\n",
              "      <td>0.696629</td>\n",
              "      <td>0.725997</td>\n",
              "      <td>0.747191</td>\n",
              "      <td>0.016429</td>\n",
              "      <td>20</td>\n",
              "      <td>log2</td>\n",
              "      <td>50</td>\n",
              "    </tr>\n",
              "    <tr>\n",
              "      <th>21</th>\n",
              "      <td>RandomForestClassifier</td>\n",
              "      <td>0.696629</td>\n",
              "      <td>0.725997</td>\n",
              "      <td>0.747191</td>\n",
              "      <td>0.016429</td>\n",
              "      <td>20</td>\n",
              "      <td>sqrt</td>\n",
              "      <td>50</td>\n",
              "    </tr>\n",
              "    <tr>\n",
              "      <th>0</th>\n",
              "      <td>RandomForestClassifier</td>\n",
              "      <td>0.676966</td>\n",
              "      <td>0.719247</td>\n",
              "      <td>0.741573</td>\n",
              "      <td>0.024862</td>\n",
              "      <td>None</td>\n",
              "      <td>auto</td>\n",
              "      <td>50</td>\n",
              "    </tr>\n",
              "    <tr>\n",
              "      <th>6</th>\n",
              "      <td>RandomForestClassifier</td>\n",
              "      <td>0.676966</td>\n",
              "      <td>0.719247</td>\n",
              "      <td>0.741573</td>\n",
              "      <td>0.024862</td>\n",
              "      <td>None</td>\n",
              "      <td>log2</td>\n",
              "      <td>50</td>\n",
              "    </tr>\n",
              "    <tr>\n",
              "      <th>3</th>\n",
              "      <td>RandomForestClassifier</td>\n",
              "      <td>0.676966</td>\n",
              "      <td>0.719247</td>\n",
              "      <td>0.741573</td>\n",
              "      <td>0.024862</td>\n",
              "      <td>None</td>\n",
              "      <td>sqrt</td>\n",
              "      <td>50</td>\n",
              "    </tr>\n",
              "    <tr>\n",
              "      <th>17</th>\n",
              "      <td>RandomForestClassifier</td>\n",
              "      <td>0.648876</td>\n",
              "      <td>0.697345</td>\n",
              "      <td>0.72549</td>\n",
              "      <td>0.027067</td>\n",
              "      <td>10</td>\n",
              "      <td>log2</td>\n",
              "      <td>200</td>\n",
              "    </tr>\n",
              "    <tr>\n",
              "      <th>14</th>\n",
              "      <td>RandomForestClassifier</td>\n",
              "      <td>0.648876</td>\n",
              "      <td>0.697345</td>\n",
              "      <td>0.72549</td>\n",
              "      <td>0.027067</td>\n",
              "      <td>10</td>\n",
              "      <td>sqrt</td>\n",
              "      <td>200</td>\n",
              "    </tr>\n",
              "    <tr>\n",
              "      <th>11</th>\n",
              "      <td>RandomForestClassifier</td>\n",
              "      <td>0.648876</td>\n",
              "      <td>0.697345</td>\n",
              "      <td>0.72549</td>\n",
              "      <td>0.027067</td>\n",
              "      <td>10</td>\n",
              "      <td>auto</td>\n",
              "      <td>200</td>\n",
              "    </tr>\n",
              "    <tr>\n",
              "      <th>16</th>\n",
              "      <td>RandomForestClassifier</td>\n",
              "      <td>0.643258</td>\n",
              "      <td>0.689497</td>\n",
              "      <td>0.716292</td>\n",
              "      <td>0.024689</td>\n",
              "      <td>10</td>\n",
              "      <td>log2</td>\n",
              "      <td>100</td>\n",
              "    </tr>\n",
              "    <tr>\n",
              "      <th>10</th>\n",
              "      <td>RandomForestClassifier</td>\n",
              "      <td>0.643258</td>\n",
              "      <td>0.689497</td>\n",
              "      <td>0.716292</td>\n",
              "      <td>0.024689</td>\n",
              "      <td>10</td>\n",
              "      <td>auto</td>\n",
              "      <td>100</td>\n",
              "    </tr>\n",
              "    <tr>\n",
              "      <th>13</th>\n",
              "      <td>RandomForestClassifier</td>\n",
              "      <td>0.643258</td>\n",
              "      <td>0.689497</td>\n",
              "      <td>0.716292</td>\n",
              "      <td>0.024689</td>\n",
              "      <td>10</td>\n",
              "      <td>sqrt</td>\n",
              "      <td>100</td>\n",
              "    </tr>\n",
              "    <tr>\n",
              "      <th>15</th>\n",
              "      <td>RandomForestClassifier</td>\n",
              "      <td>0.623596</td>\n",
              "      <td>0.679396</td>\n",
              "      <td>0.719101</td>\n",
              "      <td>0.033419</td>\n",
              "      <td>10</td>\n",
              "      <td>log2</td>\n",
              "      <td>50</td>\n",
              "    </tr>\n",
              "    <tr>\n",
              "      <th>12</th>\n",
              "      <td>RandomForestClassifier</td>\n",
              "      <td>0.623596</td>\n",
              "      <td>0.679396</td>\n",
              "      <td>0.719101</td>\n",
              "      <td>0.033419</td>\n",
              "      <td>10</td>\n",
              "      <td>sqrt</td>\n",
              "      <td>50</td>\n",
              "    </tr>\n",
              "    <tr>\n",
              "      <th>9</th>\n",
              "      <td>RandomForestClassifier</td>\n",
              "      <td>0.623596</td>\n",
              "      <td>0.679396</td>\n",
              "      <td>0.719101</td>\n",
              "      <td>0.033419</td>\n",
              "      <td>10</td>\n",
              "      <td>auto</td>\n",
              "      <td>50</td>\n",
              "    </tr>\n",
              "  </tbody>\n",
              "</table>\n",
              "</div>"
            ],
            "text/plain": [
              "                 estimator min_score mean_score max_score std_score  \\\n",
              "26  RandomForestClassifier  0.716292   0.743962  0.772472  0.017918   \n",
              "23  RandomForestClassifier  0.716292   0.743962  0.772472  0.017918   \n",
              "20  RandomForestClassifier  0.716292   0.743962  0.772472  0.017918   \n",
              "2   RandomForestClassifier  0.710674   0.737219    0.7507  0.014075   \n",
              "5   RandomForestClassifier  0.710674   0.737219    0.7507  0.014075   \n",
              "8   RandomForestClassifier  0.710674   0.737219    0.7507  0.014075   \n",
              "25  RandomForestClassifier  0.707865   0.732164      0.75  0.017039   \n",
              "22  RandomForestClassifier  0.707865   0.732164      0.75  0.017039   \n",
              "19  RandomForestClassifier  0.707865   0.732164      0.75  0.017039   \n",
              "4   RandomForestClassifier  0.696629    0.72879  0.753501   0.01878   \n",
              "7   RandomForestClassifier  0.696629    0.72879  0.753501   0.01878   \n",
              "1   RandomForestClassifier  0.696629    0.72879  0.753501   0.01878   \n",
              "18  RandomForestClassifier  0.696629   0.725997  0.747191  0.016429   \n",
              "24  RandomForestClassifier  0.696629   0.725997  0.747191  0.016429   \n",
              "21  RandomForestClassifier  0.696629   0.725997  0.747191  0.016429   \n",
              "0   RandomForestClassifier  0.676966   0.719247  0.741573  0.024862   \n",
              "6   RandomForestClassifier  0.676966   0.719247  0.741573  0.024862   \n",
              "3   RandomForestClassifier  0.676966   0.719247  0.741573  0.024862   \n",
              "17  RandomForestClassifier  0.648876   0.697345   0.72549  0.027067   \n",
              "14  RandomForestClassifier  0.648876   0.697345   0.72549  0.027067   \n",
              "11  RandomForestClassifier  0.648876   0.697345   0.72549  0.027067   \n",
              "16  RandomForestClassifier  0.643258   0.689497  0.716292  0.024689   \n",
              "10  RandomForestClassifier  0.643258   0.689497  0.716292  0.024689   \n",
              "13  RandomForestClassifier  0.643258   0.689497  0.716292  0.024689   \n",
              "15  RandomForestClassifier  0.623596   0.679396  0.719101  0.033419   \n",
              "12  RandomForestClassifier  0.623596   0.679396  0.719101  0.033419   \n",
              "9   RandomForestClassifier  0.623596   0.679396  0.719101  0.033419   \n",
              "\n",
              "   model__max_depth model__max_features model__n_estimators  \n",
              "26               20                log2                 200  \n",
              "23               20                sqrt                 200  \n",
              "20               20                auto                 200  \n",
              "2              None                auto                 200  \n",
              "5              None                sqrt                 200  \n",
              "8              None                log2                 200  \n",
              "25               20                log2                 100  \n",
              "22               20                sqrt                 100  \n",
              "19               20                auto                 100  \n",
              "4              None                sqrt                 100  \n",
              "7              None                log2                 100  \n",
              "1              None                auto                 100  \n",
              "18               20                auto                  50  \n",
              "24               20                log2                  50  \n",
              "21               20                sqrt                  50  \n",
              "0              None                auto                  50  \n",
              "6              None                log2                  50  \n",
              "3              None                sqrt                  50  \n",
              "17               10                log2                 200  \n",
              "14               10                sqrt                 200  \n",
              "11               10                auto                 200  \n",
              "16               10                log2                 100  \n",
              "10               10                auto                 100  \n",
              "13               10                sqrt                 100  \n",
              "15               10                log2                  50  \n",
              "12               10                sqrt                  50  \n",
              "9                10                auto                  50  "
            ]
          },
          "execution_count": 57,
          "metadata": {},
          "output_type": "execute_result"
        }
      ],
      "source": [
        "grid_search_summary, grid_search_pipelines = search.score_summary(sort_by='mean_score')\n",
        "grid_search_summary "
      ]
    },
    {
      "cell_type": "markdown",
      "metadata": {},
      "source": [
        "Get best model name programmatically"
      ]
    },
    {
      "cell_type": "code",
      "execution_count": 58,
      "metadata": {},
      "outputs": [
        {
          "data": {
            "text/plain": [
              "'RandomForestClassifier'"
            ]
          },
          "execution_count": 58,
          "metadata": {},
          "output_type": "execute_result"
        }
      ],
      "source": [
        "best_model = grid_search_summary.iloc[0,0]\n",
        "best_model"
      ]
    },
    {
      "cell_type": "markdown",
      "metadata": {
        "id": "htAXEVFpwiBV"
      },
      "source": [
        "Parameters for best model"
      ]
    },
    {
      "cell_type": "code",
      "execution_count": 59,
      "metadata": {
        "id": "oDIt27RdKOG8"
      },
      "outputs": [
        {
          "data": {
            "text/plain": [
              "{'model__max_depth': 20,\n",
              " 'model__max_features': 'auto',\n",
              " 'model__n_estimators': 200}"
            ]
          },
          "execution_count": 59,
          "metadata": {},
          "output_type": "execute_result"
        }
      ],
      "source": [
        "best_parameters = grid_search_pipelines[best_model].best_params_\n",
        "best_parameters"
      ]
    },
    {
      "cell_type": "markdown",
      "metadata": {},
      "source": []
    },
    {
      "cell_type": "markdown",
      "metadata": {
        "id": "eAnJQlDlw1FE"
      },
      "source": [
        "Define the best clf pipeline"
      ]
    },
    {
      "cell_type": "code",
      "execution_count": 60,
      "metadata": {
        "id": "zLotNfy4MKDE"
      },
      "outputs": [
        {
          "data": {
            "text/plain": [
              "Pipeline(steps=[('scaler', StandardScaler()),\n",
              "                ('feat_selection',\n",
              "                 SelectFromModel(estimator=RandomForestClassifier(random_state=0))),\n",
              "                ('model',\n",
              "                 RandomForestClassifier(max_depth=20, n_estimators=200,\n",
              "                                        random_state=0))])"
            ]
          },
          "execution_count": 60,
          "metadata": {},
          "output_type": "execute_result"
        }
      ],
      "source": [
        "pipeline_clf = grid_search_pipelines[best_model].best_estimator_\n",
        "pipeline_clf"
      ]
    },
    {
      "cell_type": "markdown",
      "metadata": {
        "id": "UgdxKijH6qJS"
      },
      "source": [
        "## Assess feature importance"
      ]
    },
    {
      "cell_type": "code",
      "execution_count": 61,
      "metadata": {},
      "outputs": [
        {
          "data": {
            "text/html": [
              "<div>\n",
              "<style scoped>\n",
              "    .dataframe tbody tr th:only-of-type {\n",
              "        vertical-align: middle;\n",
              "    }\n",
              "\n",
              "    .dataframe tbody tr th {\n",
              "        vertical-align: top;\n",
              "    }\n",
              "\n",
              "    .dataframe thead th {\n",
              "        text-align: right;\n",
              "    }\n",
              "</style>\n",
              "<table border=\"1\" class=\"dataframe\">\n",
              "  <thead>\n",
              "    <tr style=\"text-align: right;\">\n",
              "      <th></th>\n",
              "      <th>lower_bb20_2</th>\n",
              "      <th>bb_status</th>\n",
              "      <th>trade_close_1_hr</th>\n",
              "      <th>month</th>\n",
              "      <th>time</th>\n",
              "      <th>hr</th>\n",
              "      <th>weekday_name</th>\n",
              "      <th>up_bb20_low_bb20_diff</th>\n",
              "      <th>close_ma100_diff</th>\n",
              "      <th>ma50_ma100_diff</th>\n",
              "    </tr>\n",
              "  </thead>\n",
              "  <tbody>\n",
              "    <tr>\n",
              "      <th>0</th>\n",
              "      <td>135.254963</td>\n",
              "      <td>0</td>\n",
              "      <td>1</td>\n",
              "      <td>0</td>\n",
              "      <td>0</td>\n",
              "      <td>4</td>\n",
              "      <td>0</td>\n",
              "      <td>1.738473</td>\n",
              "      <td>1.26923</td>\n",
              "      <td>0.28531</td>\n",
              "    </tr>\n",
              "    <tr>\n",
              "      <th>1</th>\n",
              "      <td>145.055512</td>\n",
              "      <td>0</td>\n",
              "      <td>0</td>\n",
              "      <td>1</td>\n",
              "      <td>1</td>\n",
              "      <td>22</td>\n",
              "      <td>1</td>\n",
              "      <td>0.624076</td>\n",
              "      <td>-0.22820</td>\n",
              "      <td>0.10128</td>\n",
              "    </tr>\n",
              "    <tr>\n",
              "      <th>2</th>\n",
              "      <td>132.219127</td>\n",
              "      <td>0</td>\n",
              "      <td>1</td>\n",
              "      <td>2</td>\n",
              "      <td>2</td>\n",
              "      <td>21</td>\n",
              "      <td>2</td>\n",
              "      <td>0.550646</td>\n",
              "      <td>-0.02822</td>\n",
              "      <td>-0.27234</td>\n",
              "    </tr>\n",
              "  </tbody>\n",
              "</table>\n",
              "</div>"
            ],
            "text/plain": [
              "   lower_bb20_2  bb_status  trade_close_1_hr  month  time  hr  weekday_name  \\\n",
              "0    135.254963          0                 1      0     0   4             0   \n",
              "1    145.055512          0                 0      1     1  22             1   \n",
              "2    132.219127          0                 1      2     2  21             2   \n",
              "\n",
              "   up_bb20_low_bb20_diff  close_ma100_diff  ma50_ma100_diff  \n",
              "0               1.738473           1.26923          0.28531  \n",
              "1               0.624076          -0.22820          0.10128  \n",
              "2               0.550646          -0.02822         -0.27234  "
            ]
          },
          "execution_count": 61,
          "metadata": {},
          "output_type": "execute_result"
        }
      ],
      "source": [
        "X_train.head(3)"
      ]
    },
    {
      "cell_type": "markdown",
      "metadata": {
        "id": "n30pl2dowzW3"
      },
      "source": [
        "* With the current model, we can assess with `.features_importances_`"
      ]
    },
    {
      "cell_type": "code",
      "execution_count": 62,
      "metadata": {
        "id": "4XGczhv2uo2C"
      },
      "outputs": [
        {
          "name": "stdout",
          "output_type": "stream",
          "text": [
            "* These are the 5 most important features in descending order. The model was trained on them: \n",
            "['close_ma100_diff', 'ma50_ma100_diff', 'lower_bb20_2', 'up_bb20_low_bb20_diff', 'bb_status']\n"
          ]
        },
        {
          "data": {
            "image/png": "[encoded data removed]",
            "text/plain": [
              "<Figure size 640x480 with 1 Axes>"
            ]
          },
          "metadata": {},
          "output_type": "display_data"
        }
      ],
      "source": [
        "# create DataFrame to display feature importance\n",
        "df_feature_importance = (pd.DataFrame(data={\n",
        "    'Feature': X_train.columns[pipeline_clf['feat_selection'].get_support()],\n",
        "    'Importance': pipeline_clf['model'].feature_importances_})\n",
        "    .sort_values(by='Importance', ascending=False)\n",
        ")\n",
        "\n",
        "# re-assign best_features order\n",
        "best_features = df_feature_importance['Feature'].to_list()\n",
        "\n",
        "# Most important features statement and plot\n",
        "print(f\"* These are the {len(best_features)} most important features in descending order. \"\n",
        "      f\"The model was trained on them: \\n{df_feature_importance['Feature'].to_list()}\")\n",
        "\n",
        "df_feature_importance.plot(kind='bar', x='Feature', y='Importance')\n",
        "plt.show()\n"
      ]
    },
    {
      "cell_type": "code",
      "execution_count": 63,
      "metadata": {},
      "outputs": [
        {
          "name": "stdout",
          "output_type": "stream",
          "text": [
            "Feature selection mask as a list:\n",
            "[True, True, False, False, False, False, False, True, True, True]\n",
            "First 10 elements of the feature selection mask:\n",
            "[ True  True False False False False False  True  True  True]\n"
          ]
        }
      ],
      "source": [
        "# Assuming pipeline_clf['feat_selection'].get_support() returns the boolean mask\n",
        "feature_selection_mask = pipeline_clf['feat_selection'].get_support()\n",
        "\n",
        "# Convert the boolean mask to a list\n",
        "feature_selection_list = feature_selection_mask.tolist()\n",
        "\n",
        "print(\"Feature selection mask as a list:\")\n",
        "print(feature_selection_list)\n",
        "\n",
        "# Or, you can directly print specific elements\n",
        "print(\"First 10 elements of the feature selection mask:\")\n",
        "print(feature_selection_mask[:10])"
      ]
    },
    {
      "cell_type": "code",
      "execution_count": 64,
      "metadata": {},
      "outputs": [
        {
          "data": {
            "text/html": [
              "<div>\n",
              "<style scoped>\n",
              "    .dataframe tbody tr th:only-of-type {\n",
              "        vertical-align: middle;\n",
              "    }\n",
              "\n",
              "    .dataframe tbody tr th {\n",
              "        vertical-align: top;\n",
              "    }\n",
              "\n",
              "    .dataframe thead th {\n",
              "        text-align: right;\n",
              "    }\n",
              "</style>\n",
              "<table border=\"1\" class=\"dataframe\">\n",
              "  <thead>\n",
              "    <tr style=\"text-align: right;\">\n",
              "      <th></th>\n",
              "      <th>Feature</th>\n",
              "      <th>Importance</th>\n",
              "    </tr>\n",
              "  </thead>\n",
              "  <tbody>\n",
              "    <tr>\n",
              "      <th>3</th>\n",
              "      <td>close_ma100_diff</td>\n",
              "      <td>0.245988</td>\n",
              "    </tr>\n",
              "    <tr>\n",
              "      <th>4</th>\n",
              "      <td>ma50_ma100_diff</td>\n",
              "      <td>0.218987</td>\n",
              "    </tr>\n",
              "    <tr>\n",
              "      <th>0</th>\n",
              "      <td>lower_bb20_2</td>\n",
              "      <td>0.200770</td>\n",
              "    </tr>\n",
              "    <tr>\n",
              "      <th>2</th>\n",
              "      <td>up_bb20_low_bb20_diff</td>\n",
              "      <td>0.182433</td>\n",
              "    </tr>\n",
              "    <tr>\n",
              "      <th>1</th>\n",
              "      <td>bb_status</td>\n",
              "      <td>0.151822</td>\n",
              "    </tr>\n",
              "  </tbody>\n",
              "</table>\n",
              "</div>"
            ],
            "text/plain": [
              "                 Feature  Importance\n",
              "3       close_ma100_diff    0.245988\n",
              "4        ma50_ma100_diff    0.218987\n",
              "0           lower_bb20_2    0.200770\n",
              "2  up_bb20_low_bb20_diff    0.182433\n",
              "1              bb_status    0.151822"
            ]
          },
          "execution_count": 64,
          "metadata": {},
          "output_type": "execute_result"
        }
      ],
      "source": [
        "df_feature_importance"
      ]
    },
    {
      "cell_type": "markdown",
      "metadata": {
        "id": "hXtmFP_Ulpnd"
      },
      "source": [
        "## Evaluate Pipeline on Train and Test Sets"
      ]
    },
    {
      "cell_type": "code",
      "execution_count": 65,
      "metadata": {
        "id": "myG6tDSGan4r"
      },
      "outputs": [],
      "source": [
        "from sklearn.metrics import classification_report, confusion_matrix\n",
        "\n",
        "\n",
        "def confusion_matrix_and_report(X, y, pipeline, label_map):\n",
        "\n",
        "    prediction = pipeline.predict(X)\n",
        "\n",
        "    print('---  Confusion Matrix  ---')\n",
        "    print(pd.DataFrame(confusion_matrix(y_true=prediction, y_pred=y),\n",
        "          columns=[[\"Actual \" + sub for sub in label_map]],\n",
        "          index=[[\"Prediction \" + sub for sub in label_map]]\n",
        "          ))\n",
        "    print(\"\\n\")\n",
        "\n",
        "    print('---  Classification Report  ---')\n",
        "    print(classification_report(y, prediction, target_names=label_map), \"\\n\")\n",
        "\n",
        "\n",
        "def clf_performance(X_train, y_train, X_test, y_test, pipeline, label_map):\n",
        "    print(\"#### Train Set #### \\n\")\n",
        "    confusion_matrix_and_report(X_train, y_train, pipeline, label_map)\n",
        "\n",
        "    print(\"#### Test Set ####\\n\")\n",
        "    confusion_matrix_and_report(X_test, y_test, pipeline, label_map)\n"
      ]
    },
    {
      "cell_type": "markdown",
      "metadata": {
        "id": "qpUfEAGlW5aK"
      },
      "source": [
        "Evaluation: We cross check with metrics defined at ML business case\n",
        "* 80% Recall for Churn, on train and test set\n",
        "* 80% Precision for no Churn on train and test set. "
      ]
    },
    {
      "cell_type": "code",
      "execution_count": 66,
      "metadata": {
        "id": "umWjIvGMNLig"
      },
      "outputs": [
        {
          "name": "stdout",
          "output_type": "stream",
          "text": [
            "#### Train Set #### \n",
            "\n",
            "---  Confusion Matrix  ---\n",
            "                Actual Sell Actual Buy\n",
            "Prediction Sell        1781          0\n",
            "Prediction Buy            0       1781\n",
            "\n",
            "\n",
            "---  Classification Report  ---\n",
            "              precision    recall  f1-score   support\n",
            "\n",
            "        Sell       1.00      1.00      1.00      1781\n",
            "         Buy       1.00      1.00      1.00      1781\n",
            "\n",
            "    accuracy                           1.00      3562\n",
            "   macro avg       1.00      1.00      1.00      3562\n",
            "weighted avg       1.00      1.00      1.00      3562\n",
            " \n",
            "\n",
            "#### Test Set ####\n",
            "\n",
            "---  Confusion Matrix  ---\n",
            "                Actual Sell Actual Buy\n",
            "Prediction Sell         302        107\n",
            "Prediction Buy          120        323\n",
            "\n",
            "\n",
            "---  Classification Report  ---\n",
            "              precision    recall  f1-score   support\n",
            "\n",
            "        Sell       0.74      0.72      0.73       422\n",
            "         Buy       0.73      0.75      0.74       430\n",
            "\n",
            "    accuracy                           0.73       852\n",
            "   macro avg       0.73      0.73      0.73       852\n",
            "weighted avg       0.73      0.73      0.73       852\n",
            " \n",
            "\n"
          ]
        }
      ],
      "source": [
        "clf_performance(X_train=X_train, y_train=y_train,\n",
        "                X_test=X_test, y_test=y_test,\n",
        "                pipeline=pipeline_clf,\n",
        "                label_map= ['Sell', 'Buy'] \n",
        "                )"
      ]
    },
    {
      "cell_type": "markdown",
      "metadata": {
        "id": "7WgttWjtHHOQ"
      },
      "source": [
        "# Step 3: Refit pipeline with best features"
      ]
    },
    {
      "cell_type": "markdown",
      "metadata": {
        "id": "kCyOyebVHVmA"
      },
      "source": [
        "## Refit ML Pipeline and Resampling"
      ]
    },
    {
      "cell_type": "markdown",
      "metadata": {
        "id": "R4PpI2sKC5IL"
      },
      "source": [
        "In theory, a pipeline fitted **using only the most important features** should give the same result as the one fitted with **all variables and feature selection**\n",
        "\n",
        "* However, in this project we have a step for feature augmentation, which is to balance the target Train Set using SMOTE().\n"
      ]
    },
    {
      "cell_type": "markdown",
      "metadata": {
        "id": "Km_-hW0f68DP"
      },
      "source": [
        "## Rewrite ML pipeline for Data Cleaning and Feature Engineering"
      ]
    },
    {
      "cell_type": "code",
      "execution_count": 67,
      "metadata": {},
      "outputs": [
        {
          "data": {
            "text/plain": [
              "['close_ma100_diff',\n",
              " 'ma50_ma100_diff',\n",
              " 'lower_bb20_2',\n",
              " 'up_bb20_low_bb20_diff',\n",
              " 'bb_status']"
            ]
          },
          "execution_count": 67,
          "metadata": {},
          "output_type": "execute_result"
        }
      ],
      "source": [
        "best_features"
      ]
    },
    {
      "cell_type": "code",
      "execution_count": 68,
      "metadata": {},
      "outputs": [],
      "source": [
        "#it is good to see some of features as expected are being picked above.\n",
        "#However, I think these should drive the model.\n",
        "best_features = ['close_ma20_diff',\n",
        " 'close_ma100_diff',\n",
        " 'up_bb20_low_bb20_diff',\n",
        " 'ma50_ma100_diff',\n",
        " 'hr',\n",
        " 'bb_status',\n",
        " 'market_state_lag1']"
      ]
    },
    {
      "cell_type": "markdown",
      "metadata": {
        "id": "EBeckIjkCa4k"
      },
      "source": [
        "New Pipeline for DataCleaning And FeatureEngineering"
      ]
    },
    {
      "cell_type": "code",
      "execution_count": 69,
      "metadata": {
        "id": "bc8ptvFiHJmb"
      },
      "outputs": [],
      "source": [
        "#Note: variables need to be updated as required!\n",
        "def PipelineDataCleaningAndFeatureEngineering():\n",
        "    pipeline_base = Pipeline([\n",
        "\n",
        "        (\"OrdinalCategoricalEncoder\", OrdinalEncoder(encoding_method='arbitrary',\n",
        "                                                     variables=['bb_status', 'market_state_lag1'])),\n",
        "\n",
        "\n",
        "        # we don't need SmartCorrelatedSelection\n",
        "    ])\n",
        "\n",
        "    return pipeline_base\n"
      ]
    },
    {
      "cell_type": "markdown",
      "metadata": {
        "id": "uGNs9PU16_Ls"
      },
      "source": [
        "## Rewrite ML Pipeline for Modelling"
      ]
    },
    {
      "cell_type": "markdown",
      "metadata": {
        "id": "gpjmxzTbCXlg"
      },
      "source": [
        "Function for Pipeline optmisation"
      ]
    },
    {
      "cell_type": "code",
      "execution_count": 70,
      "metadata": {
        "id": "8E76QmoMEWA0"
      },
      "outputs": [],
      "source": [
        "# Pipeline Optmization: Model\n",
        "def PipelineClf(model):\n",
        "    pipeline_base = Pipeline([\n",
        "        (\"scaler\", StandardScaler()),\n",
        "        # no feature selection needed anymore!!! We know which features to use already!\n",
        "        (\"model\", model),\n",
        "    ])\n",
        "\n",
        "    return pipeline_base\n"
      ]
    },
    {
      "cell_type": "markdown",
      "metadata": {
        "id": "75hfh3o5GhoU"
      },
      "source": [
        "## Split Train Test Set, considering only with best features"
      ]
    },
    {
      "cell_type": "code",
      "execution_count": 71,
      "metadata": {
        "id": "x6dX0VeKGhod"
      },
      "outputs": [
        {
          "name": "stdout",
          "output_type": "stream",
          "text": [
            "(3408, 29) (3408,) (852, 29) (852,)\n"
          ]
        }
      ],
      "source": [
        "from sklearn.model_selection import train_test_split\n",
        "X_train, X_test, y_train, y_test = train_test_split(\n",
        "    df.drop(['trade_close_4_hr'], axis=1),\n",
        "    df['trade_close_4_hr'],\n",
        "    test_size=0.2,\n",
        "    random_state=0,\n",
        ")\n",
        "\n",
        "print(X_train.shape, y_train.shape, X_test.shape, y_test.shape)\n"
      ]
    },
    {
      "cell_type": "markdown",
      "metadata": {
        "id": "c19a3t6jI6H6"
      },
      "source": [
        "We filter only the most important variables"
      ]
    },
    {
      "cell_type": "code",
      "execution_count": 72,
      "metadata": {
        "id": "p5Acb9T_GXjU"
      },
      "outputs": [
        {
          "name": "stdout",
          "output_type": "stream",
          "text": [
            "(3408, 7) (3408,) (852, 7) (852,)\n"
          ]
        },
        {
          "data": {
            "text/html": [
              "<div>\n",
              "<style scoped>\n",
              "    .dataframe tbody tr th:only-of-type {\n",
              "        vertical-align: middle;\n",
              "    }\n",
              "\n",
              "    .dataframe tbody tr th {\n",
              "        vertical-align: top;\n",
              "    }\n",
              "\n",
              "    .dataframe thead th {\n",
              "        text-align: right;\n",
              "    }\n",
              "</style>\n",
              "<table border=\"1\" class=\"dataframe\">\n",
              "  <thead>\n",
              "    <tr style=\"text-align: right;\">\n",
              "      <th></th>\n",
              "      <th>close_ma20_diff</th>\n",
              "      <th>close_ma100_diff</th>\n",
              "      <th>up_bb20_low_bb20_diff</th>\n",
              "      <th>ma50_ma100_diff</th>\n",
              "      <th>hr</th>\n",
              "      <th>bb_status</th>\n",
              "      <th>market_state_lag1</th>\n",
              "    </tr>\n",
              "  </thead>\n",
              "  <tbody>\n",
              "    <tr>\n",
              "      <th>966</th>\n",
              "      <td>0.18180</td>\n",
              "      <td>1.26923</td>\n",
              "      <td>1.738473</td>\n",
              "      <td>0.28531</td>\n",
              "      <td>4</td>\n",
              "      <td>inside_bb</td>\n",
              "      <td>bearish</td>\n",
              "    </tr>\n",
              "    <tr>\n",
              "      <th>3988</th>\n",
              "      <td>0.10145</td>\n",
              "      <td>-0.22820</td>\n",
              "      <td>0.624076</td>\n",
              "      <td>0.10128</td>\n",
              "      <td>22</td>\n",
              "      <td>inside_bb</td>\n",
              "      <td>flat</td>\n",
              "    </tr>\n",
              "    <tr>\n",
              "      <th>191</th>\n",
              "      <td>-0.03445</td>\n",
              "      <td>-0.02822</td>\n",
              "      <td>0.550646</td>\n",
              "      <td>-0.27234</td>\n",
              "      <td>21</td>\n",
              "      <td>inside_bb</td>\n",
              "      <td>flat</td>\n",
              "    </tr>\n",
              "  </tbody>\n",
              "</table>\n",
              "</div>"
            ],
            "text/plain": [
              "      close_ma20_diff  close_ma100_diff  up_bb20_low_bb20_diff  \\\n",
              "966           0.18180           1.26923               1.738473   \n",
              "3988          0.10145          -0.22820               0.624076   \n",
              "191          -0.03445          -0.02822               0.550646   \n",
              "\n",
              "      ma50_ma100_diff  hr  bb_status market_state_lag1  \n",
              "966           0.28531   4  inside_bb           bearish  \n",
              "3988          0.10128  22  inside_bb              flat  \n",
              "191          -0.27234  21  inside_bb              flat  "
            ]
          },
          "execution_count": 72,
          "metadata": {},
          "output_type": "execute_result"
        }
      ],
      "source": [
        "X_train = X_train.filter(best_features)\n",
        "X_test = X_test.filter(best_features)\n",
        "\n",
        "print(X_train.shape, y_train.shape, X_test.shape, y_test.shape)\n",
        "X_train.head(3)"
      ]
    },
    {
      "cell_type": "markdown",
      "metadata": {
        "id": "sjOcRGheGhof"
      },
      "source": [
        "## Handle Target Imbalance"
      ]
    },
    {
      "cell_type": "code",
      "execution_count": 73,
      "metadata": {
        "id": "KbQda_pcGhof"
      },
      "outputs": [
        {
          "name": "stdout",
          "output_type": "stream",
          "text": [
            "(3408, 7) (3408,) (852, 7) (852,)\n"
          ]
        }
      ],
      "source": [
        "pipeline_data_cleaning_feat_eng = PipelineDataCleaningAndFeatureEngineering()\n",
        "X_train = pipeline_data_cleaning_feat_eng.fit_transform(X_train)\n",
        "X_test = pipeline_data_cleaning_feat_eng.transform(X_test)\n",
        "print(X_train.shape, y_train.shape, X_test.shape, y_test.shape)"
      ]
    },
    {
      "cell_type": "markdown",
      "metadata": {
        "id": "EQxIFw3KGhog"
      },
      "source": [
        "Check Train Set Target distribution"
      ]
    },
    {
      "cell_type": "code",
      "execution_count": 74,
      "metadata": {
        "id": "7ZQyth-2Ghog"
      },
      "outputs": [
        {
          "data": {
            "image/png": "[encoded data removed]",
            "text/plain": [
              "<Figure size 640x480 with 1 Axes>"
            ]
          },
          "metadata": {},
          "output_type": "display_data"
        }
      ],
      "source": [
        "import matplotlib.pyplot as plt\n",
        "y_train.value_counts().plot(kind='bar', title='Train Set Target Distribution')\n",
        "plt.show()"
      ]
    },
    {
      "cell_type": "markdown",
      "metadata": {
        "id": "N9FbCbIrGhoh"
      },
      "source": [
        "Use SMOTE to balance Train Set target"
      ]
    },
    {
      "cell_type": "code",
      "execution_count": 75,
      "metadata": {
        "id": "OtbWft5VGhoh"
      },
      "outputs": [
        {
          "name": "stdout",
          "output_type": "stream",
          "text": [
            "(3562, 7) (3562,) (852, 7) (852,)\n"
          ]
        }
      ],
      "source": [
        "from imblearn.over_sampling import SMOTE\n",
        "oversample = SMOTE(sampling_strategy='minority', random_state=0)\n",
        "X_train, y_train = oversample.fit_resample(X_train, y_train)\n",
        "print(X_train.shape, y_train.shape, X_test.shape, y_test.shape)"
      ]
    },
    {
      "cell_type": "markdown",
      "metadata": {
        "id": "YozwzI9eGhoh"
      },
      "source": [
        "Check Train Set Target distribution after SMOTE"
      ]
    },
    {
      "cell_type": "code",
      "execution_count": 76,
      "metadata": {
        "id": "TyL99cYMGhoi"
      },
      "outputs": [
        {
          "data": {
            "image/png": "[encoded data removed]",
            "text/plain": [
              "<Figure size 640x480 with 1 Axes>"
            ]
          },
          "metadata": {},
          "output_type": "display_data"
        }
      ],
      "source": [
        "y_train.value_counts().plot(kind='bar',title='Train Set Target Distribution')\n",
        "plt.show()"
      ]
    },
    {
      "cell_type": "markdown",
      "metadata": {
        "id": "b_WjvD_QIJ_L"
      },
      "source": [
        "## Grid Search CV: Sklearn"
      ]
    },
    {
      "cell_type": "markdown",
      "metadata": {
        "id": "ESkqrySI7N6u"
      },
      "source": [
        "Using the most suitable model from the last section and its best hyperparameter configuration."
      ]
    },
    {
      "cell_type": "markdown",
      "metadata": {
        "id": "F6fFaXDOIJ_M"
      },
      "source": [
        "We are using the same model from  the last GridCV search"
      ]
    },
    {
      "cell_type": "code",
      "execution_count": 77,
      "metadata": {
        "id": "H7F0z__h1qSA"
      },
      "outputs": [
        {
          "data": {
            "text/plain": [
              "{'RandomForestClassifier': RandomForestClassifier(random_state=0)}"
            ]
          },
          "execution_count": 77,
          "metadata": {},
          "output_type": "execute_result"
        }
      ],
      "source": [
        "models_search   # XGBClassifier"
      ]
    },
    {
      "cell_type": "markdown",
      "metadata": {
        "id": "qRteBPgd3ldU"
      },
      "source": [
        "And the best parameters from the last GridCV search "
      ]
    },
    {
      "cell_type": "code",
      "execution_count": 78,
      "metadata": {
        "id": "IbGNBeZk3V8r"
      },
      "outputs": [
        {
          "data": {
            "text/plain": [
              "{'model__max_depth': 20,\n",
              " 'model__max_features': 'auto',\n",
              " 'model__n_estimators': 200}"
            ]
          },
          "execution_count": 78,
          "metadata": {},
          "output_type": "execute_result"
        }
      ],
      "source": [
        "best_parameters"
      ]
    },
    {
      "cell_type": "markdown",
      "metadata": {
        "id": "YlLJP5Ds3rYp"
      },
      "source": [
        "You will need to type in manually since the hyperparameter values have to be a list. The previous dictionary is not in this format."
      ]
    },
    {
      "cell_type": "code",
      "execution_count": 79,
      "metadata": {
        "id": "9bC8RmE-2Mi2"
      },
      "outputs": [
        {
          "data": {
            "text/plain": [
              "{'RandomForestClassifier': {'model__n_estimators': [100],\n",
              "  'model__max_depth': [20],\n",
              "  'model__max_features': ['auto']}}"
            ]
          },
          "execution_count": 79,
          "metadata": {},
          "output_type": "execute_result"
        }
      ],
      "source": [
        "params_search = {\n",
        "                 \n",
        "                     \"RandomForestClassifier\": {\n",
        "        'model__n_estimators': [100],\n",
        "        'model__max_depth': [20],\n",
        "        'model__max_features': ['auto'],\n",
        "        }\n",
        "                     \n",
        "\n",
        "}\n",
        "params_search\n"
      ]
    },
    {
      "cell_type": "markdown",
      "metadata": {
        "id": "GrRJNywsIJ_M"
      },
      "source": [
        "GridSearch CV"
      ]
    },
    {
      "cell_type": "code",
      "execution_count": 80,
      "metadata": {
        "id": "yv5nO6cJP9fX"
      },
      "outputs": [
        {
          "name": "stdout",
          "output_type": "stream",
          "text": [
            "\n",
            "Running GridSearchCV for RandomForestClassifier \n",
            "\n",
            "Fitting 5 folds for each of 1 candidates, totalling 5 fits\n"
          ]
        }
      ],
      "source": [
        "from sklearn.metrics import recall_score, make_scorer\n",
        "quick_search = HyperparameterOptimizationSearch(\n",
        "    models=models_search, params=params_search)\n",
        "quick_search.fit(X_train, y_train,\n",
        "                 scoring=make_scorer(recall_score, pos_label=1),\n",
        "                 n_jobs=-1, cv=5)\n"
      ]
    },
    {
      "cell_type": "markdown",
      "metadata": {
        "id": "Yr_Yu9ykIJ_N"
      },
      "source": [
        "Check results"
      ]
    },
    {
      "cell_type": "code",
      "execution_count": 81,
      "metadata": {
        "id": "fqIk1g95IJ_N"
      },
      "outputs": [
        {
          "data": {
            "text/html": [
              "<div>\n",
              "<style scoped>\n",
              "    .dataframe tbody tr th:only-of-type {\n",
              "        vertical-align: middle;\n",
              "    }\n",
              "\n",
              "    .dataframe tbody tr th {\n",
              "        vertical-align: top;\n",
              "    }\n",
              "\n",
              "    .dataframe thead th {\n",
              "        text-align: right;\n",
              "    }\n",
              "</style>\n",
              "<table border=\"1\" class=\"dataframe\">\n",
              "  <thead>\n",
              "    <tr style=\"text-align: right;\">\n",
              "      <th></th>\n",
              "      <th>estimator</th>\n",
              "      <th>min_score</th>\n",
              "      <th>mean_score</th>\n",
              "      <th>max_score</th>\n",
              "      <th>std_score</th>\n",
              "      <th>model__max_depth</th>\n",
              "      <th>model__max_features</th>\n",
              "      <th>model__n_estimators</th>\n",
              "    </tr>\n",
              "  </thead>\n",
              "  <tbody>\n",
              "    <tr>\n",
              "      <th>0</th>\n",
              "      <td>RandomForestClassifier</td>\n",
              "      <td>0.792135</td>\n",
              "      <td>0.81472</td>\n",
              "      <td>0.865169</td>\n",
              "      <td>0.02699</td>\n",
              "      <td>20</td>\n",
              "      <td>auto</td>\n",
              "      <td>100</td>\n",
              "    </tr>\n",
              "  </tbody>\n",
              "</table>\n",
              "</div>"
            ],
            "text/plain": [
              "                estimator min_score mean_score max_score std_score  \\\n",
              "0  RandomForestClassifier  0.792135    0.81472  0.865169   0.02699   \n",
              "\n",
              "  model__max_depth model__max_features model__n_estimators  \n",
              "0               20                auto                 100  "
            ]
          },
          "execution_count": 81,
          "metadata": {},
          "output_type": "execute_result"
        }
      ],
      "source": [
        "grid_search_summary, grid_search_pipelines = quick_search.score_summary(sort_by='mean_score')\n",
        "grid_search_summary "
      ]
    },
    {
      "cell_type": "markdown",
      "metadata": {
        "id": "tZcP3yXpIJ_O"
      },
      "source": [
        "Define the best clf pipeline"
      ]
    },
    {
      "cell_type": "code",
      "execution_count": 82,
      "metadata": {
        "id": "P7Qe2jFEIJ_O"
      },
      "outputs": [
        {
          "data": {
            "text/plain": [
              "Pipeline(steps=[('scaler', StandardScaler()),\n",
              "                ('model',\n",
              "                 RandomForestClassifier(max_depth=20, random_state=0))])"
            ]
          },
          "execution_count": 82,
          "metadata": {},
          "output_type": "execute_result"
        }
      ],
      "source": [
        "best_model = grid_search_summary.iloc[0, 0]\n",
        "pipeline_clf = grid_search_pipelines[best_model].best_estimator_\n",
        "pipeline_clf"
      ]
    },
    {
      "cell_type": "markdown",
      "metadata": {
        "id": "qXEXWvsb7Su0"
      },
      "source": [
        "## Assess feature importance"
      ]
    },
    {
      "cell_type": "code",
      "execution_count": 84,
      "metadata": {
        "id": "T8UGZ5bnIJ_P"
      },
      "outputs": [
        {
          "name": "stdout",
          "output_type": "stream",
          "text": [
            "* These are the 7 most important features in descending order. The model was trained on them: \n",
            "['close_ma20_diff', 'up_bb20_low_bb20_diff', 'close_ma100_diff', 'ma50_ma100_diff', 'hr', 'bb_status', 'market_state_lag1']\n"
          ]
        },
        {
          "data": {
            "image/png": "[encoded data removed]",
            "text/plain": [
              "<Figure size 640x480 with 1 Axes>"
            ]
          },
          "metadata": {},
          "output_type": "display_data"
        }
      ],
      "source": [
        "best_features = X_train.columns\n",
        "\n",
        "# create DataFrame to display feature importance\n",
        "df_feature_importance = (pd.DataFrame(data={\n",
        "    'Feature': best_features,\n",
        "    'Importance': pipeline_clf['model'].feature_importances_})\n",
        "    .sort_values(by='Importance', ascending=False)\n",
        ")\n",
        "\n",
        "\n",
        "# Most important features statement and plot\n",
        "print(f\"* These are the {len(best_features)} most important features in descending order. \"\n",
        "      f\"The model was trained on them: \\n{df_feature_importance['Feature'].to_list()}\")\n",
        "\n",
        "df_feature_importance.plot(kind='bar', x='Feature', y='Importance')\n",
        "plt.show()\n"
      ]
    },
    {
      "cell_type": "markdown",
      "metadata": {
        "id": "nQF20xan7VuK"
      },
      "source": [
        "## Evaluate Pipeline on Train and Test Sets"
      ]
    },
    {
      "cell_type": "markdown",
      "metadata": {},
      "source": [
        "Evaluation: We cross-check with metrics defined in the ML business case.\n",
        "* 80% Recall for trade, on train and test set.\n",
        "* 80% Precision for trade on train and test set. "
      ]
    },
    {
      "cell_type": "code",
      "execution_count": 85,
      "metadata": {
        "id": "1cpCj2lLHxB-"
      },
      "outputs": [
        {
          "name": "stdout",
          "output_type": "stream",
          "text": [
            "#### Train Set #### \n",
            "\n",
            "---  Confusion Matrix  ---\n",
            "                Actual sell Actual buy\n",
            "Prediction sell        1781          0\n",
            "Prediction buy            0       1781\n",
            "\n",
            "\n",
            "---  Classification Report  ---\n",
            "              precision    recall  f1-score   support\n",
            "\n",
            "        sell       1.00      1.00      1.00      1781\n",
            "         buy       1.00      1.00      1.00      1781\n",
            "\n",
            "    accuracy                           1.00      3562\n",
            "   macro avg       1.00      1.00      1.00      3562\n",
            "weighted avg       1.00      1.00      1.00      3562\n",
            " \n",
            "\n",
            "#### Test Set ####\n",
            "\n",
            "---  Confusion Matrix  ---\n",
            "                Actual sell Actual buy\n",
            "Prediction sell         340         83\n",
            "Prediction buy           82        347\n",
            "\n",
            "\n",
            "---  Classification Report  ---\n",
            "              precision    recall  f1-score   support\n",
            "\n",
            "        sell       0.80      0.81      0.80       422\n",
            "         buy       0.81      0.81      0.81       430\n",
            "\n",
            "    accuracy                           0.81       852\n",
            "   macro avg       0.81      0.81      0.81       852\n",
            "weighted avg       0.81      0.81      0.81       852\n",
            " \n",
            "\n"
          ]
        }
      ],
      "source": [
        "clf_performance(X_train=X_train, y_train=y_train,\n",
        "                X_test=X_test, y_test=y_test,\n",
        "                pipeline=pipeline_clf,\n",
        "                label_map= ['sell', 'buy'] \n",
        "                )"
      ]
    },
    {
      "cell_type": "markdown",
      "metadata": {
        "id": "oBVunRgBqIXQ"
      },
      "source": [
        "# Step 4: Push files to Repo"
      ]
    },
    {
      "cell_type": "markdown",
      "metadata": {
        "id": "yxnlKI5SJcoO"
      },
      "source": [
        "We will generate the following files\n",
        "* Train set\n",
        "* Test set\n",
        "* Data cleaning and Feature Engineering pipeline\n",
        "* Modeling pipeline\n",
        "* features importance plot"
      ]
    },
    {
      "cell_type": "code",
      "execution_count": 6,
      "metadata": {
        "id": "16bIOgs3J7OD"
      },
      "outputs": [
        {
          "name": "stdout",
          "output_type": "stream",
          "text": [
            "[WinError 183] Cannot create a file when that file already exists: 'c:\\\\Users\\\\sunny\\\\Desktop\\\\Development\\\\python\\\\NeuralPricing/outputs/predict_trade/v1'\n"
          ]
        }
      ],
      "source": [
        "import joblib\n",
        "import os\n",
        "\n",
        "version = 'v1'\n",
        "file_path = f'{parent_directory}/outputs/predict_trade/{version}'\n",
        "\n",
        "try:\n",
        "    os.makedirs(name=file_path)\n",
        "except Exception as e:\n",
        "    print(e)"
      ]
    },
    {
      "cell_type": "markdown",
      "metadata": {
        "id": "3e-gC6sa7hpj"
      },
      "source": [
        "## Train Set"
      ]
    },
    {
      "cell_type": "markdown",
      "metadata": {
        "id": "hHZUZKJ5JiKn"
      },
      "source": [
        "* note that the variables **are transformed already** in X_train and the shape is 8266 - after SMOTE was applied."
      ]
    },
    {
      "cell_type": "code",
      "execution_count": 7,
      "metadata": {
        "id": "Sc4fzrdTJno1"
      },
      "outputs": [
        {
          "ename": "NameError",
          "evalue": "name 'X_train' is not defined",
          "output_type": "error",
          "traceback": [
            "\u001b[1;31m---------------------------------------------------------------------------\u001b[0m",
            "\u001b[1;31mNameError\u001b[0m                                 Traceback (most recent call last)",
            "\u001b[1;32mc:\\Users\\sunny\\Desktop\\Development\\python\\NeuralPricing\\jupyter_notebooks\\05 - Modeling and Evaluation - Predict entry.ipynb Cell 107\u001b[0m line \u001b[0;36m1\n\u001b[1;32m----> <a href='vscode-notebook-cell:/c%3A/Users/sunny/Desktop/Development/python/NeuralPricing/jupyter_notebooks/05%20-%20Modeling%20and%20Evaluation%20-%20Predict%20entry.ipynb#Y211sZmlsZQ%3D%3D?line=0'>1</a>\u001b[0m \u001b[39mprint\u001b[39m(X_train\u001b[39m.\u001b[39mshape)\n\u001b[0;32m      <a href='vscode-notebook-cell:/c%3A/Users/sunny/Desktop/Development/python/NeuralPricing/jupyter_notebooks/05%20-%20Modeling%20and%20Evaluation%20-%20Predict%20entry.ipynb#Y211sZmlsZQ%3D%3D?line=1'>2</a>\u001b[0m X_train\u001b[39m.\u001b[39mhead()\n",
            "\u001b[1;31mNameError\u001b[0m: name 'X_train' is not defined"
          ]
        }
      ],
      "source": [
        "print(X_train.shape)\n",
        "X_train.head()"
      ]
    },
    {
      "cell_type": "code",
      "execution_count": 90,
      "metadata": {
        "id": "Qzq7DgVTJnv3"
      },
      "outputs": [],
      "source": [
        "X_train.to_csv(f\"{file_path}/X_train.csv\", index=False)"
      ]
    },
    {
      "cell_type": "code",
      "execution_count": 91,
      "metadata": {
        "id": "FMoT1cJ39g26"
      },
      "outputs": [],
      "source": [
        "y_train.to_csv(f\"{file_path}/y_train.csv\", index=False)"
      ]
    },
    {
      "cell_type": "markdown",
      "metadata": {
        "id": "OYatlgsj7pbB"
      },
      "source": [
        "## Test Set"
      ]
    },
    {
      "cell_type": "markdown",
      "metadata": {
        "id": "tEKp3-dJJn3p"
      },
      "source": [
        "* note that the variables are transformed already in X_test"
      ]
    },
    {
      "cell_type": "code",
      "execution_count": 92,
      "metadata": {
        "id": "9UMg2vPtJqxM"
      },
      "outputs": [
        {
          "name": "stdout",
          "output_type": "stream",
          "text": [
            "(852, 7)\n"
          ]
        },
        {
          "data": {
            "text/html": [
              "<div>\n",
              "<style scoped>\n",
              "    .dataframe tbody tr th:only-of-type {\n",
              "        vertical-align: middle;\n",
              "    }\n",
              "\n",
              "    .dataframe tbody tr th {\n",
              "        vertical-align: top;\n",
              "    }\n",
              "\n",
              "    .dataframe thead th {\n",
              "        text-align: right;\n",
              "    }\n",
              "</style>\n",
              "<table border=\"1\" class=\"dataframe\">\n",
              "  <thead>\n",
              "    <tr style=\"text-align: right;\">\n",
              "      <th></th>\n",
              "      <th>close_ma20_diff</th>\n",
              "      <th>close_ma100_diff</th>\n",
              "      <th>up_bb20_low_bb20_diff</th>\n",
              "      <th>ma50_ma100_diff</th>\n",
              "      <th>hr</th>\n",
              "      <th>bb_status</th>\n",
              "      <th>market_state_lag1</th>\n",
              "    </tr>\n",
              "  </thead>\n",
              "  <tbody>\n",
              "    <tr>\n",
              "      <th>1412</th>\n",
              "      <td>0.13965</td>\n",
              "      <td>-0.58064</td>\n",
              "      <td>1.092392</td>\n",
              "      <td>0.09966</td>\n",
              "      <td>14</td>\n",
              "      <td>0</td>\n",
              "      <td>1</td>\n",
              "    </tr>\n",
              "    <tr>\n",
              "      <th>916</th>\n",
              "      <td>-0.02260</td>\n",
              "      <td>0.20090</td>\n",
              "      <td>0.562292</td>\n",
              "      <td>0.20136</td>\n",
              "      <td>2</td>\n",
              "      <td>0</td>\n",
              "      <td>1</td>\n",
              "    </tr>\n",
              "    <tr>\n",
              "      <th>893</th>\n",
              "      <td>0.06765</td>\n",
              "      <td>0.55001</td>\n",
              "      <td>0.596813</td>\n",
              "      <td>0.11089</td>\n",
              "      <td>3</td>\n",
              "      <td>0</td>\n",
              "      <td>1</td>\n",
              "    </tr>\n",
              "    <tr>\n",
              "      <th>4119</th>\n",
              "      <td>0.11200</td>\n",
              "      <td>0.79482</td>\n",
              "      <td>0.459233</td>\n",
              "      <td>0.34004</td>\n",
              "      <td>9</td>\n",
              "      <td>0</td>\n",
              "      <td>0</td>\n",
              "    </tr>\n",
              "    <tr>\n",
              "      <th>1936</th>\n",
              "      <td>0.16745</td>\n",
              "      <td>-0.15861</td>\n",
              "      <td>0.863726</td>\n",
              "      <td>-0.05071</td>\n",
              "      <td>5</td>\n",
              "      <td>0</td>\n",
              "      <td>1</td>\n",
              "    </tr>\n",
              "  </tbody>\n",
              "</table>\n",
              "</div>"
            ],
            "text/plain": [
              "      close_ma20_diff  close_ma100_diff  up_bb20_low_bb20_diff  \\\n",
              "1412          0.13965          -0.58064               1.092392   \n",
              "916          -0.02260           0.20090               0.562292   \n",
              "893           0.06765           0.55001               0.596813   \n",
              "4119          0.11200           0.79482               0.459233   \n",
              "1936          0.16745          -0.15861               0.863726   \n",
              "\n",
              "      ma50_ma100_diff  hr  bb_status  market_state_lag1  \n",
              "1412          0.09966  14          0                  1  \n",
              "916           0.20136   2          0                  1  \n",
              "893           0.11089   3          0                  1  \n",
              "4119          0.34004   9          0                  0  \n",
              "1936         -0.05071   5          0                  1  "
            ]
          },
          "execution_count": 92,
          "metadata": {},
          "output_type": "execute_result"
        }
      ],
      "source": [
        "print(X_test.shape)\n",
        "X_test.head()"
      ]
    },
    {
      "cell_type": "code",
      "execution_count": 93,
      "metadata": {
        "id": "uz2OqPW6Jqzv"
      },
      "outputs": [],
      "source": [
        "X_test.to_csv(f\"{file_path}/X_test.csv\", index=False)"
      ]
    },
    {
      "cell_type": "code",
      "execution_count": 94,
      "metadata": {
        "id": "ap7fYYAm9xsj"
      },
      "outputs": [],
      "source": [
        "y_test.to_csv(f\"{file_path}/y_test.csv\", index=False)"
      ]
    },
    {
      "cell_type": "markdown",
      "metadata": {
        "id": "_ufHAplN7tdo"
      },
      "source": [
        "## ML Pipelines: Data Cleaning and Feat Eng pipeline and Modelling Pipeline"
      ]
    },
    {
      "cell_type": "markdown",
      "metadata": {
        "id": "XAbbAO2r248W"
      },
      "source": [
        "We will save 2 pipelines: \n",
        "* Both should be used in conjunction to predict Live Data.\n",
        "* To predict on Train Set, Test Set we use only pipeline_clf, since the data is already processed.\n",
        "\n",
        "\n",
        "\n",
        "Pipeline responsible for Data Cleaning and Feature Engineering.\n"
      ]
    },
    {
      "cell_type": "code",
      "execution_count": 95,
      "metadata": {
        "id": "XCcAlvoG3CRm"
      },
      "outputs": [
        {
          "data": {
            "text/plain": [
              "Pipeline(steps=[('OrdinalCategoricalEncoder',\n",
              "                 OrdinalEncoder(encoding_method='arbitrary',\n",
              "                                variables=['bb_status', 'market_state_lag1']))])"
            ]
          },
          "execution_count": 95,
          "metadata": {},
          "output_type": "execute_result"
        }
      ],
      "source": [
        "pipeline_data_cleaning_feat_eng"
      ]
    },
    {
      "cell_type": "code",
      "execution_count": 96,
      "metadata": {
        "id": "AaHdCf4HKBLg"
      },
      "outputs": [
        {
          "data": {
            "text/plain": [
              "['c:\\\\Users\\\\sunny\\\\Desktop\\\\Development\\\\python\\\\NeuralPricing/outputs/v1/usejpy_pipeline_data_cleaning.pkl']"
            ]
          },
          "execution_count": 96,
          "metadata": {},
          "output_type": "execute_result"
        }
      ],
      "source": [
        "joblib.dump(value=pipeline_data_cleaning_feat_eng ,\n",
        "            filename=f\"{file_path}/usdjpy_pipeline_data_cleaning.pkl\")"
      ]
    },
    {
      "cell_type": "markdown",
      "metadata": {
        "id": "XE-iU6TL3LVI"
      },
      "source": [
        "* Pipeline responsible for Feature Scaling, and Model"
      ]
    },
    {
      "cell_type": "code",
      "execution_count": 97,
      "metadata": {
        "id": "_zEBxfvBqI29"
      },
      "outputs": [
        {
          "data": {
            "text/plain": [
              "Pipeline(steps=[('scaler', StandardScaler()),\n",
              "                ('model',\n",
              "                 RandomForestClassifier(max_depth=20, random_state=0))])"
            ]
          },
          "execution_count": 97,
          "metadata": {},
          "output_type": "execute_result"
        }
      ],
      "source": [
        "pipeline_clf"
      ]
    },
    {
      "cell_type": "code",
      "execution_count": 98,
      "metadata": {
        "id": "ObL5Iz8tKdsZ"
      },
      "outputs": [
        {
          "data": {
            "text/plain": [
              "['c:\\\\Users\\\\sunny\\\\Desktop\\\\Development\\\\python\\\\NeuralPricing/outputs/v1/usdjpy_pipeline_model.pkl']"
            ]
          },
          "execution_count": 98,
          "metadata": {},
          "output_type": "execute_result"
        }
      ],
      "source": [
        "joblib.dump(value=pipeline_clf ,\n",
        "            filename=f\"{file_path}/usdjpy_pipeline_model.pkl\")"
      ]
    },
    {
      "cell_type": "markdown",
      "metadata": {
        "id": "yqEUyLG27v9N"
      },
      "source": [
        "## Feature Importance plot"
      ]
    },
    {
      "cell_type": "code",
      "execution_count": 99,
      "metadata": {
        "id": "wBiqB55L1Qhk"
      },
      "outputs": [
        {
          "data": {
            "image/png": "[encoded data removed]",
            "text/plain": [
              "<Figure size 640x480 with 1 Axes>"
            ]
          },
          "metadata": {},
          "output_type": "display_data"
        }
      ],
      "source": [
        "df_feature_importance.plot(kind='bar',x='Feature',y='Importance')\n",
        "plt.show()"
      ]
    },
    {
      "cell_type": "code",
      "execution_count": 100,
      "metadata": {
        "id": "NR0taWpn1RuD"
      },
      "outputs": [
        {
          "data": {
            "image/png": "[encoded data removed]",
            "text/plain": [
              "<Figure size 640x480 with 1 Axes>"
            ]
          },
          "metadata": {},
          "output_type": "display_data"
        }
      ],
      "source": [
        "df_feature_importance.plot(kind='bar', x='Feature', y='Importance')\n",
        "plt.savefig(f'{file_path}/features_importance.png', bbox_inches='tight')"
      ]
    },
    {
      "cell_type": "markdown",
      "metadata": {},
      "source": [
        "Good job, you should clear outputs, then run git commands to push files to the repo. Next, move on to Predict Tenure notebook"
      ]
    },
    {
      "cell_type": "markdown",
      "metadata": {},
      "source": [
        "# Tesing the model"
      ]
    },
    {
      "cell_type": "code",
      "execution_count": null,
      "metadata": {},
      "outputs": [],
      "source": [
        "print(X_test[:1])\n",
        "\n",
        "t = X_test[:1]\n",
        "t.iloc[0, t.columns.get_loc('close_ma20_diff')] = -0.0637\n",
        "t.iloc[0, t.columns.get_loc('trade_close_1_hr')] = 1\n",
        "print(t.iloc[0])\n",
        "\n",
        "y_pred = pipeline_clf.predict(t)\n",
        "print(y_pred)"
      ]
    },
    {
      "cell_type": "code",
      "execution_count": null,
      "metadata": {},
      "outputs": [],
      "source": [
        "import joblib\n",
        "import os\n",
        "y_pred = pipeline_clf.predict(X_test)\n",
        "y_df = pd.DataFrame(y_pred)\n",
        "print(y_df)\n",
        "version = 'v2'\n",
        "\n",
        "y_df.to_csv(f\"{output_folder}/y_pred.csv\", index=False)"
      ]
    },
    {
      "cell_type": "code",
      "execution_count": null,
      "metadata": {},
      "outputs": [
        {
          "name": "stdout",
          "output_type": "stream",
          "text": [
            "1412    1\n",
            "916     1\n",
            "893     1\n",
            "4119    0\n",
            "1936    0\n",
            "       ..\n",
            "4171    1\n",
            "2911    0\n",
            "3572    0\n",
            "3432    0\n",
            "3425    1\n",
            "Name: trade_close_4_hr, Length: 852, dtype: int64\n"
          ]
        }
      ],
      "source": [
        "print(y_test)"
      ]
    },
    {
      "cell_type": "markdown",
      "metadata": {},
      "source": [
        "---"
      ]
    }
  ],
  "metadata": {
    "accelerator": "GPU",
    "colab": {
      "name": "Modeling and Evaluation - Predict Customer Churn.ipynb",
      "provenance": []
    },
    "interpreter": {
      "hash": "8b8334dab9339717f727a1deaf837b322d7a41c20d15cc86be99a8e69ceec8ce"
    },
    "kernelspec": {
      "display_name": "Python 3.8.12 64-bit ('3.8.12': pyenv)",
      "name": "python3"
    },
    "language_info": {
      "codemirror_mode": {
        "name": "ipython",
        "version": 3
      },
      "file_extension": ".py",
      "mimetype": "text/x-python",
      "name": "python",
      "nbconvert_exporter": "python",
      "pygments_lexer": "ipython3",
      "version": "3.8.11"
    },
    "orig_nbformat": 2
  },
  "nbformat": 4,
  "nbformat_minor": 2
}
